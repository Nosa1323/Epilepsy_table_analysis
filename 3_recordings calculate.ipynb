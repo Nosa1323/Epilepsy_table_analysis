{
 "cells": [
  {
   "cell_type": "markdown",
   "metadata": {},
   "source": [
    "Here, we need to analyse data from recordings. In particular, we should to measure amplitude ratio, decay time of 1 and 5 transporter"
   ]
  },
  {
   "cell_type": "code",
   "execution_count": 1,
   "metadata": {},
   "outputs": [],
   "source": [
    "from IPython import get_ipython\n",
    "get_ipython().magic('reset -sf') "
   ]
  },
  {
   "cell_type": "code",
   "execution_count": 2,
   "metadata": {},
   "outputs": [],
   "source": [
    "import pandas as pd\n",
    "import glob\n",
    "import numpy as np\n",
    "import matplotlib.pyplot as plt\n",
    "from matplotlib.patches import PathPatch\n",
    "import seaborn as sns\n",
    "import matplotlib.ticker as ticker\n",
    "from statannot import add_stat_annotation\n",
    "\n",
    "from modules.graphics_handler import boxplot_fine_view,adjust_box_widths, boxplot_hue\n",
    "from modules.data_loader import file_extraction, file_folder_creator,stat_out"
   ]
  },
  {
   "cell_type": "markdown",
   "metadata": {},
   "source": [
    "Step 1. Import data from excel to pandas df"
   ]
  },
  {
   "cell_type": "code",
   "execution_count": 3,
   "metadata": {},
   "outputs": [
    {
     "data": {
      "text/html": [
       "<div>\n",
       "<style scoped>\n",
       "    .dataframe tbody tr th:only-of-type {\n",
       "        vertical-align: middle;\n",
       "    }\n",
       "\n",
       "    .dataframe tbody tr th {\n",
       "        vertical-align: top;\n",
       "    }\n",
       "\n",
       "    .dataframe thead th {\n",
       "        text-align: right;\n",
       "    }\n",
       "</style>\n",
       "<table border=\"1\" class=\"dataframe\">\n",
       "  <thead>\n",
       "    <tr style=\"text-align: right;\">\n",
       "      <th></th>\n",
       "      <th>cell_num</th>\n",
       "      <th>IGluT(5)</th>\n",
       "      <th>IGluT(1)</th>\n",
       "      <th>τdecay IGluT(5)</th>\n",
       "      <th>τdecay IGluT(1)</th>\n",
       "      <th>Group</th>\n",
       "    </tr>\n",
       "  </thead>\n",
       "  <tbody>\n",
       "    <tr>\n",
       "      <th>0</th>\n",
       "      <td>180720_017</td>\n",
       "      <td>-90.914145</td>\n",
       "      <td>-57.691506</td>\n",
       "      <td>12.338245</td>\n",
       "      <td>9.486606</td>\n",
       "      <td>Контроль</td>\n",
       "    </tr>\n",
       "    <tr>\n",
       "      <th>1</th>\n",
       "      <td>180720_020</td>\n",
       "      <td>-34.242714</td>\n",
       "      <td>-19.659381</td>\n",
       "      <td>14.291741</td>\n",
       "      <td>11.415268</td>\n",
       "      <td>Контроль</td>\n",
       "    </tr>\n",
       "    <tr>\n",
       "      <th>2</th>\n",
       "      <td>180724_015</td>\n",
       "      <td>-77.306295</td>\n",
       "      <td>-56.221680</td>\n",
       "      <td>11.211063</td>\n",
       "      <td>12.065621</td>\n",
       "      <td>Контроль</td>\n",
       "    </tr>\n",
       "    <tr>\n",
       "      <th>3</th>\n",
       "      <td>180725_005</td>\n",
       "      <td>-30.638028</td>\n",
       "      <td>-18.826480</td>\n",
       "      <td>10.472696</td>\n",
       "      <td>9.553450</td>\n",
       "      <td>Контроль</td>\n",
       "    </tr>\n",
       "    <tr>\n",
       "      <th>4</th>\n",
       "      <td>CTRL_FOR_OLGA_2</td>\n",
       "      <td>-9.960000</td>\n",
       "      <td>-8.280000</td>\n",
       "      <td>8.812230</td>\n",
       "      <td>8.371306</td>\n",
       "      <td>Контроль</td>\n",
       "    </tr>\n",
       "  </tbody>\n",
       "</table>\n",
       "</div>"
      ],
      "text/plain": [
       "          cell_num   IGluT(5)   IGluT(1)  τdecay IGluT(5)  τdecay IGluT(1)  \\\n",
       "0       180720_017 -90.914145 -57.691506        12.338245         9.486606   \n",
       "1       180720_020 -34.242714 -19.659381        14.291741        11.415268   \n",
       "2       180724_015 -77.306295 -56.221680        11.211063        12.065621   \n",
       "3       180725_005 -30.638028 -18.826480        10.472696         9.553450   \n",
       "4  CTRL_FOR_OLGA_2  -9.960000  -8.280000         8.812230         8.371306   \n",
       "\n",
       "      Group  \n",
       "0  Контроль  \n",
       "1  Контроль  \n",
       "2  Контроль  \n",
       "3  Контроль  \n",
       "4  Контроль  "
      ]
     },
     "execution_count": 3,
     "metadata": {},
     "output_type": "execute_result"
    }
   ],
   "source": [
    "data = pd.read_excel('data\\\\rec_count.xlsx')\n",
    "data.head()"
   ]
  },
  {
   "cell_type": "markdown",
   "metadata": {},
   "source": [
    "Create the folder to save figures"
   ]
  },
  {
   "cell_type": "code",
   "execution_count": 4,
   "metadata": {},
   "outputs": [
    {
     "data": {
      "text/plain": [
       "'Folder created'"
      ]
     },
     "execution_count": 4,
     "metadata": {},
     "output_type": "execute_result"
    }
   ],
   "source": [
    "file_folder_creator('figs/rec_count')"
   ]
  },
  {
   "cell_type": "markdown",
   "metadata": {},
   "source": [
    "Step 2. Calculate amplitude ratio and decay time"
   ]
  },
  {
   "cell_type": "markdown",
   "metadata": {},
   "source": [
    "Calculate amplitude and decay time ratio as ratio IGluT(5) to IGluT(1)"
   ]
  },
  {
   "cell_type": "code",
   "execution_count": 5,
   "metadata": {},
   "outputs": [
    {
     "data": {
      "text/html": [
       "<div>\n",
       "<style scoped>\n",
       "    .dataframe tbody tr th:only-of-type {\n",
       "        vertical-align: middle;\n",
       "    }\n",
       "\n",
       "    .dataframe tbody tr th {\n",
       "        vertical-align: top;\n",
       "    }\n",
       "\n",
       "    .dataframe thead th {\n",
       "        text-align: right;\n",
       "    }\n",
       "</style>\n",
       "<table border=\"1\" class=\"dataframe\">\n",
       "  <thead>\n",
       "    <tr style=\"text-align: right;\">\n",
       "      <th></th>\n",
       "      <th>cell_num</th>\n",
       "      <th>IGluT(5)</th>\n",
       "      <th>IGluT(1)</th>\n",
       "      <th>τdecay IGluT(5)</th>\n",
       "      <th>τdecay IGluT(1)</th>\n",
       "      <th>Group</th>\n",
       "      <th>IGluT(5)/IGluT(1)</th>\n",
       "      <th>τdecay IGluT(5)/τdecay IGluT(1)</th>\n",
       "    </tr>\n",
       "  </thead>\n",
       "  <tbody>\n",
       "    <tr>\n",
       "      <th>0</th>\n",
       "      <td>180720_017</td>\n",
       "      <td>-90.914145</td>\n",
       "      <td>-57.691506</td>\n",
       "      <td>12.338245</td>\n",
       "      <td>9.486606</td>\n",
       "      <td>Контроль</td>\n",
       "      <td>1.575867</td>\n",
       "      <td>1.300596</td>\n",
       "    </tr>\n",
       "    <tr>\n",
       "      <th>1</th>\n",
       "      <td>180720_020</td>\n",
       "      <td>-34.242714</td>\n",
       "      <td>-19.659381</td>\n",
       "      <td>14.291741</td>\n",
       "      <td>11.415268</td>\n",
       "      <td>Контроль</td>\n",
       "      <td>1.741800</td>\n",
       "      <td>1.251985</td>\n",
       "    </tr>\n",
       "    <tr>\n",
       "      <th>2</th>\n",
       "      <td>180724_015</td>\n",
       "      <td>-77.306295</td>\n",
       "      <td>-56.221680</td>\n",
       "      <td>11.211063</td>\n",
       "      <td>12.065621</td>\n",
       "      <td>Контроль</td>\n",
       "      <td>1.375026</td>\n",
       "      <td>0.929174</td>\n",
       "    </tr>\n",
       "    <tr>\n",
       "      <th>3</th>\n",
       "      <td>180725_005</td>\n",
       "      <td>-30.638028</td>\n",
       "      <td>-18.826480</td>\n",
       "      <td>10.472696</td>\n",
       "      <td>9.553450</td>\n",
       "      <td>Контроль</td>\n",
       "      <td>1.627390</td>\n",
       "      <td>1.096221</td>\n",
       "    </tr>\n",
       "    <tr>\n",
       "      <th>4</th>\n",
       "      <td>CTRL_FOR_OLGA_2</td>\n",
       "      <td>-9.960000</td>\n",
       "      <td>-8.280000</td>\n",
       "      <td>8.812230</td>\n",
       "      <td>8.371306</td>\n",
       "      <td>Контроль</td>\n",
       "      <td>1.202899</td>\n",
       "      <td>1.052671</td>\n",
       "    </tr>\n",
       "  </tbody>\n",
       "</table>\n",
       "</div>"
      ],
      "text/plain": [
       "          cell_num   IGluT(5)   IGluT(1)  τdecay IGluT(5)  τdecay IGluT(1)  \\\n",
       "0       180720_017 -90.914145 -57.691506        12.338245         9.486606   \n",
       "1       180720_020 -34.242714 -19.659381        14.291741        11.415268   \n",
       "2       180724_015 -77.306295 -56.221680        11.211063        12.065621   \n",
       "3       180725_005 -30.638028 -18.826480        10.472696         9.553450   \n",
       "4  CTRL_FOR_OLGA_2  -9.960000  -8.280000         8.812230         8.371306   \n",
       "\n",
       "      Group  IGluT(5)/IGluT(1)  τdecay IGluT(5)/τdecay IGluT(1)  \n",
       "0  Контроль           1.575867                         1.300596  \n",
       "1  Контроль           1.741800                         1.251985  \n",
       "2  Контроль           1.375026                         0.929174  \n",
       "3  Контроль           1.627390                         1.096221  \n",
       "4  Контроль           1.202899                         1.052671  "
      ]
     },
     "execution_count": 5,
     "metadata": {},
     "output_type": "execute_result"
    }
   ],
   "source": [
    "data['IGluT(5)/IGluT(1)'] = data['IGluT(5)']/data['IGluT(1)']\n",
    "data ['τdecay IGluT(5)/τdecay IGluT(1)'] = data['τdecay IGluT(5)']/data['τdecay IGluT(1)']\n",
    "data.head()"
   ]
  },
  {
   "cell_type": "markdown",
   "metadata": {},
   "source": [
    "Transform df to create hue-groupped boxplot"
   ]
  },
  {
   "cell_type": "code",
   "execution_count": 6,
   "metadata": {},
   "outputs": [
    {
     "data": {
      "text/html": [
       "<div>\n",
       "<style scoped>\n",
       "    .dataframe tbody tr th:only-of-type {\n",
       "        vertical-align: middle;\n",
       "    }\n",
       "\n",
       "    .dataframe tbody tr th {\n",
       "        vertical-align: top;\n",
       "    }\n",
       "\n",
       "    .dataframe thead th {\n",
       "        text-align: right;\n",
       "    }\n",
       "</style>\n",
       "<table border=\"1\" class=\"dataframe\">\n",
       "  <thead>\n",
       "    <tr style=\"text-align: right;\">\n",
       "      <th></th>\n",
       "      <th>Group</th>\n",
       "      <th></th>\n",
       "      <th>Амплитуда, pA</th>\n",
       "    </tr>\n",
       "  </thead>\n",
       "  <tbody>\n",
       "    <tr>\n",
       "      <th>0</th>\n",
       "      <td>Контроль</td>\n",
       "      <td>IGluT(1)</td>\n",
       "      <td>-57.691506</td>\n",
       "    </tr>\n",
       "    <tr>\n",
       "      <th>1</th>\n",
       "      <td>Контроль</td>\n",
       "      <td>IGluT(1)</td>\n",
       "      <td>-19.659381</td>\n",
       "    </tr>\n",
       "    <tr>\n",
       "      <th>2</th>\n",
       "      <td>Контроль</td>\n",
       "      <td>IGluT(1)</td>\n",
       "      <td>-56.221680</td>\n",
       "    </tr>\n",
       "    <tr>\n",
       "      <th>3</th>\n",
       "      <td>Контроль</td>\n",
       "      <td>IGluT(1)</td>\n",
       "      <td>-18.826480</td>\n",
       "    </tr>\n",
       "    <tr>\n",
       "      <th>4</th>\n",
       "      <td>Контроль</td>\n",
       "      <td>IGluT(1)</td>\n",
       "      <td>-8.280000</td>\n",
       "    </tr>\n",
       "  </tbody>\n",
       "</table>\n",
       "</div>"
      ],
      "text/plain": [
       "      Group            Амплитуда, pA\n",
       "0  Контроль  IGluT(1)     -57.691506\n",
       "1  Контроль  IGluT(1)     -19.659381\n",
       "2  Контроль  IGluT(1)     -56.221680\n",
       "3  Контроль  IGluT(1)     -18.826480\n",
       "4  Контроль  IGluT(1)      -8.280000"
      ]
     },
     "execution_count": 6,
     "metadata": {},
     "output_type": "execute_result"
    }
   ],
   "source": [
    "amplitude = pd.melt (data, id_vars= ['Group'], \n",
    "                            value_vars=['IGluT(1)','IGluT(5)'],\n",
    "                            var_name= '', value_name= 'Амплитуда, pA')\n",
    "amplitude.head()"
   ]
  },
  {
   "cell_type": "markdown",
   "metadata": {},
   "source": [
    "Bulid the boxplot"
   ]
  },
  {
   "cell_type": "code",
   "execution_count": 8,
   "metadata": {},
   "outputs": [
    {
     "name": "stdout",
     "output_type": "stream",
     "text": [
      "p-value annotation legend:\n",
      "ns: 5.00e-02 < p <= 1.00e+00\n",
      "*: 1.00e-02 < p <= 5.00e-02\n",
      "**: 1.00e-03 < p <= 1.00e-02\n",
      "***: 1.00e-04 < p <= 1.00e-03\n",
      "****: p <= 1.00e-04\n",
      "\n",
      "IGluT(5)_Контроль v.s. IGluT(5)_ЭС: Mann-Whitney-Wilcoxon test two-sided, P_val=7.748e-01 U_stat=1.850e+01\n",
      "IGluT(1)_Контроль v.s. IGluT(1)_ЭС: Mann-Whitney-Wilcoxon test two-sided, P_val=8.862e-01 U_stat=2.250e+01\n"
     ]
    },
    {
     "data": {
      "image/png": "[encoded data removed]",
      "text/plain": [
       "<Figure size 504x216 with 1 Axes>"
      ]
     },
     "metadata": {
      "needs_background": "light"
     },
     "output_type": "display_data"
    }
   ],
   "source": [
    "stat = boxplot_hue(data=amplitude, x = '', y='Амплитуда, pA', hue='Group',\n",
    "                box_pairs =  [(('IGluT(1)','Контроль' ),\n",
    "                                ('IGluT(1)','ЭС')),\n",
    "                                (('IGluT(5)','Контроль'),\n",
    "                                ('IGluT(5)','ЭС'))],\n",
    "                figname = 'амплитуды',\n",
    "                big_tick = 20, \n",
    "                ylim = [-100, 0], \n",
    "                figsize=(7,3),\n",
    "                loc='outside')"
   ]
  },
  {
   "cell_type": "markdown",
   "metadata": {},
   "source": [
    "Import statistics to df"
   ]
  },
  {
   "cell_type": "code",
   "execution_count": 9,
   "metadata": {},
   "outputs": [
    {
     "data": {
      "text/html": [
       "<div>\n",
       "<style scoped>\n",
       "    .dataframe tbody tr th:only-of-type {\n",
       "        vertical-align: middle;\n",
       "    }\n",
       "\n",
       "    .dataframe tbody tr th {\n",
       "        vertical-align: top;\n",
       "    }\n",
       "\n",
       "    .dataframe thead th {\n",
       "        text-align: right;\n",
       "    }\n",
       "</style>\n",
       "<table border=\"1\" class=\"dataframe\">\n",
       "  <thead>\n",
       "    <tr style=\"text-align: right;\">\n",
       "      <th></th>\n",
       "      <th>p_val</th>\n",
       "      <th>u_stat</th>\n",
       "    </tr>\n",
       "  </thead>\n",
       "  <tbody>\n",
       "    <tr>\n",
       "      <th>IGluT(1)</th>\n",
       "      <td>7.748e-01</td>\n",
       "      <td>1.850e+01</td>\n",
       "    </tr>\n",
       "    <tr>\n",
       "      <th>IGluT(5)</th>\n",
       "      <td>8.862e-01</td>\n",
       "      <td>2.250e+01</td>\n",
       "    </tr>\n",
       "  </tbody>\n",
       "</table>\n",
       "</div>"
      ],
      "text/plain": [
       "              p_val     u_stat\n",
       "IGluT(1)  7.748e-01  1.850e+01\n",
       "IGluT(5)  8.862e-01  2.250e+01"
      ]
     },
     "execution_count": 9,
     "metadata": {},
     "output_type": "execute_result"
    }
   ],
   "source": [
    "stat_output = stat_out(stat, index = ['IGluT(1)', 'IGluT(5)'])\n",
    "stat_output"
   ]
  },
  {
   "cell_type": "markdown",
   "metadata": {},
   "source": [
    "Repeat these procedures for remaining features: 'IGluT(5)/IGluT(1)', 'τdecay IGluT(1)', 'τdecay IGluT(5)', 'τdecay IGluT(5)/τdecay IGluT(1)'"
   ]
  },
  {
   "cell_type": "code",
   "execution_count": 10,
   "metadata": {},
   "outputs": [
    {
     "data": {
      "text/html": [
       "<div>\n",
       "<style scoped>\n",
       "    .dataframe tbody tr th:only-of-type {\n",
       "        vertical-align: middle;\n",
       "    }\n",
       "\n",
       "    .dataframe tbody tr th {\n",
       "        vertical-align: top;\n",
       "    }\n",
       "\n",
       "    .dataframe thead th {\n",
       "        text-align: right;\n",
       "    }\n",
       "</style>\n",
       "<table border=\"1\" class=\"dataframe\">\n",
       "  <thead>\n",
       "    <tr style=\"text-align: right;\">\n",
       "      <th></th>\n",
       "      <th>Group</th>\n",
       "      <th></th>\n",
       "      <th>Отношение амплитуд</th>\n",
       "    </tr>\n",
       "  </thead>\n",
       "  <tbody>\n",
       "    <tr>\n",
       "      <th>0</th>\n",
       "      <td>Контроль</td>\n",
       "      <td>IGluT(5)/IGluT(1)</td>\n",
       "      <td>1.575867</td>\n",
       "    </tr>\n",
       "    <tr>\n",
       "      <th>1</th>\n",
       "      <td>Контроль</td>\n",
       "      <td>IGluT(5)/IGluT(1)</td>\n",
       "      <td>1.741800</td>\n",
       "    </tr>\n",
       "    <tr>\n",
       "      <th>2</th>\n",
       "      <td>Контроль</td>\n",
       "      <td>IGluT(5)/IGluT(1)</td>\n",
       "      <td>1.375026</td>\n",
       "    </tr>\n",
       "    <tr>\n",
       "      <th>3</th>\n",
       "      <td>Контроль</td>\n",
       "      <td>IGluT(5)/IGluT(1)</td>\n",
       "      <td>1.627390</td>\n",
       "    </tr>\n",
       "    <tr>\n",
       "      <th>4</th>\n",
       "      <td>Контроль</td>\n",
       "      <td>IGluT(5)/IGluT(1)</td>\n",
       "      <td>1.202899</td>\n",
       "    </tr>\n",
       "  </tbody>\n",
       "</table>\n",
       "</div>"
      ],
      "text/plain": [
       "      Group                     Отношение амплитуд\n",
       "0  Контроль  IGluT(5)/IGluT(1)            1.575867\n",
       "1  Контроль  IGluT(5)/IGluT(1)            1.741800\n",
       "2  Контроль  IGluT(5)/IGluT(1)            1.375026\n",
       "3  Контроль  IGluT(5)/IGluT(1)            1.627390\n",
       "4  Контроль  IGluT(5)/IGluT(1)            1.202899"
      ]
     },
     "execution_count": 10,
     "metadata": {},
     "output_type": "execute_result"
    }
   ],
   "source": [
    "amplitude_relation = pd.melt (data, id_vars= ['Group'], \n",
    "                            value_vars=['IGluT(5)/IGluT(1)'],\n",
    "                            var_name= '', value_name= 'Отношение амплитуд')\n",
    "amplitude_relation.head()"
   ]
  },
  {
   "cell_type": "code",
   "execution_count": 11,
   "metadata": {},
   "outputs": [
    {
     "name": "stdout",
     "output_type": "stream",
     "text": [
      "p-value annotation legend:\n",
      "ns: 5.00e-02 < p <= 1.00e+00\n",
      "*: 1.00e-02 < p <= 5.00e-02\n",
      "**: 1.00e-03 < p <= 1.00e-02\n",
      "***: 1.00e-04 < p <= 1.00e-03\n",
      "****: p <= 1.00e-04\n",
      "\n",
      "IGluT(5)/IGluT(1)_Контроль v.s. IGluT(5)/IGluT(1)_ЭС: Mann-Whitney-Wilcoxon test two-sided, P_val=8.604e-02 U_stat=3.350e+01\n"
     ]
    },
    {
     "data": {
      "image/png": "[encoded data removed]",
      "text/plain": [
       "<Figure size 360x216 with 1 Axes>"
      ]
     },
     "metadata": {},
     "output_type": "display_data"
    }
   ],
   "source": [
    "stat = boxplot_hue(data=amplitude_relation, x = '', y='Отношение амплитуд', hue='Group',\n",
    "                box_pairs =  [(('IGluT(5)/IGluT(1)','Контроль' ),\n",
    "                                ('IGluT(5)/IGluT(1)','ЭС'))],\n",
    "                figname = 'отношения амплитуд',\n",
    "                big_tick = 0.5, \n",
    "                ylim = [0.5, 2], \n",
    "                figsize=(5,3),\n",
    "                loc='outside')"
   ]
  },
  {
   "cell_type": "code",
   "execution_count": 14,
   "metadata": {},
   "outputs": [
    {
     "data": {
      "text/html": [
       "<div>\n",
       "<style scoped>\n",
       "    .dataframe tbody tr th:only-of-type {\n",
       "        vertical-align: middle;\n",
       "    }\n",
       "\n",
       "    .dataframe tbody tr th {\n",
       "        vertical-align: top;\n",
       "    }\n",
       "\n",
       "    .dataframe thead th {\n",
       "        text-align: right;\n",
       "    }\n",
       "</style>\n",
       "<table border=\"1\" class=\"dataframe\">\n",
       "  <thead>\n",
       "    <tr style=\"text-align: right;\">\n",
       "      <th></th>\n",
       "      <th>p_val</th>\n",
       "      <th>u_stat</th>\n",
       "    </tr>\n",
       "  </thead>\n",
       "  <tbody>\n",
       "    <tr>\n",
       "      <th>IGluT(1)</th>\n",
       "      <td>7.748e-01</td>\n",
       "      <td>1.850e+01</td>\n",
       "    </tr>\n",
       "    <tr>\n",
       "      <th>IGluT(5)</th>\n",
       "      <td>8.862e-01</td>\n",
       "      <td>2.250e+01</td>\n",
       "    </tr>\n",
       "    <tr>\n",
       "      <th>IGluT(5)/IGluT(1)</th>\n",
       "      <td>8.604e-02</td>\n",
       "      <td>3.350e+01</td>\n",
       "    </tr>\n",
       "  </tbody>\n",
       "</table>\n",
       "</div>"
      ],
      "text/plain": [
       "                       p_val     u_stat\n",
       "IGluT(1)           7.748e-01  1.850e+01\n",
       "IGluT(5)           8.862e-01  2.250e+01\n",
       "IGluT(5)/IGluT(1)  8.604e-02  3.350e+01"
      ]
     },
     "execution_count": 14,
     "metadata": {},
     "output_type": "execute_result"
    }
   ],
   "source": [
    "stat_output = pd.concat ([stat_output, stat_out(stat, index = ['IGluT(5)/IGluT(1)'])])\n",
    "stat_output"
   ]
  },
  {
   "cell_type": "code",
   "execution_count": 16,
   "metadata": {},
   "outputs": [
    {
     "data": {
      "text/html": [
       "<div>\n",
       "<style scoped>\n",
       "    .dataframe tbody tr th:only-of-type {\n",
       "        vertical-align: middle;\n",
       "    }\n",
       "\n",
       "    .dataframe tbody tr th {\n",
       "        vertical-align: top;\n",
       "    }\n",
       "\n",
       "    .dataframe thead th {\n",
       "        text-align: right;\n",
       "    }\n",
       "</style>\n",
       "<table border=\"1\" class=\"dataframe\">\n",
       "  <thead>\n",
       "    <tr style=\"text-align: right;\">\n",
       "      <th></th>\n",
       "      <th>Group</th>\n",
       "      <th></th>\n",
       "      <th>Время затухания, мс</th>\n",
       "    </tr>\n",
       "  </thead>\n",
       "  <tbody>\n",
       "    <tr>\n",
       "      <th>0</th>\n",
       "      <td>Контроль</td>\n",
       "      <td>τdecay IGluT(1)</td>\n",
       "      <td>9.486606</td>\n",
       "    </tr>\n",
       "    <tr>\n",
       "      <th>1</th>\n",
       "      <td>Контроль</td>\n",
       "      <td>τdecay IGluT(1)</td>\n",
       "      <td>11.415268</td>\n",
       "    </tr>\n",
       "    <tr>\n",
       "      <th>2</th>\n",
       "      <td>Контроль</td>\n",
       "      <td>τdecay IGluT(1)</td>\n",
       "      <td>12.065621</td>\n",
       "    </tr>\n",
       "    <tr>\n",
       "      <th>3</th>\n",
       "      <td>Контроль</td>\n",
       "      <td>τdecay IGluT(1)</td>\n",
       "      <td>9.553450</td>\n",
       "    </tr>\n",
       "    <tr>\n",
       "      <th>4</th>\n",
       "      <td>Контроль</td>\n",
       "      <td>τdecay IGluT(1)</td>\n",
       "      <td>8.371306</td>\n",
       "    </tr>\n",
       "  </tbody>\n",
       "</table>\n",
       "</div>"
      ],
      "text/plain": [
       "      Group                   Время затухания, мс\n",
       "0  Контроль  τdecay IGluT(1)             9.486606\n",
       "1  Контроль  τdecay IGluT(1)            11.415268\n",
       "2  Контроль  τdecay IGluT(1)            12.065621\n",
       "3  Контроль  τdecay IGluT(1)             9.553450\n",
       "4  Контроль  τdecay IGluT(1)             8.371306"
      ]
     },
     "execution_count": 16,
     "metadata": {},
     "output_type": "execute_result"
    }
   ],
   "source": [
    "decay_time = pd.melt (data, id_vars= ['Group'], \n",
    "                            value_vars=['τdecay IGluT(1)', 'τdecay IGluT(5)'],\n",
    "                            var_name= '', value_name= 'Время затухания, мс')\n",
    "decay_time.head()"
   ]
  },
  {
   "cell_type": "code",
   "execution_count": 26,
   "metadata": {},
   "outputs": [
    {
     "name": "stdout",
     "output_type": "stream",
     "text": [
      "p-value annotation legend:\n",
      "ns: 5.00e-02 < p <= 1.00e+00\n",
      "*: 1.00e-02 < p <= 5.00e-02\n",
      "**: 1.00e-03 < p <= 1.00e-02\n",
      "***: 1.00e-04 < p <= 1.00e-03\n",
      "****: p <= 1.00e-04\n",
      "\n",
      "τdecay IGluT(5)_Контроль v.s. τdecay IGluT(5)_ЭС: Mann-Whitney-Wilcoxon test two-sided, P_val=4.452e-01 U_stat=1.500e+01\n",
      "τdecay IGluT(1)_Контроль v.s. τdecay IGluT(1)_ЭС: Mann-Whitney-Wilcoxon test two-sided, P_val=5.338e-01 U_stat=1.600e+01\n"
     ]
    },
    {
     "data": {
      "image/png": "[encoded data removed]",
      "text/plain": [
       "<Figure size 504x216 with 1 Axes>"
      ]
     },
     "metadata": {},
     "output_type": "display_data"
    }
   ],
   "source": [
    "stat = boxplot_hue(data=decay_time, x = '', y='Время затухания, мс', hue='Group',\n",
    "                box_pairs =  [(('τdecay IGluT(1)','Контроль' ),\n",
    "                                ('τdecay IGluT(1)','ЭС')),\n",
    "                                (('τdecay IGluT(5)','Контроль'), \n",
    "                                 ('τdecay IGluT(5)','ЭС'))],\n",
    "                figname = 'время затухания',\n",
    "                big_tick = 5, \n",
    "                ylim = [5, 20], \n",
    "                figsize=(7,3),\n",
    "                loc='outside')"
   ]
  },
  {
   "cell_type": "code",
   "execution_count": 27,
   "metadata": {},
   "outputs": [
    {
     "data": {
      "text/html": [
       "<div>\n",
       "<style scoped>\n",
       "    .dataframe tbody tr th:only-of-type {\n",
       "        vertical-align: middle;\n",
       "    }\n",
       "\n",
       "    .dataframe tbody tr th {\n",
       "        vertical-align: top;\n",
       "    }\n",
       "\n",
       "    .dataframe thead th {\n",
       "        text-align: right;\n",
       "    }\n",
       "</style>\n",
       "<table border=\"1\" class=\"dataframe\">\n",
       "  <thead>\n",
       "    <tr style=\"text-align: right;\">\n",
       "      <th></th>\n",
       "      <th>p_val</th>\n",
       "      <th>u_stat</th>\n",
       "    </tr>\n",
       "  </thead>\n",
       "  <tbody>\n",
       "    <tr>\n",
       "      <th>IGluT(1)</th>\n",
       "      <td>7.748e-01</td>\n",
       "      <td>1.850e+01</td>\n",
       "    </tr>\n",
       "    <tr>\n",
       "      <th>IGluT(5)</th>\n",
       "      <td>8.862e-01</td>\n",
       "      <td>2.250e+01</td>\n",
       "    </tr>\n",
       "    <tr>\n",
       "      <th>IGluT(5)/IGluT(1)</th>\n",
       "      <td>8.604e-02</td>\n",
       "      <td>3.350e+01</td>\n",
       "    </tr>\n",
       "    <tr>\n",
       "      <th>τdecay IGluT(1)</th>\n",
       "      <td>4.452e-01</td>\n",
       "      <td>1.500e+01</td>\n",
       "    </tr>\n",
       "    <tr>\n",
       "      <th>τdecay IGluT(5)</th>\n",
       "      <td>5.338e-01</td>\n",
       "      <td>1.600e+01</td>\n",
       "    </tr>\n",
       "  </tbody>\n",
       "</table>\n",
       "</div>"
      ],
      "text/plain": [
       "                       p_val     u_stat\n",
       "IGluT(1)           7.748e-01  1.850e+01\n",
       "IGluT(5)           8.862e-01  2.250e+01\n",
       "IGluT(5)/IGluT(1)  8.604e-02  3.350e+01\n",
       "τdecay IGluT(1)    4.452e-01  1.500e+01\n",
       "τdecay IGluT(5)    5.338e-01  1.600e+01"
      ]
     },
     "execution_count": 27,
     "metadata": {},
     "output_type": "execute_result"
    }
   ],
   "source": [
    "stat_output = pd.concat ([stat_output, stat_out(stat, index = ['τdecay IGluT(1)', 'τdecay IGluT(5)'])])\n",
    "stat_output"
   ]
  },
  {
   "cell_type": "code",
   "execution_count": 48,
   "metadata": {},
   "outputs": [
    {
     "data": {
      "text/html": [
       "<div>\n",
       "<style scoped>\n",
       "    .dataframe tbody tr th:only-of-type {\n",
       "        vertical-align: middle;\n",
       "    }\n",
       "\n",
       "    .dataframe tbody tr th {\n",
       "        vertical-align: top;\n",
       "    }\n",
       "\n",
       "    .dataframe thead th {\n",
       "        text-align: right;\n",
       "    }\n",
       "</style>\n",
       "<table border=\"1\" class=\"dataframe\">\n",
       "  <thead>\n",
       "    <tr style=\"text-align: right;\">\n",
       "      <th></th>\n",
       "      <th>Group</th>\n",
       "      <th></th>\n",
       "      <th>Отношение времени затухания</th>\n",
       "    </tr>\n",
       "  </thead>\n",
       "  <tbody>\n",
       "    <tr>\n",
       "      <th>0</th>\n",
       "      <td>Контроль</td>\n",
       "      <td>τdecay IGluT(5)/τdecay IGluT(1)</td>\n",
       "      <td>1.300596</td>\n",
       "    </tr>\n",
       "    <tr>\n",
       "      <th>1</th>\n",
       "      <td>Контроль</td>\n",
       "      <td>τdecay IGluT(5)/τdecay IGluT(1)</td>\n",
       "      <td>1.251985</td>\n",
       "    </tr>\n",
       "    <tr>\n",
       "      <th>2</th>\n",
       "      <td>Контроль</td>\n",
       "      <td>τdecay IGluT(5)/τdecay IGluT(1)</td>\n",
       "      <td>0.929174</td>\n",
       "    </tr>\n",
       "    <tr>\n",
       "      <th>3</th>\n",
       "      <td>Контроль</td>\n",
       "      <td>τdecay IGluT(5)/τdecay IGluT(1)</td>\n",
       "      <td>1.096221</td>\n",
       "    </tr>\n",
       "    <tr>\n",
       "      <th>4</th>\n",
       "      <td>Контроль</td>\n",
       "      <td>τdecay IGluT(5)/τdecay IGluT(1)</td>\n",
       "      <td>1.052671</td>\n",
       "    </tr>\n",
       "  </tbody>\n",
       "</table>\n",
       "</div>"
      ],
      "text/plain": [
       "      Group                                   Отношение времени затухания\n",
       "0  Контроль  τdecay IGluT(5)/τdecay IGluT(1)                     1.300596\n",
       "1  Контроль  τdecay IGluT(5)/τdecay IGluT(1)                     1.251985\n",
       "2  Контроль  τdecay IGluT(5)/τdecay IGluT(1)                     0.929174\n",
       "3  Контроль  τdecay IGluT(5)/τdecay IGluT(1)                     1.096221\n",
       "4  Контроль  τdecay IGluT(5)/τdecay IGluT(1)                     1.052671"
      ]
     },
     "execution_count": 48,
     "metadata": {},
     "output_type": "execute_result"
    }
   ],
   "source": [
    "decay_time_relation = pd.melt (data, id_vars= ['Group'], \n",
    "                            value_vars=['τdecay IGluT(5)/τdecay IGluT(1)'],\n",
    "                            var_name= '', value_name= 'Отношение времени затухания')\n",
    "decay_time_relation.head()"
   ]
  },
  {
   "cell_type": "code",
   "execution_count": 53,
   "metadata": {},
   "outputs": [
    {
     "name": "stdout",
     "output_type": "stream",
     "text": [
      "p-value annotation legend:\n",
      "ns: 5.00e-02 < p <= 1.00e+00\n",
      "*: 1.00e-02 < p <= 5.00e-02\n",
      "**: 1.00e-03 < p <= 1.00e-02\n",
      "***: 1.00e-04 < p <= 1.00e-03\n",
      "****: p <= 1.00e-04\n",
      "\n",
      "τdecay IGluT(5)/τdecay IGluT(1)_Контроль v.s. τdecay IGluT(5)/τdecay IGluT(1)_ЭС: Mann-Whitney-Wilcoxon test two-sided, P_val=4.452e-01 U_stat=1.500e+01\n"
     ]
    },
    {
     "data": {
      "image/png": "[encoded data removed]",
      "text/plain": [
       "<Figure size 432x288 with 1 Axes>"
      ]
     },
     "metadata": {},
     "output_type": "display_data"
    }
   ],
   "source": [
    "stat = boxplot_hue(data=decay_time_relation, x = '', y='Отношение времени затухания', hue='Group',\n",
    "                box_pairs =  [(('τdecay IGluT(5)/τdecay IGluT(1)','Контроль' ),\n",
    "                                ('τdecay IGluT(5)/τdecay IGluT(1)','ЭС'))],\n",
    "                figname = 'Отношение времени затухания',\n",
    "                big_tick = 0.2, \n",
    "                ylim = [0.5, 2], \n",
    "                figsize=(6,4),\n",
    "                loc='outside')"
   ]
  },
  {
   "cell_type": "code",
   "execution_count": 38,
   "metadata": {},
   "outputs": [
    {
     "data": {
      "text/html": [
       "<div>\n",
       "<style scoped>\n",
       "    .dataframe tbody tr th:only-of-type {\n",
       "        vertical-align: middle;\n",
       "    }\n",
       "\n",
       "    .dataframe tbody tr th {\n",
       "        vertical-align: top;\n",
       "    }\n",
       "\n",
       "    .dataframe thead th {\n",
       "        text-align: right;\n",
       "    }\n",
       "</style>\n",
       "<table border=\"1\" class=\"dataframe\">\n",
       "  <thead>\n",
       "    <tr style=\"text-align: right;\">\n",
       "      <th></th>\n",
       "      <th>p_val</th>\n",
       "      <th>u_stat</th>\n",
       "    </tr>\n",
       "  </thead>\n",
       "  <tbody>\n",
       "    <tr>\n",
       "      <th>IGluT(1)</th>\n",
       "      <td>7.748e-01</td>\n",
       "      <td>1.850e+01</td>\n",
       "    </tr>\n",
       "    <tr>\n",
       "      <th>IGluT(5)</th>\n",
       "      <td>8.862e-01</td>\n",
       "      <td>2.250e+01</td>\n",
       "    </tr>\n",
       "    <tr>\n",
       "      <th>IGluT(5)/IGluT(1)</th>\n",
       "      <td>8.604e-02</td>\n",
       "      <td>3.350e+01</td>\n",
       "    </tr>\n",
       "    <tr>\n",
       "      <th>τdecay IGluT(1)</th>\n",
       "      <td>4.452e-01</td>\n",
       "      <td>1.500e+01</td>\n",
       "    </tr>\n",
       "    <tr>\n",
       "      <th>τdecay IGluT(5)</th>\n",
       "      <td>5.338e-01</td>\n",
       "      <td>1.600e+01</td>\n",
       "    </tr>\n",
       "    <tr>\n",
       "      <th>τdecay IGluT(5)/τdecay IGluT(1)</th>\n",
       "      <td>4.452e-01</td>\n",
       "      <td>1.500e+01</td>\n",
       "    </tr>\n",
       "  </tbody>\n",
       "</table>\n",
       "</div>"
      ],
      "text/plain": [
       "                                     p_val     u_stat\n",
       "IGluT(1)                         7.748e-01  1.850e+01\n",
       "IGluT(5)                         8.862e-01  2.250e+01\n",
       "IGluT(5)/IGluT(1)                8.604e-02  3.350e+01\n",
       "τdecay IGluT(1)                  4.452e-01  1.500e+01\n",
       "τdecay IGluT(5)                  5.338e-01  1.600e+01\n",
       "τdecay IGluT(5)/τdecay IGluT(1)  4.452e-01  1.500e+01"
      ]
     },
     "execution_count": 38,
     "metadata": {},
     "output_type": "execute_result"
    }
   ],
   "source": [
    "stat_output = pd.concat ([stat_output, stat_out(stat, index = ['τdecay IGluT(5)/τdecay IGluT(1)'])])\n",
    "stat_output"
   ]
  },
  {
   "cell_type": "markdown",
   "metadata": {},
   "source": [
    "We have to  calculate the percentiles described our features"
   ]
  },
  {
   "cell_type": "code",
   "execution_count": 39,
   "metadata": {},
   "outputs": [
    {
     "data": {
      "text/html": [
       "<div>\n",
       "<style scoped>\n",
       "    .dataframe tbody tr th:only-of-type {\n",
       "        vertical-align: middle;\n",
       "    }\n",
       "\n",
       "    .dataframe tbody tr th {\n",
       "        vertical-align: top;\n",
       "    }\n",
       "\n",
       "    .dataframe thead th {\n",
       "        text-align: right;\n",
       "    }\n",
       "</style>\n",
       "<table border=\"1\" class=\"dataframe\">\n",
       "  <thead>\n",
       "    <tr style=\"text-align: right;\">\n",
       "      <th></th>\n",
       "      <th>IGluT(5)</th>\n",
       "      <th>IGluT(1)</th>\n",
       "      <th>τdecay IGluT(5)</th>\n",
       "      <th>τdecay IGluT(1)</th>\n",
       "      <th>IGluT(5)/IGluT(1)</th>\n",
       "      <th>τdecay IGluT(5)/τdecay IGluT(1)</th>\n",
       "    </tr>\n",
       "  </thead>\n",
       "  <tbody>\n",
       "    <tr>\n",
       "      <th>0.25</th>\n",
       "      <td>-77.306295</td>\n",
       "      <td>-56.210698</td>\n",
       "      <td>8.812230</td>\n",
       "      <td>9.553450</td>\n",
       "      <td>1.161523</td>\n",
       "      <td>0.981837</td>\n",
       "    </tr>\n",
       "    <tr>\n",
       "      <th>0.50</th>\n",
       "      <td>-34.242714</td>\n",
       "      <td>-31.829147</td>\n",
       "      <td>11.991837</td>\n",
       "      <td>9.635286</td>\n",
       "      <td>1.202899</td>\n",
       "      <td>1.181248</td>\n",
       "    </tr>\n",
       "    <tr>\n",
       "      <th>0.75</th>\n",
       "      <td>-28.020000</td>\n",
       "      <td>-18.826480</td>\n",
       "      <td>14.291741</td>\n",
       "      <td>11.415268</td>\n",
       "      <td>1.575867</td>\n",
       "      <td>1.257125</td>\n",
       "    </tr>\n",
       "  </tbody>\n",
       "</table>\n",
       "</div>"
      ],
      "text/plain": [
       "       IGluT(5)   IGluT(1)  τdecay IGluT(5)  τdecay IGluT(1)  \\\n",
       "0.25 -77.306295 -56.210698         8.812230         9.553450   \n",
       "0.50 -34.242714 -31.829147        11.991837         9.635286   \n",
       "0.75 -28.020000 -18.826480        14.291741        11.415268   \n",
       "\n",
       "      IGluT(5)/IGluT(1)  τdecay IGluT(5)/τdecay IGluT(1)  \n",
       "0.25           1.161523                         0.981837  \n",
       "0.50           1.202899                         1.181248  \n",
       "0.75           1.575867                         1.257125  "
      ]
     },
     "execution_count": 39,
     "metadata": {},
     "output_type": "execute_result"
    }
   ],
   "source": [
    "perc_table_final = data.quantile([0.25, 0.50 , 0.75])\n",
    "perc_table_final"
   ]
  },
  {
   "cell_type": "code",
   "execution_count": 40,
   "metadata": {},
   "outputs": [],
   "source": [
    "with pd.ExcelWriter('output_table/final_out_rec_count.xlsx') as writer:  \n",
    "     perc_table_final.to_excel(writer, sheet_name='Percentiles', float_format=\"%.2f\")\n",
    "     stat_output.to_excel(writer, sheet_name='P-val, MW(U)', float_format=\"%.2f\")"
   ]
  },
  {
   "cell_type": "markdown",
   "metadata": {},
   "source": [
    "Profit!"
   ]
  }
 ],
 "metadata": {
  "interpreter": {
   "hash": "839100695437559281b8fd85208553f8978ac3900eb3d81f4750dc1f4155d647"
  },
  "kernelspec": {
   "display_name": "Python 3.9.7 ('base')",
   "language": "python",
   "name": "python3"
  },
  "language_info": {
   "codemirror_mode": {
    "name": "ipython",
    "version": 3
   },
   "file_extension": ".py",
   "mimetype": "text/x-python",
   "name": "python",
   "nbconvert_exporter": "python",
   "pygments_lexer": "ipython3",
   "version": "3.9.7"
  },
  "orig_nbformat": 4
 },
 "nbformat": 4,
 "nbformat_minor": 2
}
