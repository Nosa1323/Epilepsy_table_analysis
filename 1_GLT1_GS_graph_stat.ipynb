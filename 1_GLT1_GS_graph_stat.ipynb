{
 "cells": [
  {
   "cell_type": "markdown",
   "metadata": {},
   "source": [
    "base_python env"
   ]
  },
  {
   "cell_type": "code",
   "execution_count": 1,
   "metadata": {},
   "outputs": [],
   "source": [
    "from IPython import get_ipython\n",
    "get_ipython().run_line_magic('reset', '-sf') \n",
    "\n",
    "import pandas as pd\n",
    "import numpy as np\n",
    "import glob\n",
    "import re\n",
    "\n",
    "import matplotlib.pyplot as plt\n",
    "import matplotlib.ticker as ticker\n",
    "import seaborn as sns\n",
    "from scipy.stats import mannwhitneyu, ks_2samp\n",
    "from statannot import add_stat_annotation\n",
    "import os\n",
    "from modules.data_loader import file_extraction, csv_to_xlsx,file_folder_creator\n",
    "from modules.graphics_handler import histplot_fine_view, boxplot_fine_view\n"
   ]
  },
  {
   "cell_type": "markdown",
   "metadata": {},
   "source": [
    "Попробуем сделать линейную регресию на данных по GLT/GS"
   ]
  },
  {
   "cell_type": "code",
   "execution_count": 2,
   "metadata": {},
   "outputs": [],
   "source": [
    "csv_to_xlsx()"
   ]
  },
  {
   "cell_type": "code",
   "execution_count": 3,
   "metadata": {},
   "outputs": [],
   "source": [
    "data = file_extraction('data/*cell*.xlsx')"
   ]
  },
  {
   "cell_type": "code",
   "execution_count": 4,
   "metadata": {},
   "outputs": [
    {
     "name": "stdout",
     "output_type": "stream",
     "text": [
      "Wall time: 0 ns\n"
     ]
    }
   ],
   "source": [
    "%%time\n",
    "#with pd.ExcelWriter('output_table/data_gs_glt.xlsx') as writer:  \n",
    "#    data.to_excel(writer, float_format=\"%.2f\")"
   ]
  },
  {
   "cell_type": "code",
   "execution_count": 5,
   "metadata": {},
   "outputs": [],
   "source": [
    "#data = pd.read_excel('output_table/data_gs_glt.xlsx')"
   ]
  },
  {
   "cell_type": "code",
   "execution_count": 6,
   "metadata": {},
   "outputs": [
    {
     "data": {
      "text/html": [
       "<div>\n",
       "<style scoped>\n",
       "    .dataframe tbody tr th:only-of-type {\n",
       "        vertical-align: middle;\n",
       "    }\n",
       "\n",
       "    .dataframe tbody tr th {\n",
       "        vertical-align: top;\n",
       "    }\n",
       "\n",
       "    .dataframe thead th {\n",
       "        text-align: right;\n",
       "    }\n",
       "</style>\n",
       "<table border=\"1\" class=\"dataframe\">\n",
       "  <thead>\n",
       "    <tr style=\"text-align: right;\">\n",
       "      <th></th>\n",
       "      <th>volume</th>\n",
       "      <th>surface_area</th>\n",
       "      <th>animal_num</th>\n",
       "      <th>exp_group</th>\n",
       "      <th>slice_num</th>\n",
       "      <th>cell_num</th>\n",
       "      <th>protein</th>\n",
       "    </tr>\n",
       "    <tr>\n",
       "      <th>id</th>\n",
       "      <th></th>\n",
       "      <th></th>\n",
       "      <th></th>\n",
       "      <th></th>\n",
       "      <th></th>\n",
       "      <th></th>\n",
       "      <th></th>\n",
       "    </tr>\n",
       "  </thead>\n",
       "  <tbody>\n",
       "    <tr>\n",
       "      <th>1</th>\n",
       "      <td>0.0788</td>\n",
       "      <td>1.4307</td>\n",
       "      <td>1</td>\n",
       "      <td>ctrl</td>\n",
       "      <td>1</td>\n",
       "      <td>1</td>\n",
       "      <td>GLT</td>\n",
       "    </tr>\n",
       "    <tr>\n",
       "      <th>2</th>\n",
       "      <td>0.1504</td>\n",
       "      <td>2.5328</td>\n",
       "      <td>1</td>\n",
       "      <td>ctrl</td>\n",
       "      <td>1</td>\n",
       "      <td>1</td>\n",
       "      <td>GLT</td>\n",
       "    </tr>\n",
       "    <tr>\n",
       "      <th>3</th>\n",
       "      <td>0.3366</td>\n",
       "      <td>3.3982</td>\n",
       "      <td>1</td>\n",
       "      <td>ctrl</td>\n",
       "      <td>1</td>\n",
       "      <td>1</td>\n",
       "      <td>GLT</td>\n",
       "    </tr>\n",
       "    <tr>\n",
       "      <th>4</th>\n",
       "      <td>0.2685</td>\n",
       "      <td>3.8858</td>\n",
       "      <td>1</td>\n",
       "      <td>ctrl</td>\n",
       "      <td>1</td>\n",
       "      <td>1</td>\n",
       "      <td>GLT</td>\n",
       "    </tr>\n",
       "    <tr>\n",
       "      <th>5</th>\n",
       "      <td>0.4296</td>\n",
       "      <td>5.0187</td>\n",
       "      <td>1</td>\n",
       "      <td>ctrl</td>\n",
       "      <td>1</td>\n",
       "      <td>1</td>\n",
       "      <td>GLT</td>\n",
       "    </tr>\n",
       "  </tbody>\n",
       "</table>\n",
       "</div>"
      ],
      "text/plain": [
       "    volume  surface_area animal_num exp_group slice_num cell_num protein\n",
       "id                                                                      \n",
       "1   0.0788        1.4307          1      ctrl         1        1     GLT\n",
       "2   0.1504        2.5328          1      ctrl         1        1     GLT\n",
       "3   0.3366        3.3982          1      ctrl         1        1     GLT\n",
       "4   0.2685        3.8858          1      ctrl         1        1     GLT\n",
       "5   0.4296        5.0187          1      ctrl         1        1     GLT"
      ]
     },
     "execution_count": 6,
     "metadata": {},
     "output_type": "execute_result"
    }
   ],
   "source": [
    "data.head()"
   ]
  },
  {
   "cell_type": "code",
   "execution_count": 7,
   "metadata": {},
   "outputs": [],
   "source": [
    "data_glt = data[(data['protein']=='GLT')].copy(deep=True)\n",
    "data_gs = data[(data['protein']=='GS')].copy(deep=True)"
   ]
  },
  {
   "cell_type": "code",
   "execution_count": 8,
   "metadata": {},
   "outputs": [],
   "source": [
    "data_glt.drop(data_glt[data_glt['volume']>1.7].index, inplace=True)\n",
    "data_glt.drop(data_glt[data_glt['surface_area']>11].index, inplace=True)"
   ]
  },
  {
   "cell_type": "code",
   "execution_count": 10,
   "metadata": {},
   "outputs": [
    {
     "data": {
      "text/plain": [
       "'Folder created'"
      ]
     },
     "execution_count": 10,
     "metadata": {},
     "output_type": "execute_result"
    }
   ],
   "source": [
    "file_folder_creator('figs')"
   ]
  },
  {
   "cell_type": "code",
   "execution_count": 11,
   "metadata": {},
   "outputs": [
    {
     "data": {
      "image/png": "[encoded data removed]",
      "text/plain": [
       "<Figure size 504x288 with 1 Axes>"
      ]
     },
     "metadata": {
      "needs_background": "light"
     },
     "output_type": "display_data"
    }
   ],
   "source": [
    "histplot_fine_view(data=data_glt, x='volume',\n",
    "                    binwidth=0.1, binrange=[0,2], \n",
    "                    ytick=0.02, xtick=0.25,\n",
    "                    ylim=[0.0001, 0.1], xlim=[0.0001, 1.75],\n",
    "                    ylabel='Плотность распределения', xlabel='Объем кластеров GLT-1',\n",
    "                    figname = 'плотность распределения кластеров с разным объемом')"
   ]
  },
  {
   "cell_type": "code",
   "execution_count": 12,
   "metadata": {},
   "outputs": [
    {
     "data": {
      "image/png": "[encoded data removed]",
      "text/plain": [
       "<Figure size 504x288 with 1 Axes>"
      ]
     },
     "metadata": {},
     "output_type": "display_data"
    }
   ],
   "source": [
    "histplot_fine_view(data=data_glt, x='surface_area',\n",
    "                    binwidth=0.5, binrange=[0,10], \n",
    "                    ytick=0.01, xtick=1,\n",
    "                    ylim=[0.0001, 0.06], xlim=[0.0001, 10],\n",
    "                    ylabel='Плотность распределения', xlabel='Площадь поверхности кластеров GLT-1',\n",
    "                    figname = 'площадь поверхности клатеров GLT1 с разным объемом')\n"
   ]
  },
  {
   "cell_type": "code",
   "execution_count": 13,
   "metadata": {},
   "outputs": [
    {
     "data": {
      "text/html": [
       "<div>\n",
       "<style scoped>\n",
       "    .dataframe tbody tr th:only-of-type {\n",
       "        vertical-align: middle;\n",
       "    }\n",
       "\n",
       "    .dataframe tbody tr th {\n",
       "        vertical-align: top;\n",
       "    }\n",
       "\n",
       "    .dataframe thead th {\n",
       "        text-align: right;\n",
       "    }\n",
       "</style>\n",
       "<table border=\"1\" class=\"dataframe\">\n",
       "  <thead>\n",
       "    <tr style=\"text-align: right;\">\n",
       "      <th></th>\n",
       "      <th>volume</th>\n",
       "      <th>surface_area</th>\n",
       "      <th>animal_num</th>\n",
       "      <th>exp_group</th>\n",
       "      <th>slice_num</th>\n",
       "      <th>cell_num</th>\n",
       "      <th>protein</th>\n",
       "      <th>svr_clust</th>\n",
       "    </tr>\n",
       "    <tr>\n",
       "      <th>id</th>\n",
       "      <th></th>\n",
       "      <th></th>\n",
       "      <th></th>\n",
       "      <th></th>\n",
       "      <th></th>\n",
       "      <th></th>\n",
       "      <th></th>\n",
       "      <th></th>\n",
       "    </tr>\n",
       "  </thead>\n",
       "  <tbody>\n",
       "    <tr>\n",
       "      <th>1</th>\n",
       "      <td>0.0788</td>\n",
       "      <td>1.4307</td>\n",
       "      <td>1</td>\n",
       "      <td>ctrl</td>\n",
       "      <td>1</td>\n",
       "      <td>1</td>\n",
       "      <td>GLT</td>\n",
       "      <td>18.156091</td>\n",
       "    </tr>\n",
       "    <tr>\n",
       "      <th>2</th>\n",
       "      <td>0.1504</td>\n",
       "      <td>2.5328</td>\n",
       "      <td>1</td>\n",
       "      <td>ctrl</td>\n",
       "      <td>1</td>\n",
       "      <td>1</td>\n",
       "      <td>GLT</td>\n",
       "      <td>16.840426</td>\n",
       "    </tr>\n",
       "    <tr>\n",
       "      <th>3</th>\n",
       "      <td>0.3366</td>\n",
       "      <td>3.3982</td>\n",
       "      <td>1</td>\n",
       "      <td>ctrl</td>\n",
       "      <td>1</td>\n",
       "      <td>1</td>\n",
       "      <td>GLT</td>\n",
       "      <td>10.095663</td>\n",
       "    </tr>\n",
       "    <tr>\n",
       "      <th>4</th>\n",
       "      <td>0.2685</td>\n",
       "      <td>3.8858</td>\n",
       "      <td>1</td>\n",
       "      <td>ctrl</td>\n",
       "      <td>1</td>\n",
       "      <td>1</td>\n",
       "      <td>GLT</td>\n",
       "      <td>14.472253</td>\n",
       "    </tr>\n",
       "    <tr>\n",
       "      <th>5</th>\n",
       "      <td>0.4296</td>\n",
       "      <td>5.0187</td>\n",
       "      <td>1</td>\n",
       "      <td>ctrl</td>\n",
       "      <td>1</td>\n",
       "      <td>1</td>\n",
       "      <td>GLT</td>\n",
       "      <td>11.682263</td>\n",
       "    </tr>\n",
       "  </tbody>\n",
       "</table>\n",
       "</div>"
      ],
      "text/plain": [
       "    volume  surface_area animal_num exp_group slice_num cell_num protein  \\\n",
       "id                                                                         \n",
       "1   0.0788        1.4307          1      ctrl         1        1     GLT   \n",
       "2   0.1504        2.5328          1      ctrl         1        1     GLT   \n",
       "3   0.3366        3.3982          1      ctrl         1        1     GLT   \n",
       "4   0.2685        3.8858          1      ctrl         1        1     GLT   \n",
       "5   0.4296        5.0187          1      ctrl         1        1     GLT   \n",
       "\n",
       "    svr_clust  \n",
       "id             \n",
       "1   18.156091  \n",
       "2   16.840426  \n",
       "3   10.095663  \n",
       "4   14.472253  \n",
       "5   11.682263  "
      ]
     },
     "execution_count": 13,
     "metadata": {},
     "output_type": "execute_result"
    }
   ],
   "source": [
    "data_glt['svr_clust'] = data_glt.iloc[:, 1]/data_glt.iloc[:, 0]\n",
    "data_glt.head()"
   ]
  },
  {
   "cell_type": "code",
   "execution_count": 14,
   "metadata": {},
   "outputs": [
    {
     "data": {
      "image/png": "[encoded data removed]",
      "text/plain": [
       "<Figure size 504x288 with 1 Axes>"
      ]
     },
     "metadata": {},
     "output_type": "display_data"
    }
   ],
   "source": [
    "histplot_fine_view(data=data_glt, x='svr_clust',\n",
    "                    binwidth=1, binrange=[0,30], \n",
    "                    ytick=0.02, xtick=5,\n",
    "                    ylim=[0.0001, 0.1], xlim=[5, 25],\n",
    "                    ylabel='Плотность распределения', xlabel='SVR кластеров GLT-1',\n",
    "                    figname = 'SVR кластеров GLT-1 с разным объемом')\n"
   ]
  },
  {
   "cell_type": "markdown",
   "metadata": {},
   "source": [
    "Мы видим, что кривые из двух экспериментальных групп принадлежат к разным распределениям, что подтверждается статичтисеким критерием Колмагорова-Смирнова"
   ]
  },
  {
   "cell_type": "code",
   "execution_count": 15,
   "metadata": {},
   "outputs": [
    {
     "name": "stdout",
     "output_type": "stream",
     "text": [
      "Statistics=0.037, p=0.00000000000000000000000000000000000130436002821362\n"
     ]
    }
   ],
   "source": [
    "stat_ks_test, p_ks_test = ks_2samp(data_glt[data_glt['exp_group']=='ctrl'].iloc[:,-1], data_glt[data_glt['exp_group']=='SE'].iloc[:,-1])\n",
    "\n",
    "print('Statistics=%.3f, p=%.50f' % (stat_ks_test, p_ks_test))"
   ]
  },
  {
   "cell_type": "code",
   "execution_count": 16,
   "metadata": {},
   "outputs": [],
   "source": [
    "mask_ctrl_glt = data['exp_group']=='ctrl'\n",
    "mask_SE_glt = data['exp_group']=='SE'"
   ]
  },
  {
   "cell_type": "code",
   "execution_count": 17,
   "metadata": {},
   "outputs": [
    {
     "data": {
      "text/plain": [
       "<AxesSubplot:>"
      ]
     },
     "execution_count": 17,
     "metadata": {},
     "output_type": "execute_result"
    },
    {
     "data": {
      "image/png": "[encoded data removed]",
      "text/plain": [
       "<Figure size 432x288 with 2 Axes>"
      ]
     },
     "metadata": {},
     "output_type": "display_data"
    }
   ],
   "source": [
    "sns.heatmap(data[mask_ctrl_glt].iloc[:, :2].corr(), annot=True)"
   ]
  },
  {
   "cell_type": "markdown",
   "metadata": {},
   "source": [
    "Для группы SE мы видим положительную корреляцию между объемом кластера и площадью его поверхности. Это означает, что чем больше объем, тем больше площадь поверхности, что логично."
   ]
  },
  {
   "cell_type": "code",
   "execution_count": 18,
   "metadata": {},
   "outputs": [
    {
     "data": {
      "text/plain": [
       "<AxesSubplot:>"
      ]
     },
     "execution_count": 18,
     "metadata": {},
     "output_type": "execute_result"
    },
    {
     "data": {
      "image/png": "[encoded data removed]",
      "text/plain": [
       "<Figure size 432x288 with 2 Axes>"
      ]
     },
     "metadata": {},
     "output_type": "display_data"
    }
   ],
   "source": [
    "sns.heatmap(data[mask_SE_glt].iloc[:, :2].corr(), annot=True)"
   ]
  },
  {
   "cell_type": "markdown",
   "metadata": {},
   "source": [
    "Мы хотим посмотреть распределение признаков по отдельным клеткам. Для этого применим pivot_table"
   ]
  },
  {
   "cell_type": "code",
   "execution_count": 19,
   "metadata": {},
   "outputs": [
    {
     "data": {
      "text/html": [
       "<div>\n",
       "<style scoped>\n",
       "    .dataframe tbody tr th:only-of-type {\n",
       "        vertical-align: middle;\n",
       "    }\n",
       "\n",
       "    .dataframe tbody tr th {\n",
       "        vertical-align: top;\n",
       "    }\n",
       "\n",
       "    .dataframe thead tr th {\n",
       "        text-align: left;\n",
       "    }\n",
       "\n",
       "    .dataframe thead tr:last-of-type th {\n",
       "        text-align: right;\n",
       "    }\n",
       "</style>\n",
       "<table border=\"1\" class=\"dataframe\">\n",
       "  <thead>\n",
       "    <tr>\n",
       "      <th></th>\n",
       "      <th></th>\n",
       "      <th></th>\n",
       "      <th colspan=\"2\" halign=\"left\">volume</th>\n",
       "      <th colspan=\"2\" halign=\"left\">surface_area</th>\n",
       "      <th colspan=\"2\" halign=\"left\">svr_clust</th>\n",
       "    </tr>\n",
       "    <tr>\n",
       "      <th></th>\n",
       "      <th></th>\n",
       "      <th>exp_group</th>\n",
       "      <th>ctrl</th>\n",
       "      <th>SE</th>\n",
       "      <th>ctrl</th>\n",
       "      <th>SE</th>\n",
       "      <th>ctrl</th>\n",
       "      <th>SE</th>\n",
       "    </tr>\n",
       "    <tr>\n",
       "      <th>animal_num</th>\n",
       "      <th>slice_num</th>\n",
       "      <th>cell_num</th>\n",
       "      <th></th>\n",
       "      <th></th>\n",
       "      <th></th>\n",
       "      <th></th>\n",
       "      <th></th>\n",
       "      <th></th>\n",
       "    </tr>\n",
       "  </thead>\n",
       "  <tbody>\n",
       "    <tr>\n",
       "      <th rowspan=\"4\" valign=\"top\">1</th>\n",
       "      <th rowspan=\"2\" valign=\"top\">1</th>\n",
       "      <th>1</th>\n",
       "      <td>0.3724</td>\n",
       "      <td>0.2550</td>\n",
       "      <td>4.3333</td>\n",
       "      <td>3.2040</td>\n",
       "      <td>11.585260</td>\n",
       "      <td>12.569170</td>\n",
       "    </tr>\n",
       "    <tr>\n",
       "      <th>2</th>\n",
       "      <td>0.3258</td>\n",
       "      <td>0.3040</td>\n",
       "      <td>3.7909</td>\n",
       "      <td>3.6140</td>\n",
       "      <td>11.593853</td>\n",
       "      <td>11.957143</td>\n",
       "    </tr>\n",
       "    <tr>\n",
       "      <th rowspan=\"2\" valign=\"top\">2</th>\n",
       "      <th>1</th>\n",
       "      <td>0.3724</td>\n",
       "      <td>0.2710</td>\n",
       "      <td>4.1128</td>\n",
       "      <td>3.3670</td>\n",
       "      <td>11.010475</td>\n",
       "      <td>12.362676</td>\n",
       "    </tr>\n",
       "    <tr>\n",
       "      <th>2</th>\n",
       "      <td>0.4082</td>\n",
       "      <td>0.2895</td>\n",
       "      <td>4.3992</td>\n",
       "      <td>3.4855</td>\n",
       "      <td>10.798890</td>\n",
       "      <td>12.084979</td>\n",
       "    </tr>\n",
       "    <tr>\n",
       "      <th>2</th>\n",
       "      <th>1</th>\n",
       "      <th>1</th>\n",
       "      <td>0.2936</td>\n",
       "      <td>0.3010</td>\n",
       "      <td>3.5407</td>\n",
       "      <td>3.6310</td>\n",
       "      <td>12.125590</td>\n",
       "      <td>11.985281</td>\n",
       "    </tr>\n",
       "  </tbody>\n",
       "</table>\n",
       "</div>"
      ],
      "text/plain": [
       "                               volume         surface_area          svr_clust  \\\n",
       "exp_group                        ctrl      SE         ctrl      SE       ctrl   \n",
       "animal_num slice_num cell_num                                                   \n",
       "1          1         1         0.3724  0.2550       4.3333  3.2040  11.585260   \n",
       "                     2         0.3258  0.3040       3.7909  3.6140  11.593853   \n",
       "           2         1         0.3724  0.2710       4.1128  3.3670  11.010475   \n",
       "                     2         0.4082  0.2895       4.3992  3.4855  10.798890   \n",
       "2          1         1         0.2936  0.3010       3.5407  3.6310  12.125590   \n",
       "\n",
       "                                          \n",
       "exp_group                             SE  \n",
       "animal_num slice_num cell_num             \n",
       "1          1         1         12.569170  \n",
       "                     2         11.957143  \n",
       "           2         1         12.362676  \n",
       "                     2         12.084979  \n",
       "2          1         1         11.985281  "
      ]
     },
     "execution_count": 19,
     "metadata": {},
     "output_type": "execute_result"
    }
   ],
   "source": [
    "wide_glt = pd.pivot_table(data_glt,\n",
    "                index = ['animal_num','slice_num','cell_num'],\n",
    "                columns = ['exp_group'],\n",
    "                values = ['volume', 'surface_area', 'svr_clust'],\n",
    "                aggfunc = 'median')  \n",
    "wide_glt = wide_glt.reindex(columns=[('volume','ctrl'),('volume','SE'), \n",
    "                            ('surface_area', 'ctrl'), ('surface_area', 'SE'), \n",
    "                            ('svr_clust','ctrl'), ('svr_clust','SE')])\n",
    "wide_glt.head()\n"
   ]
  },
  {
   "cell_type": "markdown",
   "metadata": {},
   "source": [
    "Мы видим, что SVR статистически не отличается в контроле и после ЭС"
   ]
  },
  {
   "cell_type": "code",
   "execution_count": 20,
   "metadata": {},
   "outputs": [
    {
     "name": "stdout",
     "output_type": "stream",
     "text": [
      "p-value annotation legend:\n",
      "ns: 5.00e-02 < p <= 1.00e+00\n",
      "*: 1.00e-02 < p <= 5.00e-02\n",
      "**: 1.00e-03 < p <= 1.00e-02\n",
      "***: 1.00e-04 < p <= 1.00e-03\n",
      "****: p <= 1.00e-04\n",
      "\n",
      "('svr_clust', 'ctrl') v.s. ('svr_clust', 'SE'): Mann-Whitney-Wilcoxon test two-sided, P_val=2.679e-01 U_stat=1.840e+02\n"
     ]
    },
    {
     "data": {
      "image/png": "[encoded data removed]",
      "text/plain": [
       "<Figure size 216x360 with 1 Axes>"
      ]
     },
     "metadata": {},
     "output_type": "display_data"
    }
   ],
   "source": [
    "boxplot_fine_view(data=wide_glt.iloc[:, 4:6], \n",
    "                    box_pairs=(('svr_clust','ctrl'),('svr_clust','SE')),\n",
    "                    ylabel='SVR кластеров GLT-1',\n",
    "                    ylim=[9, 14], ytick = 1,\n",
    "                    figname = 'SVR кластеров GLT-1')"
   ]
  },
  {
   "cell_type": "code",
   "execution_count": 21,
   "metadata": {},
   "outputs": [
    {
     "name": "stdout",
     "output_type": "stream",
     "text": [
      "           svr_clust           \n",
      "exp_group       ctrl         SE\n",
      "0.25       10.719648  10.890548\n",
      "0.50       10.874891  11.223198\n",
      "0.75       11.589557  11.964177\n"
     ]
    }
   ],
   "source": [
    "percentile_svr_clusters = wide_glt.iloc[:, 4:6].quantile([0.25, 0.50 , 0.75])\n",
    "print(percentile_svr_clusters)"
   ]
  },
  {
   "cell_type": "code",
   "execution_count": 22,
   "metadata": {},
   "outputs": [
    {
     "name": "stdout",
     "output_type": "stream",
     "text": [
      "Statistics=184.000, p=0.26790919\n"
     ]
    }
   ],
   "source": [
    "stat_svr_num, p_svr_num = mannwhitneyu(wide_glt.iloc[:, 4].dropna(), wide_glt.iloc[:, 5].dropna())\n",
    "print('Statistics=%.3f, p=%.8f' % (stat_svr_num, p_svr_num))"
   ]
  },
  {
   "cell_type": "markdown",
   "metadata": {},
   "source": [
    "Добавим столбец с данными о количестве кластеров для каждой клетки"
   ]
  },
  {
   "cell_type": "code",
   "execution_count": 23,
   "metadata": {},
   "outputs": [
    {
     "data": {
      "text/html": [
       "<div>\n",
       "<style scoped>\n",
       "    .dataframe tbody tr th:only-of-type {\n",
       "        vertical-align: middle;\n",
       "    }\n",
       "\n",
       "    .dataframe tbody tr th {\n",
       "        vertical-align: top;\n",
       "    }\n",
       "\n",
       "    .dataframe thead tr th {\n",
       "        text-align: left;\n",
       "    }\n",
       "\n",
       "    .dataframe thead tr:last-of-type th {\n",
       "        text-align: right;\n",
       "    }\n",
       "</style>\n",
       "<table border=\"1\" class=\"dataframe\">\n",
       "  <thead>\n",
       "    <tr>\n",
       "      <th></th>\n",
       "      <th></th>\n",
       "      <th></th>\n",
       "      <th colspan=\"2\" halign=\"left\">volume</th>\n",
       "      <th colspan=\"2\" halign=\"left\">surface_area</th>\n",
       "      <th colspan=\"2\" halign=\"left\">svr_clust</th>\n",
       "      <th colspan=\"2\" halign=\"left\">clust_quantity</th>\n",
       "    </tr>\n",
       "    <tr>\n",
       "      <th></th>\n",
       "      <th></th>\n",
       "      <th>exp_group</th>\n",
       "      <th>ctrl</th>\n",
       "      <th>SE</th>\n",
       "      <th>ctrl</th>\n",
       "      <th>SE</th>\n",
       "      <th>ctrl</th>\n",
       "      <th>SE</th>\n",
       "      <th>ctrl</th>\n",
       "      <th>SE</th>\n",
       "    </tr>\n",
       "    <tr>\n",
       "      <th>animal_num</th>\n",
       "      <th>slice_num</th>\n",
       "      <th>cell_num</th>\n",
       "      <th></th>\n",
       "      <th></th>\n",
       "      <th></th>\n",
       "      <th></th>\n",
       "      <th></th>\n",
       "      <th></th>\n",
       "      <th></th>\n",
       "      <th></th>\n",
       "    </tr>\n",
       "  </thead>\n",
       "  <tbody>\n",
       "    <tr>\n",
       "      <th rowspan=\"4\" valign=\"top\">1</th>\n",
       "      <th rowspan=\"2\" valign=\"top\">1</th>\n",
       "      <th>1</th>\n",
       "      <td>0.3724</td>\n",
       "      <td>0.2550</td>\n",
       "      <td>4.3333</td>\n",
       "      <td>3.2040</td>\n",
       "      <td>11.585260</td>\n",
       "      <td>12.569170</td>\n",
       "      <td>3492.0</td>\n",
       "      <td>3794.0</td>\n",
       "    </tr>\n",
       "    <tr>\n",
       "      <th>2</th>\n",
       "      <td>0.3258</td>\n",
       "      <td>0.3040</td>\n",
       "      <td>3.7909</td>\n",
       "      <td>3.6140</td>\n",
       "      <td>11.593853</td>\n",
       "      <td>11.957143</td>\n",
       "      <td>3297.0</td>\n",
       "      <td>3864.0</td>\n",
       "    </tr>\n",
       "    <tr>\n",
       "      <th rowspan=\"2\" valign=\"top\">2</th>\n",
       "      <th>1</th>\n",
       "      <td>0.3724</td>\n",
       "      <td>0.2710</td>\n",
       "      <td>4.1128</td>\n",
       "      <td>3.3670</td>\n",
       "      <td>11.010475</td>\n",
       "      <td>12.362676</td>\n",
       "      <td>3185.0</td>\n",
       "      <td>3457.0</td>\n",
       "    </tr>\n",
       "    <tr>\n",
       "      <th>2</th>\n",
       "      <td>0.4082</td>\n",
       "      <td>0.2895</td>\n",
       "      <td>4.3992</td>\n",
       "      <td>3.4855</td>\n",
       "      <td>10.798890</td>\n",
       "      <td>12.084979</td>\n",
       "      <td>3428.0</td>\n",
       "      <td>3228.0</td>\n",
       "    </tr>\n",
       "    <tr>\n",
       "      <th>2</th>\n",
       "      <th>1</th>\n",
       "      <th>1</th>\n",
       "      <td>0.2936</td>\n",
       "      <td>0.3010</td>\n",
       "      <td>3.5407</td>\n",
       "      <td>3.6310</td>\n",
       "      <td>12.125590</td>\n",
       "      <td>11.985281</td>\n",
       "      <td>2644.0</td>\n",
       "      <td>2280.0</td>\n",
       "    </tr>\n",
       "  </tbody>\n",
       "</table>\n",
       "</div>"
      ],
      "text/plain": [
       "                               volume         surface_area          svr_clust  \\\n",
       "exp_group                        ctrl      SE         ctrl      SE       ctrl   \n",
       "animal_num slice_num cell_num                                                   \n",
       "1          1         1         0.3724  0.2550       4.3333  3.2040  11.585260   \n",
       "                     2         0.3258  0.3040       3.7909  3.6140  11.593853   \n",
       "           2         1         0.3724  0.2710       4.1128  3.3670  11.010475   \n",
       "                     2         0.4082  0.2895       4.3992  3.4855  10.798890   \n",
       "2          1         1         0.2936  0.3010       3.5407  3.6310  12.125590   \n",
       "\n",
       "                                         clust_quantity          \n",
       "exp_group                             SE           ctrl      SE  \n",
       "animal_num slice_num cell_num                                    \n",
       "1          1         1         12.569170         3492.0  3794.0  \n",
       "                     2         11.957143         3297.0  3864.0  \n",
       "           2         1         12.362676         3185.0  3457.0  \n",
       "                     2         12.084979         3428.0  3228.0  \n",
       "2          1         1         11.985281         2644.0  2280.0  "
      ]
     },
     "execution_count": 23,
     "metadata": {},
     "output_type": "execute_result"
    }
   ],
   "source": [
    "wide_glt [[('clust_quantity', 'ctrl'), (('clust_quantity', 'SE'))]] = pd.pivot_table(data_glt,\n",
    "                                                                                    index = ['animal_num','slice_num','cell_num'],\n",
    "                                                                                    columns = ['exp_group'],\n",
    "                                                                                    values = ['volume'],\n",
    "                                                                                    aggfunc = 'count')\n",
    "wide_glt.head()"
   ]
  },
  {
   "cell_type": "markdown",
   "metadata": {},
   "source": [
    "добавим столбец с количеством кластеров в пересчете на 5мкм3. Для этого получим данные об общем объеме из файла 'data/total_vol.xlsx'"
   ]
  },
  {
   "cell_type": "code",
   "execution_count": 29,
   "metadata": {},
   "outputs": [
    {
     "data": {
      "text/plain": [
       "TotVol_GLT_ctrl    6338.328691\n",
       "TotVol_GLT_SE      5634.529420\n",
       "dtype: float64"
      ]
     },
     "execution_count": 29,
     "metadata": {},
     "output_type": "execute_result"
    }
   ],
   "source": [
    "tot_vol_df = pd.read_excel('data/total_vol.xlsx', usecols=[0,1], dtype='float64')\n",
    "tot_vol_df.mean()"
   ]
  },
  {
   "cell_type": "code",
   "execution_count": 30,
   "metadata": {},
   "outputs": [
    {
     "data": {
      "text/html": [
       "<div>\n",
       "<style scoped>\n",
       "    .dataframe tbody tr th:only-of-type {\n",
       "        vertical-align: middle;\n",
       "    }\n",
       "\n",
       "    .dataframe tbody tr th {\n",
       "        vertical-align: top;\n",
       "    }\n",
       "\n",
       "    .dataframe thead tr th {\n",
       "        text-align: left;\n",
       "    }\n",
       "\n",
       "    .dataframe thead tr:last-of-type th {\n",
       "        text-align: right;\n",
       "    }\n",
       "</style>\n",
       "<table border=\"1\" class=\"dataframe\">\n",
       "  <thead>\n",
       "    <tr>\n",
       "      <th></th>\n",
       "      <th></th>\n",
       "      <th></th>\n",
       "      <th colspan=\"2\" halign=\"left\">volume</th>\n",
       "      <th colspan=\"2\" halign=\"left\">surface_area</th>\n",
       "      <th colspan=\"2\" halign=\"left\">svr_clust</th>\n",
       "      <th colspan=\"2\" halign=\"left\">clust_quantity</th>\n",
       "      <th colspan=\"2\" halign=\"left\">clust_quantity_per_125</th>\n",
       "    </tr>\n",
       "    <tr>\n",
       "      <th></th>\n",
       "      <th></th>\n",
       "      <th>exp_group</th>\n",
       "      <th>ctrl</th>\n",
       "      <th>SE</th>\n",
       "      <th>ctrl</th>\n",
       "      <th>SE</th>\n",
       "      <th>ctrl</th>\n",
       "      <th>SE</th>\n",
       "      <th>ctrl</th>\n",
       "      <th>SE</th>\n",
       "      <th>ctrl</th>\n",
       "      <th>SE</th>\n",
       "    </tr>\n",
       "    <tr>\n",
       "      <th>animal_num</th>\n",
       "      <th>slice_num</th>\n",
       "      <th>cell_num</th>\n",
       "      <th></th>\n",
       "      <th></th>\n",
       "      <th></th>\n",
       "      <th></th>\n",
       "      <th></th>\n",
       "      <th></th>\n",
       "      <th></th>\n",
       "      <th></th>\n",
       "      <th></th>\n",
       "      <th></th>\n",
       "    </tr>\n",
       "  </thead>\n",
       "  <tbody>\n",
       "    <tr>\n",
       "      <th rowspan=\"4\" valign=\"top\">1</th>\n",
       "      <th rowspan=\"2\" valign=\"top\">1</th>\n",
       "      <th>1</th>\n",
       "      <td>0.3724</td>\n",
       "      <td>0.2550</td>\n",
       "      <td>4.3333</td>\n",
       "      <td>3.2040</td>\n",
       "      <td>11.585260</td>\n",
       "      <td>12.569170</td>\n",
       "      <td>3492.0</td>\n",
       "      <td>3794.0</td>\n",
       "      <td>68.870306</td>\n",
       "      <td>84.176429</td>\n",
       "    </tr>\n",
       "    <tr>\n",
       "      <th>2</th>\n",
       "      <td>0.3258</td>\n",
       "      <td>0.3040</td>\n",
       "      <td>3.7909</td>\n",
       "      <td>3.6140</td>\n",
       "      <td>11.593853</td>\n",
       "      <td>11.957143</td>\n",
       "      <td>3297.0</td>\n",
       "      <td>3864.0</td>\n",
       "      <td>65.024456</td>\n",
       "      <td>85.729499</td>\n",
       "    </tr>\n",
       "    <tr>\n",
       "      <th rowspan=\"2\" valign=\"top\">2</th>\n",
       "      <th>1</th>\n",
       "      <td>0.3724</td>\n",
       "      <td>0.2710</td>\n",
       "      <td>4.1128</td>\n",
       "      <td>3.3670</td>\n",
       "      <td>11.010475</td>\n",
       "      <td>12.362676</td>\n",
       "      <td>3185.0</td>\n",
       "      <td>3457.0</td>\n",
       "      <td>62.815557</td>\n",
       "      <td>76.699503</td>\n",
       "    </tr>\n",
       "    <tr>\n",
       "      <th>2</th>\n",
       "      <td>0.4082</td>\n",
       "      <td>0.2895</td>\n",
       "      <td>4.3992</td>\n",
       "      <td>3.4855</td>\n",
       "      <td>10.798890</td>\n",
       "      <td>12.084979</td>\n",
       "      <td>3428.0</td>\n",
       "      <td>3228.0</td>\n",
       "      <td>67.608078</td>\n",
       "      <td>71.618743</td>\n",
       "    </tr>\n",
       "    <tr>\n",
       "      <th>2</th>\n",
       "      <th>1</th>\n",
       "      <th>1</th>\n",
       "      <td>0.2936</td>\n",
       "      <td>0.3010</td>\n",
       "      <td>3.5407</td>\n",
       "      <td>3.6310</td>\n",
       "      <td>12.125590</td>\n",
       "      <td>11.985281</td>\n",
       "      <td>2644.0</td>\n",
       "      <td>2280.0</td>\n",
       "      <td>52.145787</td>\n",
       "      <td>50.585729</td>\n",
       "    </tr>\n",
       "  </tbody>\n",
       "</table>\n",
       "</div>"
      ],
      "text/plain": [
       "                               volume         surface_area          svr_clust  \\\n",
       "exp_group                        ctrl      SE         ctrl      SE       ctrl   \n",
       "animal_num slice_num cell_num                                                   \n",
       "1          1         1         0.3724  0.2550       4.3333  3.2040  11.585260   \n",
       "                     2         0.3258  0.3040       3.7909  3.6140  11.593853   \n",
       "           2         1         0.3724  0.2710       4.1128  3.3670  11.010475   \n",
       "                     2         0.4082  0.2895       4.3992  3.4855  10.798890   \n",
       "2          1         1         0.2936  0.3010       3.5407  3.6310  12.125590   \n",
       "\n",
       "                                         clust_quantity          \\\n",
       "exp_group                             SE           ctrl      SE   \n",
       "animal_num slice_num cell_num                                     \n",
       "1          1         1         12.569170         3492.0  3794.0   \n",
       "                     2         11.957143         3297.0  3864.0   \n",
       "           2         1         12.362676         3185.0  3457.0   \n",
       "                     2         12.084979         3428.0  3228.0   \n",
       "2          1         1         11.985281         2644.0  2280.0   \n",
       "\n",
       "                              clust_quantity_per_125             \n",
       "exp_group                                       ctrl         SE  \n",
       "animal_num slice_num cell_num                                    \n",
       "1          1         1                     68.870306  84.176429  \n",
       "                     2                     65.024456  85.729499  \n",
       "           2         1                     62.815557  76.699503  \n",
       "                     2                     67.608078  71.618743  \n",
       "2          1         1                     52.145787  50.585729  "
      ]
     },
     "execution_count": 30,
     "metadata": {},
     "output_type": "execute_result"
    }
   ],
   "source": [
    "wide_glt [('clust_quantity_per_125', 'ctrl')] = (wide_glt[('clust_quantity', 'ctrl')]*125)/6338\n",
    "wide_glt [('clust_quantity_per_125', 'SE')] = (wide_glt[('clust_quantity', 'SE')]*125)/5634\n",
    "wide_glt.head()"
   ]
  },
  {
   "cell_type": "markdown",
   "metadata": {},
   "source": [
    "Сравним наши выборки по количеству кластеров и обнаружим, что статистических отличий нет."
   ]
  },
  {
   "cell_type": "code",
   "execution_count": 31,
   "metadata": {},
   "outputs": [
    {
     "name": "stdout",
     "output_type": "stream",
     "text": [
      "p-value annotation legend:\n",
      "ns: 5.00e-02 < p <= 1.00e+00\n",
      "*: 1.00e-02 < p <= 5.00e-02\n",
      "**: 1.00e-03 < p <= 1.00e-02\n",
      "***: 1.00e-04 < p <= 1.00e-03\n",
      "****: p <= 1.00e-04\n",
      "\n",
      "('clust_quantity_per_125', 'ctrl') v.s. ('clust_quantity_per_125', 'SE'): Mann-Whitney-Wilcoxon test two-sided, P_val=8.742e-01 U_stat=2.370e+02\n"
     ]
    },
    {
     "data": {
      "image/png": "[encoded data removed]",
      "text/plain": [
       "<Figure size 216x360 with 1 Axes>"
      ]
     },
     "metadata": {},
     "output_type": "display_data"
    }
   ],
   "source": [
    "boxplot_fine_view(data=wide_glt.iloc[:, 8:10], \n",
    "                    box_pairs=(('clust_quantity_per_125','ctrl'),('clust_quantity_per_125','SE')),\n",
    "                    ylabel='# кластеров GLT-1 в 5мкм3',\n",
    "                    ylim=[40, 80], ytick = 10,\n",
    "                    figname = 'количество кластеров GLT-1 с разным объемом boxplot per cell')"
   ]
  },
  {
   "cell_type": "markdown",
   "metadata": {},
   "source": [
    "Then, we calculate median, 25 and 75 percentiles."
   ]
  },
  {
   "cell_type": "code",
   "execution_count": 32,
   "metadata": {},
   "outputs": [
    {
     "name": "stdout",
     "output_type": "stream",
     "text": [
      "          clust_quantity_per_125           \n",
      "exp_group                   ctrl         SE\n",
      "0.25                   54.773785  53.614217\n",
      "0.50                   57.184837  58.484203\n",
      "0.75                   66.069738  61.401757\n"
     ]
    }
   ],
   "source": [
    "percentile_num_clusters = wide_glt.iloc[:, 8:].quantile([0.25, 0.50 , 0.75])\n",
    "print(percentile_num_clusters)"
   ]
  },
  {
   "cell_type": "markdown",
   "metadata": {},
   "source": [
    "Due to the nonparametric Mann-Whitney test, we check whether the clusters number after SE differs significantly in comparison to the control. The epilepsy group doesn't demonstrate some differs in comparison to the control group by this parameter."
   ]
  },
  {
   "cell_type": "code",
   "execution_count": 33,
   "metadata": {},
   "outputs": [
    {
     "name": "stdout",
     "output_type": "stream",
     "text": [
      "Statistics=237.000, p=0.87424401\n"
     ]
    }
   ],
   "source": [
    "stat_clust_num, p_clust_num = mannwhitneyu(wide_glt.iloc[:, 8].dropna(), wide_glt.iloc[:, 9].dropna())\n",
    "print('Statistics=%.3f, p=%.8f' % (stat_clust_num, p_clust_num))"
   ]
  },
  {
   "cell_type": "markdown",
   "metadata": {},
   "source": [
    "Then, we should to calculate volume fraction(vf). vf it is a GLT-1 volume occupied by tissue. Firstly, we calculate the sum of volume of all clusters. "
   ]
  },
  {
   "cell_type": "code",
   "execution_count": 34,
   "metadata": {},
   "outputs": [
    {
     "data": {
      "text/html": [
       "<div>\n",
       "<style scoped>\n",
       "    .dataframe tbody tr th:only-of-type {\n",
       "        vertical-align: middle;\n",
       "    }\n",
       "\n",
       "    .dataframe tbody tr th {\n",
       "        vertical-align: top;\n",
       "    }\n",
       "\n",
       "    .dataframe thead tr th {\n",
       "        text-align: left;\n",
       "    }\n",
       "\n",
       "    .dataframe thead tr:last-of-type th {\n",
       "        text-align: right;\n",
       "    }\n",
       "</style>\n",
       "<table border=\"1\" class=\"dataframe\">\n",
       "  <thead>\n",
       "    <tr>\n",
       "      <th></th>\n",
       "      <th></th>\n",
       "      <th></th>\n",
       "      <th colspan=\"2\" halign=\"left\">volume</th>\n",
       "      <th colspan=\"2\" halign=\"left\">surface_area</th>\n",
       "      <th colspan=\"2\" halign=\"left\">svr_clust</th>\n",
       "      <th colspan=\"2\" halign=\"left\">clust_quantity</th>\n",
       "      <th colspan=\"2\" halign=\"left\">clust_quantity_per_125</th>\n",
       "      <th colspan=\"2\" halign=\"left\">sum_volume</th>\n",
       "    </tr>\n",
       "    <tr>\n",
       "      <th></th>\n",
       "      <th></th>\n",
       "      <th>exp_group</th>\n",
       "      <th>ctrl</th>\n",
       "      <th>SE</th>\n",
       "      <th>ctrl</th>\n",
       "      <th>SE</th>\n",
       "      <th>ctrl</th>\n",
       "      <th>SE</th>\n",
       "      <th>ctrl</th>\n",
       "      <th>SE</th>\n",
       "      <th>ctrl</th>\n",
       "      <th>SE</th>\n",
       "      <th>ctrl</th>\n",
       "      <th>SE</th>\n",
       "    </tr>\n",
       "    <tr>\n",
       "      <th>animal_num</th>\n",
       "      <th>slice_num</th>\n",
       "      <th>cell_num</th>\n",
       "      <th></th>\n",
       "      <th></th>\n",
       "      <th></th>\n",
       "      <th></th>\n",
       "      <th></th>\n",
       "      <th></th>\n",
       "      <th></th>\n",
       "      <th></th>\n",
       "      <th></th>\n",
       "      <th></th>\n",
       "      <th></th>\n",
       "      <th></th>\n",
       "    </tr>\n",
       "  </thead>\n",
       "  <tbody>\n",
       "    <tr>\n",
       "      <th rowspan=\"4\" valign=\"top\">1</th>\n",
       "      <th rowspan=\"2\" valign=\"top\">1</th>\n",
       "      <th>1</th>\n",
       "      <td>0.3724</td>\n",
       "      <td>0.2550</td>\n",
       "      <td>4.3333</td>\n",
       "      <td>3.2040</td>\n",
       "      <td>11.585260</td>\n",
       "      <td>12.569170</td>\n",
       "      <td>3492.0</td>\n",
       "      <td>3794.0</td>\n",
       "      <td>68.870306</td>\n",
       "      <td>84.176429</td>\n",
       "      <td>1040.5906</td>\n",
       "      <td>1580.4646</td>\n",
       "    </tr>\n",
       "    <tr>\n",
       "      <th>2</th>\n",
       "      <td>0.3258</td>\n",
       "      <td>0.3040</td>\n",
       "      <td>3.7909</td>\n",
       "      <td>3.6140</td>\n",
       "      <td>11.593853</td>\n",
       "      <td>11.957143</td>\n",
       "      <td>3297.0</td>\n",
       "      <td>3864.0</td>\n",
       "      <td>65.024456</td>\n",
       "      <td>85.729499</td>\n",
       "      <td>1116.1329</td>\n",
       "      <td>1458.3005</td>\n",
       "    </tr>\n",
       "    <tr>\n",
       "      <th rowspan=\"2\" valign=\"top\">2</th>\n",
       "      <th>1</th>\n",
       "      <td>0.3724</td>\n",
       "      <td>0.2710</td>\n",
       "      <td>4.1128</td>\n",
       "      <td>3.3670</td>\n",
       "      <td>11.010475</td>\n",
       "      <td>12.362676</td>\n",
       "      <td>3185.0</td>\n",
       "      <td>3457.0</td>\n",
       "      <td>62.815557</td>\n",
       "      <td>76.699503</td>\n",
       "      <td>980.1556</td>\n",
       "      <td>1442.9095</td>\n",
       "    </tr>\n",
       "    <tr>\n",
       "      <th>2</th>\n",
       "      <td>0.4082</td>\n",
       "      <td>0.2895</td>\n",
       "      <td>4.3992</td>\n",
       "      <td>3.4855</td>\n",
       "      <td>10.798890</td>\n",
       "      <td>12.084979</td>\n",
       "      <td>3428.0</td>\n",
       "      <td>3228.0</td>\n",
       "      <td>67.608078</td>\n",
       "      <td>71.618743</td>\n",
       "      <td>1120.4767</td>\n",
       "      <td>1456.4340</td>\n",
       "    </tr>\n",
       "    <tr>\n",
       "      <th>2</th>\n",
       "      <th>1</th>\n",
       "      <th>1</th>\n",
       "      <td>0.2936</td>\n",
       "      <td>0.3010</td>\n",
       "      <td>3.5407</td>\n",
       "      <td>3.6310</td>\n",
       "      <td>12.125590</td>\n",
       "      <td>11.985281</td>\n",
       "      <td>2644.0</td>\n",
       "      <td>2280.0</td>\n",
       "      <td>52.145787</td>\n",
       "      <td>50.585729</td>\n",
       "      <td>921.2429</td>\n",
       "      <td>828.6087</td>\n",
       "    </tr>\n",
       "  </tbody>\n",
       "</table>\n",
       "</div>"
      ],
      "text/plain": [
       "                               volume         surface_area          svr_clust  \\\n",
       "exp_group                        ctrl      SE         ctrl      SE       ctrl   \n",
       "animal_num slice_num cell_num                                                   \n",
       "1          1         1         0.3724  0.2550       4.3333  3.2040  11.585260   \n",
       "                     2         0.3258  0.3040       3.7909  3.6140  11.593853   \n",
       "           2         1         0.3724  0.2710       4.1128  3.3670  11.010475   \n",
       "                     2         0.4082  0.2895       4.3992  3.4855  10.798890   \n",
       "2          1         1         0.2936  0.3010       3.5407  3.6310  12.125590   \n",
       "\n",
       "                                         clust_quantity          \\\n",
       "exp_group                             SE           ctrl      SE   \n",
       "animal_num slice_num cell_num                                     \n",
       "1          1         1         12.569170         3492.0  3794.0   \n",
       "                     2         11.957143         3297.0  3864.0   \n",
       "           2         1         12.362676         3185.0  3457.0   \n",
       "                     2         12.084979         3428.0  3228.0   \n",
       "2          1         1         11.985281         2644.0  2280.0   \n",
       "\n",
       "                              clust_quantity_per_125            sum_volume  \\\n",
       "exp_group                                       ctrl         SE       ctrl   \n",
       "animal_num slice_num cell_num                                                \n",
       "1          1         1                     68.870306  84.176429  1040.5906   \n",
       "                     2                     65.024456  85.729499  1116.1329   \n",
       "           2         1                     62.815557  76.699503   980.1556   \n",
       "                     2                     67.608078  71.618743  1120.4767   \n",
       "2          1         1                     52.145787  50.585729   921.2429   \n",
       "\n",
       "                                          \n",
       "exp_group                             SE  \n",
       "animal_num slice_num cell_num             \n",
       "1          1         1         1580.4646  \n",
       "                     2         1458.3005  \n",
       "           2         1         1442.9095  \n",
       "                     2         1456.4340  \n",
       "2          1         1          828.6087  "
      ]
     },
     "execution_count": 34,
     "metadata": {},
     "output_type": "execute_result"
    }
   ],
   "source": [
    "wide_glt [[('sum_volume', 'ctrl'), (('sum_volume', 'SE'))]] = pd.pivot_table(data_glt,\n",
    "                                                                            index = ['animal_num','slice_num','cell_num'],\n",
    "                                                                            columns = ['exp_group'],\n",
    "                                                                            values = ['volume'],\n",
    "                                                                            aggfunc = 'sum')\n",
    "wide_glt.head()"
   ]
  },
  {
   "cell_type": "markdown",
   "metadata": {},
   "source": [
    "Then, we divide sum_volume on total volume to obtain VF"
   ]
  },
  {
   "cell_type": "code",
   "execution_count": 35,
   "metadata": {},
   "outputs": [
    {
     "data": {
      "text/html": [
       "<div>\n",
       "<style scoped>\n",
       "    .dataframe tbody tr th:only-of-type {\n",
       "        vertical-align: middle;\n",
       "    }\n",
       "\n",
       "    .dataframe tbody tr th {\n",
       "        vertical-align: top;\n",
       "    }\n",
       "\n",
       "    .dataframe thead tr th {\n",
       "        text-align: left;\n",
       "    }\n",
       "\n",
       "    .dataframe thead tr:last-of-type th {\n",
       "        text-align: right;\n",
       "    }\n",
       "</style>\n",
       "<table border=\"1\" class=\"dataframe\">\n",
       "  <thead>\n",
       "    <tr>\n",
       "      <th></th>\n",
       "      <th></th>\n",
       "      <th></th>\n",
       "      <th colspan=\"2\" halign=\"left\">volume</th>\n",
       "      <th colspan=\"2\" halign=\"left\">surface_area</th>\n",
       "      <th colspan=\"2\" halign=\"left\">svr_clust</th>\n",
       "      <th colspan=\"2\" halign=\"left\">clust_quantity</th>\n",
       "      <th colspan=\"2\" halign=\"left\">clust_quantity_per_125</th>\n",
       "      <th colspan=\"2\" halign=\"left\">sum_volume</th>\n",
       "      <th colspan=\"2\" halign=\"left\">vf</th>\n",
       "    </tr>\n",
       "    <tr>\n",
       "      <th></th>\n",
       "      <th></th>\n",
       "      <th>exp_group</th>\n",
       "      <th>ctrl</th>\n",
       "      <th>SE</th>\n",
       "      <th>ctrl</th>\n",
       "      <th>SE</th>\n",
       "      <th>ctrl</th>\n",
       "      <th>SE</th>\n",
       "      <th>ctrl</th>\n",
       "      <th>SE</th>\n",
       "      <th>ctrl</th>\n",
       "      <th>SE</th>\n",
       "      <th>ctrl</th>\n",
       "      <th>SE</th>\n",
       "      <th>ctrl</th>\n",
       "      <th>SE</th>\n",
       "    </tr>\n",
       "    <tr>\n",
       "      <th>animal_num</th>\n",
       "      <th>slice_num</th>\n",
       "      <th>cell_num</th>\n",
       "      <th></th>\n",
       "      <th></th>\n",
       "      <th></th>\n",
       "      <th></th>\n",
       "      <th></th>\n",
       "      <th></th>\n",
       "      <th></th>\n",
       "      <th></th>\n",
       "      <th></th>\n",
       "      <th></th>\n",
       "      <th></th>\n",
       "      <th></th>\n",
       "      <th></th>\n",
       "      <th></th>\n",
       "    </tr>\n",
       "  </thead>\n",
       "  <tbody>\n",
       "    <tr>\n",
       "      <th rowspan=\"4\" valign=\"top\">1</th>\n",
       "      <th rowspan=\"2\" valign=\"top\">1</th>\n",
       "      <th>1</th>\n",
       "      <td>0.3724</td>\n",
       "      <td>0.2550</td>\n",
       "      <td>4.3333</td>\n",
       "      <td>3.2040</td>\n",
       "      <td>11.585260</td>\n",
       "      <td>12.569170</td>\n",
       "      <td>3492.0</td>\n",
       "      <td>3794.0</td>\n",
       "      <td>68.870306</td>\n",
       "      <td>84.176429</td>\n",
       "      <td>1040.5906</td>\n",
       "      <td>1580.4646</td>\n",
       "      <td>0.164183</td>\n",
       "      <td>0.280523</td>\n",
       "    </tr>\n",
       "    <tr>\n",
       "      <th>2</th>\n",
       "      <td>0.3258</td>\n",
       "      <td>0.3040</td>\n",
       "      <td>3.7909</td>\n",
       "      <td>3.6140</td>\n",
       "      <td>11.593853</td>\n",
       "      <td>11.957143</td>\n",
       "      <td>3297.0</td>\n",
       "      <td>3864.0</td>\n",
       "      <td>65.024456</td>\n",
       "      <td>85.729499</td>\n",
       "      <td>1116.1329</td>\n",
       "      <td>1458.3005</td>\n",
       "      <td>0.176102</td>\n",
       "      <td>0.258839</td>\n",
       "    </tr>\n",
       "    <tr>\n",
       "      <th rowspan=\"2\" valign=\"top\">2</th>\n",
       "      <th>1</th>\n",
       "      <td>0.3724</td>\n",
       "      <td>0.2710</td>\n",
       "      <td>4.1128</td>\n",
       "      <td>3.3670</td>\n",
       "      <td>11.010475</td>\n",
       "      <td>12.362676</td>\n",
       "      <td>3185.0</td>\n",
       "      <td>3457.0</td>\n",
       "      <td>62.815557</td>\n",
       "      <td>76.699503</td>\n",
       "      <td>980.1556</td>\n",
       "      <td>1442.9095</td>\n",
       "      <td>0.154647</td>\n",
       "      <td>0.256107</td>\n",
       "    </tr>\n",
       "    <tr>\n",
       "      <th>2</th>\n",
       "      <td>0.4082</td>\n",
       "      <td>0.2895</td>\n",
       "      <td>4.3992</td>\n",
       "      <td>3.4855</td>\n",
       "      <td>10.798890</td>\n",
       "      <td>12.084979</td>\n",
       "      <td>3428.0</td>\n",
       "      <td>3228.0</td>\n",
       "      <td>67.608078</td>\n",
       "      <td>71.618743</td>\n",
       "      <td>1120.4767</td>\n",
       "      <td>1456.4340</td>\n",
       "      <td>0.176787</td>\n",
       "      <td>0.258508</td>\n",
       "    </tr>\n",
       "    <tr>\n",
       "      <th>2</th>\n",
       "      <th>1</th>\n",
       "      <th>1</th>\n",
       "      <td>0.2936</td>\n",
       "      <td>0.3010</td>\n",
       "      <td>3.5407</td>\n",
       "      <td>3.6310</td>\n",
       "      <td>12.125590</td>\n",
       "      <td>11.985281</td>\n",
       "      <td>2644.0</td>\n",
       "      <td>2280.0</td>\n",
       "      <td>52.145787</td>\n",
       "      <td>50.585729</td>\n",
       "      <td>921.2429</td>\n",
       "      <td>828.6087</td>\n",
       "      <td>0.145352</td>\n",
       "      <td>0.147073</td>\n",
       "    </tr>\n",
       "  </tbody>\n",
       "</table>\n",
       "</div>"
      ],
      "text/plain": [
       "                               volume         surface_area          svr_clust  \\\n",
       "exp_group                        ctrl      SE         ctrl      SE       ctrl   \n",
       "animal_num slice_num cell_num                                                   \n",
       "1          1         1         0.3724  0.2550       4.3333  3.2040  11.585260   \n",
       "                     2         0.3258  0.3040       3.7909  3.6140  11.593853   \n",
       "           2         1         0.3724  0.2710       4.1128  3.3670  11.010475   \n",
       "                     2         0.4082  0.2895       4.3992  3.4855  10.798890   \n",
       "2          1         1         0.2936  0.3010       3.5407  3.6310  12.125590   \n",
       "\n",
       "                                         clust_quantity          \\\n",
       "exp_group                             SE           ctrl      SE   \n",
       "animal_num slice_num cell_num                                     \n",
       "1          1         1         12.569170         3492.0  3794.0   \n",
       "                     2         11.957143         3297.0  3864.0   \n",
       "           2         1         12.362676         3185.0  3457.0   \n",
       "                     2         12.084979         3428.0  3228.0   \n",
       "2          1         1         11.985281         2644.0  2280.0   \n",
       "\n",
       "                              clust_quantity_per_125            sum_volume  \\\n",
       "exp_group                                       ctrl         SE       ctrl   \n",
       "animal_num slice_num cell_num                                                \n",
       "1          1         1                     68.870306  84.176429  1040.5906   \n",
       "                     2                     65.024456  85.729499  1116.1329   \n",
       "           2         1                     62.815557  76.699503   980.1556   \n",
       "                     2                     67.608078  71.618743  1120.4767   \n",
       "2          1         1                     52.145787  50.585729   921.2429   \n",
       "\n",
       "                                                vf            \n",
       "exp_group                             SE      ctrl        SE  \n",
       "animal_num slice_num cell_num                                 \n",
       "1          1         1         1580.4646  0.164183  0.280523  \n",
       "                     2         1458.3005  0.176102  0.258839  \n",
       "           2         1         1442.9095  0.154647  0.256107  \n",
       "                     2         1456.4340  0.176787  0.258508  \n",
       "2          1         1          828.6087  0.145352  0.147073  "
      ]
     },
     "execution_count": 35,
     "metadata": {},
     "output_type": "execute_result"
    }
   ],
   "source": [
    "wide_glt [('vf', 'ctrl')] = wide_glt[('sum_volume', 'ctrl')]/6338\n",
    "wide_glt [('vf', 'SE')] = wide_glt[('sum_volume', 'SE')]/5634\n",
    "wide_glt.head()"
   ]
  },
  {
   "cell_type": "markdown",
   "metadata": {},
   "source": [
    "По параметру VF исследуемые выборки также не отличаются"
   ]
  },
  {
   "cell_type": "code",
   "execution_count": 36,
   "metadata": {},
   "outputs": [
    {
     "name": "stdout",
     "output_type": "stream",
     "text": [
      "p-value annotation legend:\n",
      "ns: 5.00e-02 < p <= 1.00e+00\n",
      "*: 1.00e-02 < p <= 5.00e-02\n",
      "**: 1.00e-03 < p <= 1.00e-02\n",
      "***: 1.00e-04 < p <= 1.00e-03\n",
      "****: p <= 1.00e-04\n",
      "\n",
      "('vf', 'ctrl') v.s. ('vf', 'SE'): Mann-Whitney-Wilcoxon test two-sided, P_val=4.009e-01 U_stat=1.950e+02\n"
     ]
    },
    {
     "data": {
      "image/png": "[encoded data removed]",
      "text/plain": [
       "<Figure size 216x360 with 1 Axes>"
      ]
     },
     "metadata": {},
     "output_type": "display_data"
    }
   ],
   "source": [
    "boxplot_fine_view(data=wide_glt.iloc[:, 12:14], \n",
    "                    box_pairs=(('vf','ctrl'),('vf','SE')),\n",
    "                    ylabel='Объем GLT-1',\n",
    "                    ylim=[0.1, 0.3], ytick = 0.05,\n",
    "                    figname = 'VF GLT-1 с разным объемом boxplot per cell')"
   ]
  },
  {
   "cell_type": "markdown",
   "metadata": {},
   "source": [
    "Step 3. GS calculation\n",
    "\n",
    "Since GS does not aggregates in clusters, we consider using only the volume of the fraction (VF)."
   ]
  },
  {
   "cell_type": "code",
   "execution_count": 37,
   "metadata": {},
   "outputs": [
    {
     "data": {
      "text/html": [
       "<div>\n",
       "<style scoped>\n",
       "    .dataframe tbody tr th:only-of-type {\n",
       "        vertical-align: middle;\n",
       "    }\n",
       "\n",
       "    .dataframe tbody tr th {\n",
       "        vertical-align: top;\n",
       "    }\n",
       "\n",
       "    .dataframe thead tr th {\n",
       "        text-align: left;\n",
       "    }\n",
       "\n",
       "    .dataframe thead tr:last-of-type th {\n",
       "        text-align: right;\n",
       "    }\n",
       "</style>\n",
       "<table border=\"1\" class=\"dataframe\">\n",
       "  <thead>\n",
       "    <tr>\n",
       "      <th></th>\n",
       "      <th></th>\n",
       "      <th></th>\n",
       "      <th colspan=\"2\" halign=\"left\">volume</th>\n",
       "    </tr>\n",
       "    <tr>\n",
       "      <th></th>\n",
       "      <th></th>\n",
       "      <th>exp_group</th>\n",
       "      <th>ctrl</th>\n",
       "      <th>SE</th>\n",
       "    </tr>\n",
       "    <tr>\n",
       "      <th>animal_num</th>\n",
       "      <th>slice_num</th>\n",
       "      <th>cell_num</th>\n",
       "      <th></th>\n",
       "      <th></th>\n",
       "    </tr>\n",
       "  </thead>\n",
       "  <tbody>\n",
       "    <tr>\n",
       "      <th rowspan=\"4\" valign=\"top\">1</th>\n",
       "      <th rowspan=\"2\" valign=\"top\">1</th>\n",
       "      <th>1</th>\n",
       "      <td>1849.1556</td>\n",
       "      <td>780.819</td>\n",
       "    </tr>\n",
       "    <tr>\n",
       "      <th>2</th>\n",
       "      <td>2187.8706</td>\n",
       "      <td>1195.229</td>\n",
       "    </tr>\n",
       "    <tr>\n",
       "      <th rowspan=\"2\" valign=\"top\">2</th>\n",
       "      <th>1</th>\n",
       "      <td>2385.2160</td>\n",
       "      <td>715.855</td>\n",
       "    </tr>\n",
       "    <tr>\n",
       "      <th>2</th>\n",
       "      <td>3030.0583</td>\n",
       "      <td>640.549</td>\n",
       "    </tr>\n",
       "    <tr>\n",
       "      <th>2</th>\n",
       "      <th>1</th>\n",
       "      <th>1</th>\n",
       "      <td>2489.6352</td>\n",
       "      <td>1260.321</td>\n",
       "    </tr>\n",
       "  </tbody>\n",
       "</table>\n",
       "</div>"
      ],
      "text/plain": [
       "                                  volume          \n",
       "exp_group                           ctrl        SE\n",
       "animal_num slice_num cell_num                     \n",
       "1          1         1         1849.1556   780.819\n",
       "                     2         2187.8706  1195.229\n",
       "           2         1         2385.2160   715.855\n",
       "                     2         3030.0583   640.549\n",
       "2          1         1         2489.6352  1260.321"
      ]
     },
     "execution_count": 37,
     "metadata": {},
     "output_type": "execute_result"
    }
   ],
   "source": [
    "wide_gs = pd.pivot_table(data_gs,\n",
    "                        index = ['animal_num','slice_num','cell_num'],\n",
    "                        columns = ['exp_group'],\n",
    "                        values = ['volume'],\n",
    "                        aggfunc = 'sum')\n",
    "wide_gs = wide_gs.reindex(columns=[('volume','ctrl'),('volume','SE')])\n",
    "wide_gs.head()"
   ]
  },
  {
   "cell_type": "code",
   "execution_count": 38,
   "metadata": {},
   "outputs": [
    {
     "data": {
      "text/plain": [
       "TotVol_GLT_ctrl    6338.328691\n",
       "TotVol_GLT_SE      5634.529420\n",
       "dtype: float64"
      ]
     },
     "execution_count": 38,
     "metadata": {},
     "output_type": "execute_result"
    }
   ],
   "source": [
    "tot_vol_df.mean()"
   ]
  },
  {
   "cell_type": "code",
   "execution_count": 39,
   "metadata": {},
   "outputs": [
    {
     "data": {
      "text/html": [
       "<div>\n",
       "<style scoped>\n",
       "    .dataframe tbody tr th:only-of-type {\n",
       "        vertical-align: middle;\n",
       "    }\n",
       "\n",
       "    .dataframe tbody tr th {\n",
       "        vertical-align: top;\n",
       "    }\n",
       "\n",
       "    .dataframe thead tr th {\n",
       "        text-align: left;\n",
       "    }\n",
       "\n",
       "    .dataframe thead tr:last-of-type th {\n",
       "        text-align: right;\n",
       "    }\n",
       "</style>\n",
       "<table border=\"1\" class=\"dataframe\">\n",
       "  <thead>\n",
       "    <tr>\n",
       "      <th></th>\n",
       "      <th></th>\n",
       "      <th></th>\n",
       "      <th colspan=\"2\" halign=\"left\">volume</th>\n",
       "      <th colspan=\"2\" halign=\"left\">vf</th>\n",
       "    </tr>\n",
       "    <tr>\n",
       "      <th></th>\n",
       "      <th></th>\n",
       "      <th>exp_group</th>\n",
       "      <th>ctrl</th>\n",
       "      <th>SE</th>\n",
       "      <th>ctrl</th>\n",
       "      <th>SE</th>\n",
       "    </tr>\n",
       "    <tr>\n",
       "      <th>animal_num</th>\n",
       "      <th>slice_num</th>\n",
       "      <th>cell_num</th>\n",
       "      <th></th>\n",
       "      <th></th>\n",
       "      <th></th>\n",
       "      <th></th>\n",
       "    </tr>\n",
       "  </thead>\n",
       "  <tbody>\n",
       "    <tr>\n",
       "      <th rowspan=\"4\" valign=\"top\">1</th>\n",
       "      <th rowspan=\"2\" valign=\"top\">1</th>\n",
       "      <th>1</th>\n",
       "      <td>1849.1556</td>\n",
       "      <td>780.819</td>\n",
       "      <td>0.291757</td>\n",
       "      <td>0.138591</td>\n",
       "    </tr>\n",
       "    <tr>\n",
       "      <th>2</th>\n",
       "      <td>2187.8706</td>\n",
       "      <td>1195.229</td>\n",
       "      <td>0.345199</td>\n",
       "      <td>0.212146</td>\n",
       "    </tr>\n",
       "    <tr>\n",
       "      <th rowspan=\"2\" valign=\"top\">2</th>\n",
       "      <th>1</th>\n",
       "      <td>2385.2160</td>\n",
       "      <td>715.855</td>\n",
       "      <td>0.376336</td>\n",
       "      <td>0.127060</td>\n",
       "    </tr>\n",
       "    <tr>\n",
       "      <th>2</th>\n",
       "      <td>3030.0583</td>\n",
       "      <td>640.549</td>\n",
       "      <td>0.478078</td>\n",
       "      <td>0.113693</td>\n",
       "    </tr>\n",
       "    <tr>\n",
       "      <th>2</th>\n",
       "      <th>1</th>\n",
       "      <th>1</th>\n",
       "      <td>2489.6352</td>\n",
       "      <td>1260.321</td>\n",
       "      <td>0.392811</td>\n",
       "      <td>0.223699</td>\n",
       "    </tr>\n",
       "  </tbody>\n",
       "</table>\n",
       "</div>"
      ],
      "text/plain": [
       "                                  volume                  vf          \n",
       "exp_group                           ctrl        SE      ctrl        SE\n",
       "animal_num slice_num cell_num                                         \n",
       "1          1         1         1849.1556   780.819  0.291757  0.138591\n",
       "                     2         2187.8706  1195.229  0.345199  0.212146\n",
       "           2         1         2385.2160   715.855  0.376336  0.127060\n",
       "                     2         3030.0583   640.549  0.478078  0.113693\n",
       "2          1         1         2489.6352  1260.321  0.392811  0.223699"
      ]
     },
     "execution_count": 39,
     "metadata": {},
     "output_type": "execute_result"
    }
   ],
   "source": [
    "wide_gs[('vf','ctrl')] = wide_gs.iloc[:,0]/6338\n",
    "wide_gs[('vf','SE')] = wide_gs.iloc[:,1]/5634\n",
    "wide_gs.head()"
   ]
  },
  {
   "cell_type": "code",
   "execution_count": 40,
   "metadata": {},
   "outputs": [
    {
     "name": "stdout",
     "output_type": "stream",
     "text": [
      "p-value annotation legend:\n",
      "ns: 5.00e-02 < p <= 1.00e+00\n",
      "*: 1.00e-02 < p <= 5.00e-02\n",
      "**: 1.00e-03 < p <= 1.00e-02\n",
      "***: 1.00e-04 < p <= 1.00e-03\n",
      "****: p <= 1.00e-04\n",
      "\n",
      "('vf', 'ctrl') v.s. ('vf', 'SE'): Mann-Whitney-Wilcoxon test two-sided, P_val=4.558e-03 U_stat=3.470e+02\n"
     ]
    },
    {
     "data": {
      "image/png": "[encoded data removed]",
      "text/plain": [
       "<Figure size 216x360 with 1 Axes>"
      ]
     },
     "metadata": {},
     "output_type": "display_data"
    }
   ],
   "source": [
    "boxplot_fine_view(data=wide_gs.iloc[:,2:4], box_pairs=(('vf', 'ctrl'), ('vf', 'SE')), \n",
    "                        ylabel = 'VF GS', ylim = [0.0001, 0.8],\n",
    "                        ytick = 0.1, figname= 'VF GS')"
   ]
  },
  {
   "cell_type": "code",
   "execution_count": 41,
   "metadata": {},
   "outputs": [
    {
     "name": "stdout",
     "output_type": "stream",
     "text": [
      "                 vf          \n",
      "exp_group      ctrl        SE\n",
      "0.25       0.250294  0.112607\n",
      "0.50       0.321058  0.143678\n",
      "0.75       0.391418  0.239658\n"
     ]
    }
   ],
   "source": [
    "percentile_vf_gs = wide_gs.iloc[:, 2:4].quantile([0.25, 0.50 , 0.75])\n",
    "print(percentile_vf_gs)"
   ]
  },
  {
   "cell_type": "code",
   "execution_count": 42,
   "metadata": {},
   "outputs": [
    {
     "name": "stdout",
     "output_type": "stream",
     "text": [
      "Statistics=347.000, p=0.00455844\n"
     ]
    }
   ],
   "source": [
    "stat_vf_gs, p_vf_gs= mannwhitneyu(wide_gs.iloc[:, 2].dropna(), wide_gs.iloc[:, 3].dropna())\n",
    "print('Statistics=%.3f, p=%.8f' % (stat_vf_gs, p_vf_gs))"
   ]
  },
  {
   "cell_type": "markdown",
   "metadata": {},
   "source": [
    "Save obtain statistical criteria to excel file"
   ]
  },
  {
   "cell_type": "code",
   "execution_count": 43,
   "metadata": {},
   "outputs": [
    {
     "data": {
      "text/html": [
       "<div>\n",
       "<style scoped>\n",
       "    .dataframe tbody tr th:only-of-type {\n",
       "        vertical-align: middle;\n",
       "    }\n",
       "\n",
       "    .dataframe tbody tr th {\n",
       "        vertical-align: top;\n",
       "    }\n",
       "\n",
       "    .dataframe thead th {\n",
       "        text-align: right;\n",
       "    }\n",
       "</style>\n",
       "<table border=\"1\" class=\"dataframe\">\n",
       "  <thead>\n",
       "    <tr style=\"text-align: right;\">\n",
       "      <th></th>\n",
       "      <th>p-value</th>\n",
       "      <th>MW(U)</th>\n",
       "    </tr>\n",
       "  </thead>\n",
       "  <tbody>\n",
       "    <tr>\n",
       "      <th>clust_num</th>\n",
       "      <td>8.742440e-01</td>\n",
       "      <td>237.000000</td>\n",
       "    </tr>\n",
       "    <tr>\n",
       "      <th>ks_test</th>\n",
       "      <td>1.304360e-36</td>\n",
       "      <td>0.036728</td>\n",
       "    </tr>\n",
       "    <tr>\n",
       "      <th>svr_num</th>\n",
       "      <td>2.679092e-01</td>\n",
       "      <td>184.000000</td>\n",
       "    </tr>\n",
       "    <tr>\n",
       "      <th>vf_gs</th>\n",
       "      <td>4.558439e-03</td>\n",
       "      <td>347.000000</td>\n",
       "    </tr>\n",
       "  </tbody>\n",
       "</table>\n",
       "</div>"
      ],
      "text/plain": [
       "                p-value       MW(U)\n",
       "clust_num  8.742440e-01  237.000000\n",
       " ks_test   1.304360e-36    0.036728\n",
       "svr_num    2.679092e-01  184.000000\n",
       "vf_gs      4.558439e-03  347.000000"
      ]
     },
     "execution_count": 43,
     "metadata": {},
     "output_type": "execute_result"
    }
   ],
   "source": [
    "stat_table_final = pd.DataFrame(data =[(p_clust_num,stat_clust_num), (p_ks_test, stat_ks_test), \n",
    "                                        (p_svr_num, stat_svr_num), (p_vf_gs, stat_vf_gs)], \n",
    "                                index=['clust_num',' ks_test','svr_num', 'vf_gs'],\n",
    "                                columns = ['p-value', 'MW(U)'])\n",
    "stat_table_final"
   ]
  },
  {
   "cell_type": "code",
   "execution_count": 44,
   "metadata": {},
   "outputs": [
    {
     "data": {
      "text/html": [
       "<div>\n",
       "<style scoped>\n",
       "    .dataframe tbody tr th:only-of-type {\n",
       "        vertical-align: middle;\n",
       "    }\n",
       "\n",
       "    .dataframe tbody tr th {\n",
       "        vertical-align: top;\n",
       "    }\n",
       "\n",
       "    .dataframe thead th {\n",
       "        text-align: right;\n",
       "    }\n",
       "</style>\n",
       "<table border=\"1\" class=\"dataframe\">\n",
       "  <thead>\n",
       "    <tr style=\"text-align: right;\">\n",
       "      <th></th>\n",
       "      <th></th>\n",
       "      <th>ctrl</th>\n",
       "      <th>SE</th>\n",
       "    </tr>\n",
       "  </thead>\n",
       "  <tbody>\n",
       "    <tr>\n",
       "      <th rowspan=\"3\" valign=\"top\">num_clusters</th>\n",
       "      <th>0.25</th>\n",
       "      <td>54.773785</td>\n",
       "      <td>53.614217</td>\n",
       "    </tr>\n",
       "    <tr>\n",
       "      <th>0.50</th>\n",
       "      <td>57.184837</td>\n",
       "      <td>58.484203</td>\n",
       "    </tr>\n",
       "    <tr>\n",
       "      <th>0.75</th>\n",
       "      <td>66.069738</td>\n",
       "      <td>61.401757</td>\n",
       "    </tr>\n",
       "    <tr>\n",
       "      <th rowspan=\"3\" valign=\"top\">svr_clusters</th>\n",
       "      <th>0.25</th>\n",
       "      <td>10.719648</td>\n",
       "      <td>10.890548</td>\n",
       "    </tr>\n",
       "    <tr>\n",
       "      <th>0.50</th>\n",
       "      <td>10.874891</td>\n",
       "      <td>11.223198</td>\n",
       "    </tr>\n",
       "    <tr>\n",
       "      <th>0.75</th>\n",
       "      <td>11.589557</td>\n",
       "      <td>11.964177</td>\n",
       "    </tr>\n",
       "    <tr>\n",
       "      <th rowspan=\"3\" valign=\"top\">vf_gs</th>\n",
       "      <th>0.25</th>\n",
       "      <td>0.250294</td>\n",
       "      <td>0.112607</td>\n",
       "    </tr>\n",
       "    <tr>\n",
       "      <th>0.50</th>\n",
       "      <td>0.321058</td>\n",
       "      <td>0.143678</td>\n",
       "    </tr>\n",
       "    <tr>\n",
       "      <th>0.75</th>\n",
       "      <td>0.391418</td>\n",
       "      <td>0.239658</td>\n",
       "    </tr>\n",
       "  </tbody>\n",
       "</table>\n",
       "</div>"
      ],
      "text/plain": [
       "                        ctrl         SE\n",
       "num_clusters 0.25  54.773785  53.614217\n",
       "             0.50  57.184837  58.484203\n",
       "             0.75  66.069738  61.401757\n",
       "svr_clusters 0.25  10.719648  10.890548\n",
       "             0.50  10.874891  11.223198\n",
       "             0.75  11.589557  11.964177\n",
       "vf_gs        0.25   0.250294   0.112607\n",
       "             0.50   0.321058   0.143678\n",
       "             0.75   0.391418   0.239658"
      ]
     },
     "execution_count": 44,
     "metadata": {},
     "output_type": "execute_result"
    }
   ],
   "source": [
    "perc_table_final = pd.concat([pd.DataFrame(data = percentile_num_clusters.values, index=[0.25, 0.50, 0.75], columns = ['ctrl', 'SE']), \n",
    "           pd.DataFrame(data = percentile_svr_clusters.values, index=[0.25, 0.50, 0.75], columns = ['ctrl', 'SE']),\n",
    "           pd.DataFrame(data = percentile_vf_gs.values, index=[0.25, 0.50, 0.75], columns = ['ctrl', 'SE'])], \n",
    "           axis = 0, keys=['num_clusters', 'svr_clusters', 'vf_gs'])\n",
    "perc_table_final"
   ]
  },
  {
   "cell_type": "code",
   "execution_count": 45,
   "metadata": {},
   "outputs": [],
   "source": [
    "with pd.ExcelWriter('output_table/final_out_gs_glt.xlsx') as writer:  \n",
    "    perc_table_final.to_excel(writer, sheet_name='Percentiles', float_format=\"%.2f\")\n",
    "    stat_table_final.to_excel(writer, sheet_name='P-val, MW(U)', float_format=\"%.10f\")"
   ]
  }
 ],
 "metadata": {
  "interpreter": {
   "hash": "839100695437559281b8fd85208553f8978ac3900eb3d81f4750dc1f4155d647"
  },
  "kernelspec": {
   "display_name": "Python 3.9.7 ('base')",
   "language": "python",
   "name": "python3"
  },
  "language_info": {
   "codemirror_mode": {
    "name": "ipython",
    "version": 3
   },
   "file_extension": ".py",
   "mimetype": "text/x-python",
   "name": "python",
   "nbconvert_exporter": "python",
   "pygments_lexer": "ipython3",
   "version": "3.9.7"
  },
  "orig_nbformat": 4
 },
 "nbformat": 4,
 "nbformat_minor": 2
}
