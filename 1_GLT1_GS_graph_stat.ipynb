{
 "cells": [
  {
   "cell_type": "markdown",
   "metadata": {},
   "source": [
    "base_python env"
   ]
  },
  {
   "cell_type": "code",
   "execution_count": 62,
   "metadata": {},
   "outputs": [],
   "source": [
    "from IPython import get_ipython\n",
    "get_ipython().run_line_magic('reset', '-sf') \n",
    "\n",
    "import pandas as pd\n",
    "import numpy as np\n",
    "import glob\n",
    "import re\n",
    "\n",
    "import matplotlib.pyplot as plt\n",
    "import matplotlib.ticker as ticker\n",
    "import seaborn as sns\n",
    "from scipy.stats import mannwhitneyu, ks_2samp, ks_1samp, norm\n",
    "from statannot import add_stat_annotation\n",
    "import os\n",
    "from modules.data_loader import file_extraction, csv_to_xlsx,file_folder_creator\n",
    "from modules.graphics_handler import histplot_fine_view, boxplot_fine_view\n"
   ]
  },
  {
   "cell_type": "markdown",
   "metadata": {},
   "source": [
    "First of all, we need to choose export column in the input tables.\n",
    "Here, we need Volume(unit) and SurfaceArea (um2). \n",
    "\n",
    "## Step 1. Grab .csv files, convert it to .xlsx and upload into dataframe (df)."
   ]
  },
  {
   "cell_type": "code",
   "execution_count": 63,
   "metadata": {},
   "outputs": [],
   "source": [
    "search_path = 'data/*cell*'\n",
    "tot_vol_path = 'data/total_vol.xlsx'\n",
    "save_folder = 'GS_GLT/'"
   ]
  },
  {
   "cell_type": "code",
   "execution_count": 64,
   "metadata": {},
   "outputs": [],
   "source": [
    "csv_to_xlsx(search_path)"
   ]
  },
  {
   "cell_type": "code",
   "execution_count": 65,
   "metadata": {},
   "outputs": [],
   "source": [
    "data = file_extraction(search_path)"
   ]
  },
  {
   "cell_type": "code",
   "execution_count": 66,
   "metadata": {},
   "outputs": [
    {
     "data": {
      "text/html": [
       "<div>\n",
       "<style scoped>\n",
       "    .dataframe tbody tr th:only-of-type {\n",
       "        vertical-align: middle;\n",
       "    }\n",
       "\n",
       "    .dataframe tbody tr th {\n",
       "        vertical-align: top;\n",
       "    }\n",
       "\n",
       "    .dataframe thead th {\n",
       "        text-align: right;\n",
       "    }\n",
       "</style>\n",
       "<table border=\"1\" class=\"dataframe\">\n",
       "  <thead>\n",
       "    <tr style=\"text-align: right;\">\n",
       "      <th></th>\n",
       "      <th>volume</th>\n",
       "      <th>surface_area</th>\n",
       "      <th>animal_num</th>\n",
       "      <th>exp_group</th>\n",
       "      <th>slice_num</th>\n",
       "      <th>cell_num</th>\n",
       "      <th>protein</th>\n",
       "    </tr>\n",
       "    <tr>\n",
       "      <th>id</th>\n",
       "      <th></th>\n",
       "      <th></th>\n",
       "      <th></th>\n",
       "      <th></th>\n",
       "      <th></th>\n",
       "      <th></th>\n",
       "      <th></th>\n",
       "    </tr>\n",
       "  </thead>\n",
       "  <tbody>\n",
       "    <tr>\n",
       "      <th>1</th>\n",
       "      <td>0.0788</td>\n",
       "      <td>1.4307</td>\n",
       "      <td>1</td>\n",
       "      <td>ctrl</td>\n",
       "      <td>1</td>\n",
       "      <td>1</td>\n",
       "      <td>GLT</td>\n",
       "    </tr>\n",
       "    <tr>\n",
       "      <th>2</th>\n",
       "      <td>0.1504</td>\n",
       "      <td>2.5328</td>\n",
       "      <td>1</td>\n",
       "      <td>ctrl</td>\n",
       "      <td>1</td>\n",
       "      <td>1</td>\n",
       "      <td>GLT</td>\n",
       "    </tr>\n",
       "    <tr>\n",
       "      <th>3</th>\n",
       "      <td>0.3366</td>\n",
       "      <td>3.3982</td>\n",
       "      <td>1</td>\n",
       "      <td>ctrl</td>\n",
       "      <td>1</td>\n",
       "      <td>1</td>\n",
       "      <td>GLT</td>\n",
       "    </tr>\n",
       "    <tr>\n",
       "      <th>4</th>\n",
       "      <td>0.2685</td>\n",
       "      <td>3.8858</td>\n",
       "      <td>1</td>\n",
       "      <td>ctrl</td>\n",
       "      <td>1</td>\n",
       "      <td>1</td>\n",
       "      <td>GLT</td>\n",
       "    </tr>\n",
       "    <tr>\n",
       "      <th>5</th>\n",
       "      <td>0.4296</td>\n",
       "      <td>5.0187</td>\n",
       "      <td>1</td>\n",
       "      <td>ctrl</td>\n",
       "      <td>1</td>\n",
       "      <td>1</td>\n",
       "      <td>GLT</td>\n",
       "    </tr>\n",
       "  </tbody>\n",
       "</table>\n",
       "</div>"
      ],
      "text/plain": [
       "    volume  surface_area animal_num exp_group slice_num cell_num protein\n",
       "id                                                                      \n",
       "1   0.0788        1.4307          1      ctrl         1        1     GLT\n",
       "2   0.1504        2.5328          1      ctrl         1        1     GLT\n",
       "3   0.3366        3.3982          1      ctrl         1        1     GLT\n",
       "4   0.2685        3.8858          1      ctrl         1        1     GLT\n",
       "5   0.4296        5.0187          1      ctrl         1        1     GLT"
      ]
     },
     "execution_count": 66,
     "metadata": {},
     "output_type": "execute_result"
    }
   ],
   "source": [
    "data.head()"
   ]
  },
  {
   "cell_type": "markdown",
   "metadata": {},
   "source": [
    "We can see descriptive statistics for our data."
   ]
  },
  {
   "cell_type": "code",
   "execution_count": 67,
   "metadata": {},
   "outputs": [
    {
     "data": {
      "text/html": [
       "<div>\n",
       "<style scoped>\n",
       "    .dataframe tbody tr th:only-of-type {\n",
       "        vertical-align: middle;\n",
       "    }\n",
       "\n",
       "    .dataframe tbody tr th {\n",
       "        vertical-align: top;\n",
       "    }\n",
       "\n",
       "    .dataframe thead th {\n",
       "        text-align: right;\n",
       "    }\n",
       "</style>\n",
       "<table border=\"1\" class=\"dataframe\">\n",
       "  <thead>\n",
       "    <tr style=\"text-align: right;\">\n",
       "      <th></th>\n",
       "      <th>volume</th>\n",
       "      <th>surface_area</th>\n",
       "    </tr>\n",
       "  </thead>\n",
       "  <tbody>\n",
       "    <tr>\n",
       "      <th>count</th>\n",
       "      <td>1.442190e+05</td>\n",
       "      <td>1.442190e+05</td>\n",
       "    </tr>\n",
       "    <tr>\n",
       "      <th>mean</th>\n",
       "      <td>9.548748e+00</td>\n",
       "      <td>6.836457e+02</td>\n",
       "    </tr>\n",
       "    <tr>\n",
       "      <th>std</th>\n",
       "      <td>3.293242e+03</td>\n",
       "      <td>3.575108e+04</td>\n",
       "    </tr>\n",
       "    <tr>\n",
       "      <th>min</th>\n",
       "      <td>3.000000e-03</td>\n",
       "      <td>1.460000e-01</td>\n",
       "    </tr>\n",
       "    <tr>\n",
       "      <th>25%</th>\n",
       "      <td>1.683000e-01</td>\n",
       "      <td>2.420300e+00</td>\n",
       "    </tr>\n",
       "    <tr>\n",
       "      <th>50%</th>\n",
       "      <td>3.360000e-01</td>\n",
       "      <td>3.875200e+00</td>\n",
       "    </tr>\n",
       "    <tr>\n",
       "      <th>75%</th>\n",
       "      <td>5.514000e-01</td>\n",
       "      <td>5.513900e+00</td>\n",
       "    </tr>\n",
       "    <tr>\n",
       "      <th>max</th>\n",
       "      <td>1.250592e+06</td>\n",
       "      <td>2.902219e+06</td>\n",
       "    </tr>\n",
       "  </tbody>\n",
       "</table>\n",
       "</div>"
      ],
      "text/plain": [
       "             volume  surface_area\n",
       "count  1.442190e+05  1.442190e+05\n",
       "mean   9.548748e+00  6.836457e+02\n",
       "std    3.293242e+03  3.575108e+04\n",
       "min    3.000000e-03  1.460000e-01\n",
       "25%    1.683000e-01  2.420300e+00\n",
       "50%    3.360000e-01  3.875200e+00\n",
       "75%    5.514000e-01  5.513900e+00\n",
       "max    1.250592e+06  2.902219e+06"
      ]
     },
     "execution_count": 67,
     "metadata": {},
     "output_type": "execute_result"
    }
   ],
   "source": [
    "data.describe()"
   ]
  },
  {
   "cell_type": "markdown",
   "metadata": {},
   "source": [
    "## Step 2. Distribution histograms"
   ]
  },
  {
   "cell_type": "code",
   "execution_count": 68,
   "metadata": {},
   "outputs": [],
   "source": [
    "CLUST_PROTEIN, CELL_PROTEIN = data['protein'].unique()"
   ]
  },
  {
   "cell_type": "code",
   "execution_count": 69,
   "metadata": {},
   "outputs": [],
   "source": [
    "data_clust= data[(data['protein']==CLUST_PROTEIN)].copy(deep=True)\n",
    "data_cell = data[(data['protein']==CELL_PROTEIN)].copy(deep=True)"
   ]
  },
  {
   "cell_type": "code",
   "execution_count": 70,
   "metadata": {},
   "outputs": [],
   "source": [
    "data_clust.drop(data_clust[data_clust['volume']>1.7].index, inplace=True)\n",
    "data_clust.drop(data_clust[data_clust['surface_area']>11].index, inplace=True)"
   ]
  },
  {
   "cell_type": "code",
   "execution_count": 71,
   "metadata": {},
   "outputs": [
    {
     "data": {
      "text/plain": [
       "'Folder created'"
      ]
     },
     "execution_count": 71,
     "metadata": {},
     "output_type": "execute_result"
    }
   ],
   "source": [
    "file_folder_creator('figs')"
   ]
  },
  {
   "cell_type": "code",
   "execution_count": 72,
   "metadata": {},
   "outputs": [
    {
     "data": {
      "text/plain": [
       "'Folder created'"
      ]
     },
     "execution_count": 72,
     "metadata": {},
     "output_type": "execute_result"
    }
   ],
   "source": [
    "file_folder_creator(f'figs/{save_folder}')"
   ]
  },
  {
   "cell_type": "code",
   "execution_count": 73,
   "metadata": {},
   "outputs": [
    {
     "data": {
      "text/plain": [
       "'Folder created'"
      ]
     },
     "execution_count": 73,
     "metadata": {},
     "output_type": "execute_result"
    }
   ],
   "source": [
    "file_folder_creator('output_table')"
   ]
  },
  {
   "cell_type": "code",
   "execution_count": 74,
   "metadata": {},
   "outputs": [
    {
     "data": {
      "image/png": "[encoded data removed]",
      "text/plain": [
       "<Figure size 504x288 with 1 Axes>"
      ]
     },
     "metadata": {},
     "output_type": "display_data"
    }
   ],
   "source": [
    "histplot_fine_view(data=data_clust, x='volume',\n",
    "                    binwidth=0.1, binrange=[0,2], \n",
    "                    ytick=0.02, xtick=0.25,\n",
    "                    ylim=[0.0001, 0.1], xlim=[0.0001, 1.75],\n",
    "                    ylabel='Плотность распределения', xlabel=f'Объем кластеров {CLUST_PROTEIN}',\n",
    "                    figname = f'{save_folder}/плотность распределения кластеров {CLUST_PROTEIN} с разным объемом')"
   ]
  },
  {
   "cell_type": "code",
   "execution_count": 75,
   "metadata": {},
   "outputs": [
    {
     "data": {
      "text/plain": [
       "KstestResult(statistic=0.5051830219896157, pvalue=0.0)"
      ]
     },
     "execution_count": 75,
     "metadata": {},
     "output_type": "execute_result"
    }
   ],
   "source": [
    "ks_1samp(data_clust[data_clust['exp_group']=='ctrl'].loc[:,'volume'], norm.cdf)"
   ]
  },
  {
   "cell_type": "code",
   "execution_count": 76,
   "metadata": {},
   "outputs": [
    {
     "data": {
      "text/plain": [
       "KstestResult(statistic=0.5039893563146316, pvalue=0.0)"
      ]
     },
     "execution_count": 76,
     "metadata": {},
     "output_type": "execute_result"
    }
   ],
   "source": [
    "ks_1samp(data_clust[data_clust['exp_group']=='SE'].loc[:,'volume'], norm.cdf)"
   ]
  },
  {
   "cell_type": "code",
   "execution_count": 77,
   "metadata": {},
   "outputs": [
    {
     "data": {
      "text/plain": [
       "KstestResult(statistic=0.02932892603038767, pvalue=1.6858631475683623e-23)"
      ]
     },
     "execution_count": 77,
     "metadata": {},
     "output_type": "execute_result"
    }
   ],
   "source": [
    "ks_2samp(data_clust[data_clust['exp_group']=='ctrl'].loc[:,'volume'], \n",
    "         data_clust[data_clust['exp_group']=='SE'].loc[:,'volume'])"
   ]
  },
  {
   "cell_type": "markdown",
   "metadata": {},
   "source": [
    "Here we observe the difference between GLT volume clusters distributions and the normal one. The difference between the control and the experiment are exists."
   ]
  },
  {
   "cell_type": "code",
   "execution_count": 78,
   "metadata": {},
   "outputs": [
    {
     "data": {
      "image/png": "[encoded data removed]",
      "text/plain": [
       "<Figure size 504x288 with 1 Axes>"
      ]
     },
     "metadata": {},
     "output_type": "display_data"
    }
   ],
   "source": [
    "histplot_fine_view(data=data_clust, x='surface_area',\n",
    "                    binwidth=0.5, binrange=[0,10], \n",
    "                    ytick=0.01, xtick=1,\n",
    "                    ylim=[0.0001, 0.06], xlim=[0.0001, 10],\n",
    "                    ylabel='Плотность распределения', xlabel=f'Площадь поверхности кластеров {CLUST_PROTEIN}',\n",
    "                    figname = f'{save_folder}/площадь поверхности клатеров {CLUST_PROTEIN} с разным объемом')\n"
   ]
  },
  {
   "cell_type": "code",
   "execution_count": 79,
   "metadata": {},
   "outputs": [
    {
     "data": {
      "text/plain": [
       "KstestResult(statistic=0.886233125486906, pvalue=0.0)"
      ]
     },
     "execution_count": 79,
     "metadata": {},
     "output_type": "execute_result"
    }
   ],
   "source": [
    "ks_1samp(data_clust[data_clust['exp_group']=='ctrl'].loc[:,'surface_area'], norm.cdf)"
   ]
  },
  {
   "cell_type": "code",
   "execution_count": 80,
   "metadata": {},
   "outputs": [
    {
     "data": {
      "text/plain": [
       "KstestResult(statistic=0.8747511679887847, pvalue=0.0)"
      ]
     },
     "execution_count": 80,
     "metadata": {},
     "output_type": "execute_result"
    }
   ],
   "source": [
    "ks_1samp(data_clust[data_clust['exp_group']=='SE'].loc[:,'surface_area'], norm.cdf)"
   ]
  },
  {
   "cell_type": "code",
   "execution_count": 81,
   "metadata": {},
   "outputs": [
    {
     "data": {
      "text/plain": [
       "KstestResult(statistic=0.019520552432212623, pvalue=1.1984869759200329e-10)"
      ]
     },
     "execution_count": 81,
     "metadata": {},
     "output_type": "execute_result"
    }
   ],
   "source": [
    "ks_2samp(data_clust[data_clust['exp_group']=='ctrl'].loc[:,'surface_area'], \n",
    "                  data_clust[data_clust['exp_group']=='SE'].loc[:,'surface_area'])"
   ]
  },
  {
   "cell_type": "markdown",
   "metadata": {},
   "source": [
    "GLT clusters surface area of control and experimental group has a distribution that differ from normal. Moreover, they are also distinct between each other.   "
   ]
  },
  {
   "cell_type": "markdown",
   "metadata": {},
   "source": [
    "We need to calculate surface-to-volume ration to obtain information about clusters shape"
   ]
  },
  {
   "cell_type": "code",
   "execution_count": 82,
   "metadata": {},
   "outputs": [
    {
     "data": {
      "text/html": [
       "<div>\n",
       "<style scoped>\n",
       "    .dataframe tbody tr th:only-of-type {\n",
       "        vertical-align: middle;\n",
       "    }\n",
       "\n",
       "    .dataframe tbody tr th {\n",
       "        vertical-align: top;\n",
       "    }\n",
       "\n",
       "    .dataframe thead th {\n",
       "        text-align: right;\n",
       "    }\n",
       "</style>\n",
       "<table border=\"1\" class=\"dataframe\">\n",
       "  <thead>\n",
       "    <tr style=\"text-align: right;\">\n",
       "      <th></th>\n",
       "      <th>volume</th>\n",
       "      <th>surface_area</th>\n",
       "      <th>animal_num</th>\n",
       "      <th>exp_group</th>\n",
       "      <th>slice_num</th>\n",
       "      <th>cell_num</th>\n",
       "      <th>protein</th>\n",
       "      <th>svr_clust</th>\n",
       "    </tr>\n",
       "    <tr>\n",
       "      <th>id</th>\n",
       "      <th></th>\n",
       "      <th></th>\n",
       "      <th></th>\n",
       "      <th></th>\n",
       "      <th></th>\n",
       "      <th></th>\n",
       "      <th></th>\n",
       "      <th></th>\n",
       "    </tr>\n",
       "  </thead>\n",
       "  <tbody>\n",
       "    <tr>\n",
       "      <th>1</th>\n",
       "      <td>0.0788</td>\n",
       "      <td>1.4307</td>\n",
       "      <td>1</td>\n",
       "      <td>ctrl</td>\n",
       "      <td>1</td>\n",
       "      <td>1</td>\n",
       "      <td>GLT</td>\n",
       "      <td>18.156091</td>\n",
       "    </tr>\n",
       "    <tr>\n",
       "      <th>2</th>\n",
       "      <td>0.1504</td>\n",
       "      <td>2.5328</td>\n",
       "      <td>1</td>\n",
       "      <td>ctrl</td>\n",
       "      <td>1</td>\n",
       "      <td>1</td>\n",
       "      <td>GLT</td>\n",
       "      <td>16.840426</td>\n",
       "    </tr>\n",
       "    <tr>\n",
       "      <th>3</th>\n",
       "      <td>0.3366</td>\n",
       "      <td>3.3982</td>\n",
       "      <td>1</td>\n",
       "      <td>ctrl</td>\n",
       "      <td>1</td>\n",
       "      <td>1</td>\n",
       "      <td>GLT</td>\n",
       "      <td>10.095663</td>\n",
       "    </tr>\n",
       "    <tr>\n",
       "      <th>4</th>\n",
       "      <td>0.2685</td>\n",
       "      <td>3.8858</td>\n",
       "      <td>1</td>\n",
       "      <td>ctrl</td>\n",
       "      <td>1</td>\n",
       "      <td>1</td>\n",
       "      <td>GLT</td>\n",
       "      <td>14.472253</td>\n",
       "    </tr>\n",
       "    <tr>\n",
       "      <th>5</th>\n",
       "      <td>0.4296</td>\n",
       "      <td>5.0187</td>\n",
       "      <td>1</td>\n",
       "      <td>ctrl</td>\n",
       "      <td>1</td>\n",
       "      <td>1</td>\n",
       "      <td>GLT</td>\n",
       "      <td>11.682263</td>\n",
       "    </tr>\n",
       "  </tbody>\n",
       "</table>\n",
       "</div>"
      ],
      "text/plain": [
       "    volume  surface_area animal_num exp_group slice_num cell_num protein  \\\n",
       "id                                                                         \n",
       "1   0.0788        1.4307          1      ctrl         1        1     GLT   \n",
       "2   0.1504        2.5328          1      ctrl         1        1     GLT   \n",
       "3   0.3366        3.3982          1      ctrl         1        1     GLT   \n",
       "4   0.2685        3.8858          1      ctrl         1        1     GLT   \n",
       "5   0.4296        5.0187          1      ctrl         1        1     GLT   \n",
       "\n",
       "    svr_clust  \n",
       "id             \n",
       "1   18.156091  \n",
       "2   16.840426  \n",
       "3   10.095663  \n",
       "4   14.472253  \n",
       "5   11.682263  "
      ]
     },
     "execution_count": 82,
     "metadata": {},
     "output_type": "execute_result"
    }
   ],
   "source": [
    "data_clust['svr_clust'] = data_clust.loc[:, 'surface_area']/data_clust.loc[:, 'volume']\n",
    "data_clust.head()"
   ]
  },
  {
   "cell_type": "code",
   "execution_count": 83,
   "metadata": {},
   "outputs": [
    {
     "data": {
      "image/png": "[encoded data removed]",
      "text/plain": [
       "<Figure size 504x288 with 1 Axes>"
      ]
     },
     "metadata": {},
     "output_type": "display_data"
    }
   ],
   "source": [
    "histplot_fine_view(data=data_clust, x='svr_clust',\n",
    "                    binwidth=1, binrange=[0,30], \n",
    "                    ytick=0.02, xtick=5,\n",
    "                    ylim=[0.0001, 0.1], xlim=[5, 25],\n",
    "                    ylabel='Плотность распределения', xlabel=f'SVR кластеров {CLUST_PROTEIN}',\n",
    "                    figname = f'{save_folder}/SVR кластеров {CLUST_PROTEIN} с разным объемом')\n"
   ]
  },
  {
   "cell_type": "code",
   "execution_count": 84,
   "metadata": {},
   "outputs": [
    {
     "data": {
      "text/plain": [
       "KstestResult(statistic=0.9999999980817719, pvalue=0.0)"
      ]
     },
     "execution_count": 84,
     "metadata": {},
     "output_type": "execute_result"
    }
   ],
   "source": [
    "ks_1samp(data_clust[data_clust['exp_group']=='ctrl'].loc[:,'svr_clust'], norm.cdf)"
   ]
  },
  {
   "cell_type": "code",
   "execution_count": 85,
   "metadata": {},
   "outputs": [
    {
     "data": {
      "text/plain": [
       "KstestResult(statistic=0.9999999996231396, pvalue=0.0)"
      ]
     },
     "execution_count": 85,
     "metadata": {},
     "output_type": "execute_result"
    }
   ],
   "source": [
    "ks_1samp(data_clust[data_clust['exp_group']=='SE'].loc[:,'svr_clust'], norm.cdf)"
   ]
  },
  {
   "cell_type": "code",
   "execution_count": 86,
   "metadata": {},
   "outputs": [
    {
     "name": "stdout",
     "output_type": "stream",
     "text": [
      "Statistics=0.037, p=0.00000000000000000000000000000000000130436002821362\n"
     ]
    }
   ],
   "source": [
    "stat_ks_test, p_ks_test = ks_2samp(data_clust[data_clust['exp_group']=='ctrl'].iloc[:,-1], data_clust[data_clust['exp_group']=='SE'].iloc[:,-1])\n",
    "\n",
    "print('Statistics=%.3f, p=%.50f' % (stat_ks_test, p_ks_test))"
   ]
  },
  {
   "cell_type": "markdown",
   "metadata": {},
   "source": [
    "The curves from the two experimental groups belong to different distributions, which is confirmed by the Kolmagorov-Smirnov test"
   ]
  },
  {
   "cell_type": "markdown",
   "metadata": {},
   "source": [
    "## Step 3. Hypothesis testing"
   ]
  },
  {
   "cell_type": "code",
   "execution_count": 87,
   "metadata": {},
   "outputs": [],
   "source": [
    "mask_ctrl_clust = data['exp_group']=='ctrl'\n",
    "mask_SE_clust= data['exp_group']=='SE'"
   ]
  },
  {
   "cell_type": "code",
   "execution_count": 88,
   "metadata": {},
   "outputs": [
    {
     "data": {
      "text/plain": [
       "<AxesSubplot:>"
      ]
     },
     "execution_count": 88,
     "metadata": {},
     "output_type": "execute_result"
    },
    {
     "data": {
      "image/png": "[encoded data removed]",
      "text/plain": [
       "<Figure size 432x288 with 2 Axes>"
      ]
     },
     "metadata": {},
     "output_type": "display_data"
    }
   ],
   "source": [
    "sns.heatmap(data[mask_ctrl_clust].loc[:, ['volume', 'surface_area']].corr(), annot=True)"
   ]
  },
  {
   "cell_type": "code",
   "execution_count": 89,
   "metadata": {},
   "outputs": [
    {
     "data": {
      "text/plain": [
       "<AxesSubplot:>"
      ]
     },
     "execution_count": 89,
     "metadata": {},
     "output_type": "execute_result"
    },
    {
     "data": {
      "image/png": "[encoded data removed]",
      "text/plain": [
       "<Figure size 432x288 with 2 Axes>"
      ]
     },
     "metadata": {},
     "output_type": "display_data"
    }
   ],
   "source": [
    "sns.heatmap(data[mask_SE_clust].loc[:, ['volume', 'surface_area']].corr(), annot=True)"
   ]
  },
  {
   "cell_type": "markdown",
   "metadata": {},
   "source": [
    "We see a positive correlation between the cluster volume and its surface area for the SE group. This means that the larger the volume, the larger the surface area."
   ]
  },
  {
   "cell_type": "markdown",
   "metadata": {},
   "source": [
    "### SVR ctrl vs. SE"
   ]
  },
  {
   "cell_type": "markdown",
   "metadata": {},
   "source": [
    "We want to see the distribution of features in individual cells. For this we use pivot_table"
   ]
  },
  {
   "cell_type": "code",
   "execution_count": 90,
   "metadata": {},
   "outputs": [
    {
     "data": {
      "text/html": [
       "<div>\n",
       "<style scoped>\n",
       "    .dataframe tbody tr th:only-of-type {\n",
       "        vertical-align: middle;\n",
       "    }\n",
       "\n",
       "    .dataframe tbody tr th {\n",
       "        vertical-align: top;\n",
       "    }\n",
       "\n",
       "    .dataframe thead tr th {\n",
       "        text-align: left;\n",
       "    }\n",
       "\n",
       "    .dataframe thead tr:last-of-type th {\n",
       "        text-align: right;\n",
       "    }\n",
       "</style>\n",
       "<table border=\"1\" class=\"dataframe\">\n",
       "  <thead>\n",
       "    <tr>\n",
       "      <th></th>\n",
       "      <th></th>\n",
       "      <th></th>\n",
       "      <th colspan=\"2\" halign=\"left\">volume</th>\n",
       "      <th colspan=\"2\" halign=\"left\">surface_area</th>\n",
       "      <th colspan=\"2\" halign=\"left\">svr_clust</th>\n",
       "    </tr>\n",
       "    <tr>\n",
       "      <th></th>\n",
       "      <th></th>\n",
       "      <th>exp_group</th>\n",
       "      <th>ctrl</th>\n",
       "      <th>SE</th>\n",
       "      <th>ctrl</th>\n",
       "      <th>SE</th>\n",
       "      <th>ctrl</th>\n",
       "      <th>SE</th>\n",
       "    </tr>\n",
       "    <tr>\n",
       "      <th>animal_num</th>\n",
       "      <th>slice_num</th>\n",
       "      <th>cell_num</th>\n",
       "      <th></th>\n",
       "      <th></th>\n",
       "      <th></th>\n",
       "      <th></th>\n",
       "      <th></th>\n",
       "      <th></th>\n",
       "    </tr>\n",
       "  </thead>\n",
       "  <tbody>\n",
       "    <tr>\n",
       "      <th rowspan=\"4\" valign=\"top\">1</th>\n",
       "      <th rowspan=\"2\" valign=\"top\">1</th>\n",
       "      <th>1</th>\n",
       "      <td>0.3724</td>\n",
       "      <td>0.2550</td>\n",
       "      <td>4.3333</td>\n",
       "      <td>3.2040</td>\n",
       "      <td>11.585260</td>\n",
       "      <td>12.569170</td>\n",
       "    </tr>\n",
       "    <tr>\n",
       "      <th>2</th>\n",
       "      <td>0.3258</td>\n",
       "      <td>0.3040</td>\n",
       "      <td>3.7909</td>\n",
       "      <td>3.6140</td>\n",
       "      <td>11.593853</td>\n",
       "      <td>11.957143</td>\n",
       "    </tr>\n",
       "    <tr>\n",
       "      <th rowspan=\"2\" valign=\"top\">2</th>\n",
       "      <th>1</th>\n",
       "      <td>0.3724</td>\n",
       "      <td>0.2710</td>\n",
       "      <td>4.1128</td>\n",
       "      <td>3.3670</td>\n",
       "      <td>11.010475</td>\n",
       "      <td>12.362676</td>\n",
       "    </tr>\n",
       "    <tr>\n",
       "      <th>2</th>\n",
       "      <td>0.4082</td>\n",
       "      <td>0.2895</td>\n",
       "      <td>4.3992</td>\n",
       "      <td>3.4855</td>\n",
       "      <td>10.798890</td>\n",
       "      <td>12.084979</td>\n",
       "    </tr>\n",
       "    <tr>\n",
       "      <th>2</th>\n",
       "      <th>1</th>\n",
       "      <th>1</th>\n",
       "      <td>0.2936</td>\n",
       "      <td>0.3010</td>\n",
       "      <td>3.5407</td>\n",
       "      <td>3.6310</td>\n",
       "      <td>12.125590</td>\n",
       "      <td>11.985281</td>\n",
       "    </tr>\n",
       "  </tbody>\n",
       "</table>\n",
       "</div>"
      ],
      "text/plain": [
       "                               volume         surface_area          svr_clust  \\\n",
       "exp_group                        ctrl      SE         ctrl      SE       ctrl   \n",
       "animal_num slice_num cell_num                                                   \n",
       "1          1         1         0.3724  0.2550       4.3333  3.2040  11.585260   \n",
       "                     2         0.3258  0.3040       3.7909  3.6140  11.593853   \n",
       "           2         1         0.3724  0.2710       4.1128  3.3670  11.010475   \n",
       "                     2         0.4082  0.2895       4.3992  3.4855  10.798890   \n",
       "2          1         1         0.2936  0.3010       3.5407  3.6310  12.125590   \n",
       "\n",
       "                                          \n",
       "exp_group                             SE  \n",
       "animal_num slice_num cell_num             \n",
       "1          1         1         12.569170  \n",
       "                     2         11.957143  \n",
       "           2         1         12.362676  \n",
       "                     2         12.084979  \n",
       "2          1         1         11.985281  "
      ]
     },
     "execution_count": 90,
     "metadata": {},
     "output_type": "execute_result"
    }
   ],
   "source": [
    "wide_clust = pd.pivot_table(data_clust,\n",
    "                index = ['animal_num','slice_num','cell_num'],\n",
    "                columns = ['exp_group'],\n",
    "                values = ['volume', 'surface_area', 'svr_clust'],\n",
    "                aggfunc = 'median')  \n",
    "wide_clust = wide_clust.reindex(columns=[('volume','ctrl'),('volume','SE'), \n",
    "                            ('surface_area', 'ctrl'), ('surface_area', 'SE'), \n",
    "                            ('svr_clust','ctrl'), ('svr_clust','SE')])\n",
    "wide_clust.head()\n"
   ]
  },
  {
   "cell_type": "code",
   "execution_count": 91,
   "metadata": {},
   "outputs": [
    {
     "name": "stdout",
     "output_type": "stream",
     "text": [
      "p-value annotation legend:\n",
      "ns: 5.00e-02 < p <= 1.00e+00\n",
      "*: 1.00e-02 < p <= 5.00e-02\n",
      "**: 1.00e-03 < p <= 1.00e-02\n",
      "***: 1.00e-04 < p <= 1.00e-03\n",
      "****: p <= 1.00e-04\n",
      "\n",
      "('svr_clust', 'ctrl') v.s. ('svr_clust', 'SE'): Mann-Whitney-Wilcoxon test two-sided, P_val=2.679e-01 U_stat=1.840e+02\n"
     ]
    },
    {
     "data": {
      "image/png": "[encoded data removed]",
      "text/plain": [
       "<Figure size 216x360 with 1 Axes>"
      ]
     },
     "metadata": {},
     "output_type": "display_data"
    }
   ],
   "source": [
    "boxplot_fine_view(data=wide_clust.iloc[:, 4:6], \n",
    "                    box_pairs=(('svr_clust','ctrl'),('svr_clust','SE')),\n",
    "                    ylabel=f'SVR кластеров {CLUST_PROTEIN}',\n",
    "                    ylim=[10, 13], ytick = 0.5,\n",
    "                    figname = f'{save_folder}/SVR кластеров {CLUST_PROTEIN}')"
   ]
  },
  {
   "cell_type": "code",
   "execution_count": 92,
   "metadata": {},
   "outputs": [
    {
     "name": "stdout",
     "output_type": "stream",
     "text": [
      "           svr_clust           \n",
      "exp_group       ctrl         SE\n",
      "0.25       10.719648  10.890548\n",
      "0.50       10.874891  11.223198\n",
      "0.75       11.589557  11.964177\n"
     ]
    }
   ],
   "source": [
    "percentile_svr_clusters = wide_clust.iloc[:, 4:6].quantile([0.25, 0.50 , 0.75])\n",
    "print(percentile_svr_clusters)"
   ]
  },
  {
   "cell_type": "code",
   "execution_count": 93,
   "metadata": {},
   "outputs": [
    {
     "name": "stdout",
     "output_type": "stream",
     "text": [
      "Statistics=184.000, p=0.26790919\n"
     ]
    }
   ],
   "source": [
    "stat_svr_num, p_svr_num = mannwhitneyu(wide_clust.iloc[:, 4].dropna(), wide_clust.iloc[:, 5].dropna())\n",
    "print('Statistics=%.3f, p=%.8f' % (stat_svr_num, p_svr_num))"
   ]
  },
  {
   "cell_type": "markdown",
   "metadata": {},
   "source": [
    "SVR is not statistically different in control and after ES"
   ]
  },
  {
   "cell_type": "markdown",
   "metadata": {},
   "source": [
    "### Clusters quantity ctrl vs SE"
   ]
  },
  {
   "cell_type": "markdown",
   "metadata": {},
   "source": [
    "Add a column with data of the clusters quantity for each cell"
   ]
  },
  {
   "cell_type": "code",
   "execution_count": 94,
   "metadata": {},
   "outputs": [
    {
     "data": {
      "text/html": [
       "<div>\n",
       "<style scoped>\n",
       "    .dataframe tbody tr th:only-of-type {\n",
       "        vertical-align: middle;\n",
       "    }\n",
       "\n",
       "    .dataframe tbody tr th {\n",
       "        vertical-align: top;\n",
       "    }\n",
       "\n",
       "    .dataframe thead tr th {\n",
       "        text-align: left;\n",
       "    }\n",
       "\n",
       "    .dataframe thead tr:last-of-type th {\n",
       "        text-align: right;\n",
       "    }\n",
       "</style>\n",
       "<table border=\"1\" class=\"dataframe\">\n",
       "  <thead>\n",
       "    <tr>\n",
       "      <th></th>\n",
       "      <th></th>\n",
       "      <th></th>\n",
       "      <th colspan=\"2\" halign=\"left\">volume</th>\n",
       "      <th colspan=\"2\" halign=\"left\">surface_area</th>\n",
       "      <th colspan=\"2\" halign=\"left\">svr_clust</th>\n",
       "      <th colspan=\"2\" halign=\"left\">clust_quantity</th>\n",
       "    </tr>\n",
       "    <tr>\n",
       "      <th></th>\n",
       "      <th></th>\n",
       "      <th>exp_group</th>\n",
       "      <th>ctrl</th>\n",
       "      <th>SE</th>\n",
       "      <th>ctrl</th>\n",
       "      <th>SE</th>\n",
       "      <th>ctrl</th>\n",
       "      <th>SE</th>\n",
       "      <th>ctrl</th>\n",
       "      <th>SE</th>\n",
       "    </tr>\n",
       "    <tr>\n",
       "      <th>animal_num</th>\n",
       "      <th>slice_num</th>\n",
       "      <th>cell_num</th>\n",
       "      <th></th>\n",
       "      <th></th>\n",
       "      <th></th>\n",
       "      <th></th>\n",
       "      <th></th>\n",
       "      <th></th>\n",
       "      <th></th>\n",
       "      <th></th>\n",
       "    </tr>\n",
       "  </thead>\n",
       "  <tbody>\n",
       "    <tr>\n",
       "      <th rowspan=\"4\" valign=\"top\">1</th>\n",
       "      <th rowspan=\"2\" valign=\"top\">1</th>\n",
       "      <th>1</th>\n",
       "      <td>0.3724</td>\n",
       "      <td>0.2550</td>\n",
       "      <td>4.3333</td>\n",
       "      <td>3.2040</td>\n",
       "      <td>11.585260</td>\n",
       "      <td>12.569170</td>\n",
       "      <td>3492.0</td>\n",
       "      <td>3794.0</td>\n",
       "    </tr>\n",
       "    <tr>\n",
       "      <th>2</th>\n",
       "      <td>0.3258</td>\n",
       "      <td>0.3040</td>\n",
       "      <td>3.7909</td>\n",
       "      <td>3.6140</td>\n",
       "      <td>11.593853</td>\n",
       "      <td>11.957143</td>\n",
       "      <td>3297.0</td>\n",
       "      <td>3864.0</td>\n",
       "    </tr>\n",
       "    <tr>\n",
       "      <th rowspan=\"2\" valign=\"top\">2</th>\n",
       "      <th>1</th>\n",
       "      <td>0.3724</td>\n",
       "      <td>0.2710</td>\n",
       "      <td>4.1128</td>\n",
       "      <td>3.3670</td>\n",
       "      <td>11.010475</td>\n",
       "      <td>12.362676</td>\n",
       "      <td>3185.0</td>\n",
       "      <td>3457.0</td>\n",
       "    </tr>\n",
       "    <tr>\n",
       "      <th>2</th>\n",
       "      <td>0.4082</td>\n",
       "      <td>0.2895</td>\n",
       "      <td>4.3992</td>\n",
       "      <td>3.4855</td>\n",
       "      <td>10.798890</td>\n",
       "      <td>12.084979</td>\n",
       "      <td>3428.0</td>\n",
       "      <td>3228.0</td>\n",
       "    </tr>\n",
       "    <tr>\n",
       "      <th>2</th>\n",
       "      <th>1</th>\n",
       "      <th>1</th>\n",
       "      <td>0.2936</td>\n",
       "      <td>0.3010</td>\n",
       "      <td>3.5407</td>\n",
       "      <td>3.6310</td>\n",
       "      <td>12.125590</td>\n",
       "      <td>11.985281</td>\n",
       "      <td>2644.0</td>\n",
       "      <td>2280.0</td>\n",
       "    </tr>\n",
       "  </tbody>\n",
       "</table>\n",
       "</div>"
      ],
      "text/plain": [
       "                               volume         surface_area          svr_clust  \\\n",
       "exp_group                        ctrl      SE         ctrl      SE       ctrl   \n",
       "animal_num slice_num cell_num                                                   \n",
       "1          1         1         0.3724  0.2550       4.3333  3.2040  11.585260   \n",
       "                     2         0.3258  0.3040       3.7909  3.6140  11.593853   \n",
       "           2         1         0.3724  0.2710       4.1128  3.3670  11.010475   \n",
       "                     2         0.4082  0.2895       4.3992  3.4855  10.798890   \n",
       "2          1         1         0.2936  0.3010       3.5407  3.6310  12.125590   \n",
       "\n",
       "                                         clust_quantity          \n",
       "exp_group                             SE           ctrl      SE  \n",
       "animal_num slice_num cell_num                                    \n",
       "1          1         1         12.569170         3492.0  3794.0  \n",
       "                     2         11.957143         3297.0  3864.0  \n",
       "           2         1         12.362676         3185.0  3457.0  \n",
       "                     2         12.084979         3428.0  3228.0  \n",
       "2          1         1         11.985281         2644.0  2280.0  "
      ]
     },
     "execution_count": 94,
     "metadata": {},
     "output_type": "execute_result"
    }
   ],
   "source": [
    "wide_clust [[('clust_quantity', 'ctrl'), (('clust_quantity', 'SE'))]] = pd.pivot_table(data_clust,\n",
    "                                                                                    index = ['animal_num','slice_num','cell_num'],\n",
    "                                                                                    columns = ['exp_group'],\n",
    "                                                                                    values = ['volume'],\n",
    "                                                                                    aggfunc = 'count')\n",
    "wide_clust.head()"
   ]
  },
  {
   "cell_type": "markdown",
   "metadata": {},
   "source": [
    "We are interested in information about the density of clusters in the volume. Lets add a column with the number of clusters per 5 µm3. To do this, get the data on the total volume from the file 'data/total_vol.xlsx'"
   ]
  },
  {
   "cell_type": "code",
   "execution_count": 95,
   "metadata": {},
   "outputs": [
    {
     "data": {
      "text/plain": [
       "TotVol_GLT_ctrl    6338.328691\n",
       "TotVol_GLT_SE      5634.529420\n",
       "dtype: float64"
      ]
     },
     "execution_count": 95,
     "metadata": {},
     "output_type": "execute_result"
    }
   ],
   "source": [
    "tot_vol_df = pd.read_excel(f'{tot_vol_path}', usecols=[0,1], dtype='float64')\n",
    "tot_vol_df.mean()"
   ]
  },
  {
   "cell_type": "code",
   "execution_count": 96,
   "metadata": {},
   "outputs": [
    {
     "data": {
      "text/html": [
       "<div>\n",
       "<style scoped>\n",
       "    .dataframe tbody tr th:only-of-type {\n",
       "        vertical-align: middle;\n",
       "    }\n",
       "\n",
       "    .dataframe tbody tr th {\n",
       "        vertical-align: top;\n",
       "    }\n",
       "\n",
       "    .dataframe thead tr th {\n",
       "        text-align: left;\n",
       "    }\n",
       "\n",
       "    .dataframe thead tr:last-of-type th {\n",
       "        text-align: right;\n",
       "    }\n",
       "</style>\n",
       "<table border=\"1\" class=\"dataframe\">\n",
       "  <thead>\n",
       "    <tr>\n",
       "      <th></th>\n",
       "      <th></th>\n",
       "      <th></th>\n",
       "      <th colspan=\"2\" halign=\"left\">volume</th>\n",
       "      <th colspan=\"2\" halign=\"left\">surface_area</th>\n",
       "      <th colspan=\"2\" halign=\"left\">svr_clust</th>\n",
       "      <th colspan=\"2\" halign=\"left\">clust_quantity</th>\n",
       "      <th colspan=\"2\" halign=\"left\">clust_quantity_per_125</th>\n",
       "    </tr>\n",
       "    <tr>\n",
       "      <th></th>\n",
       "      <th></th>\n",
       "      <th>exp_group</th>\n",
       "      <th>ctrl</th>\n",
       "      <th>SE</th>\n",
       "      <th>ctrl</th>\n",
       "      <th>SE</th>\n",
       "      <th>ctrl</th>\n",
       "      <th>SE</th>\n",
       "      <th>ctrl</th>\n",
       "      <th>SE</th>\n",
       "      <th>ctrl</th>\n",
       "      <th>SE</th>\n",
       "    </tr>\n",
       "    <tr>\n",
       "      <th>animal_num</th>\n",
       "      <th>slice_num</th>\n",
       "      <th>cell_num</th>\n",
       "      <th></th>\n",
       "      <th></th>\n",
       "      <th></th>\n",
       "      <th></th>\n",
       "      <th></th>\n",
       "      <th></th>\n",
       "      <th></th>\n",
       "      <th></th>\n",
       "      <th></th>\n",
       "      <th></th>\n",
       "    </tr>\n",
       "  </thead>\n",
       "  <tbody>\n",
       "    <tr>\n",
       "      <th rowspan=\"4\" valign=\"top\">1</th>\n",
       "      <th rowspan=\"2\" valign=\"top\">1</th>\n",
       "      <th>1</th>\n",
       "      <td>0.3724</td>\n",
       "      <td>0.2550</td>\n",
       "      <td>4.3333</td>\n",
       "      <td>3.2040</td>\n",
       "      <td>11.585260</td>\n",
       "      <td>12.569170</td>\n",
       "      <td>3492.0</td>\n",
       "      <td>3794.0</td>\n",
       "      <td>68.866735</td>\n",
       "      <td>84.168520</td>\n",
       "    </tr>\n",
       "    <tr>\n",
       "      <th>2</th>\n",
       "      <td>0.3258</td>\n",
       "      <td>0.3040</td>\n",
       "      <td>3.7909</td>\n",
       "      <td>3.6140</td>\n",
       "      <td>11.593853</td>\n",
       "      <td>11.957143</td>\n",
       "      <td>3297.0</td>\n",
       "      <td>3864.0</td>\n",
       "      <td>65.021084</td>\n",
       "      <td>85.721444</td>\n",
       "    </tr>\n",
       "    <tr>\n",
       "      <th rowspan=\"2\" valign=\"top\">2</th>\n",
       "      <th>1</th>\n",
       "      <td>0.3724</td>\n",
       "      <td>0.2710</td>\n",
       "      <td>4.1128</td>\n",
       "      <td>3.3670</td>\n",
       "      <td>11.010475</td>\n",
       "      <td>12.362676</td>\n",
       "      <td>3185.0</td>\n",
       "      <td>3457.0</td>\n",
       "      <td>62.812299</td>\n",
       "      <td>76.692296</td>\n",
       "    </tr>\n",
       "    <tr>\n",
       "      <th>2</th>\n",
       "      <td>0.4082</td>\n",
       "      <td>0.2895</td>\n",
       "      <td>4.3992</td>\n",
       "      <td>3.4855</td>\n",
       "      <td>10.798890</td>\n",
       "      <td>12.084979</td>\n",
       "      <td>3428.0</td>\n",
       "      <td>3228.0</td>\n",
       "      <td>67.604572</td>\n",
       "      <td>71.612014</td>\n",
       "    </tr>\n",
       "    <tr>\n",
       "      <th>2</th>\n",
       "      <th>1</th>\n",
       "      <th>1</th>\n",
       "      <td>0.2936</td>\n",
       "      <td>0.3010</td>\n",
       "      <td>3.5407</td>\n",
       "      <td>3.6310</td>\n",
       "      <td>12.125590</td>\n",
       "      <td>11.985281</td>\n",
       "      <td>2644.0</td>\n",
       "      <td>2280.0</td>\n",
       "      <td>52.143083</td>\n",
       "      <td>50.580976</td>\n",
       "    </tr>\n",
       "  </tbody>\n",
       "</table>\n",
       "</div>"
      ],
      "text/plain": [
       "                               volume         surface_area          svr_clust  \\\n",
       "exp_group                        ctrl      SE         ctrl      SE       ctrl   \n",
       "animal_num slice_num cell_num                                                   \n",
       "1          1         1         0.3724  0.2550       4.3333  3.2040  11.585260   \n",
       "                     2         0.3258  0.3040       3.7909  3.6140  11.593853   \n",
       "           2         1         0.3724  0.2710       4.1128  3.3670  11.010475   \n",
       "                     2         0.4082  0.2895       4.3992  3.4855  10.798890   \n",
       "2          1         1         0.2936  0.3010       3.5407  3.6310  12.125590   \n",
       "\n",
       "                                         clust_quantity          \\\n",
       "exp_group                             SE           ctrl      SE   \n",
       "animal_num slice_num cell_num                                     \n",
       "1          1         1         12.569170         3492.0  3794.0   \n",
       "                     2         11.957143         3297.0  3864.0   \n",
       "           2         1         12.362676         3185.0  3457.0   \n",
       "                     2         12.084979         3428.0  3228.0   \n",
       "2          1         1         11.985281         2644.0  2280.0   \n",
       "\n",
       "                              clust_quantity_per_125             \n",
       "exp_group                                       ctrl         SE  \n",
       "animal_num slice_num cell_num                                    \n",
       "1          1         1                     68.866735  84.168520  \n",
       "                     2                     65.021084  85.721444  \n",
       "           2         1                     62.812299  76.692296  \n",
       "                     2                     67.604572  71.612014  \n",
       "2          1         1                     52.143083  50.580976  "
      ]
     },
     "execution_count": 96,
     "metadata": {},
     "output_type": "execute_result"
    }
   ],
   "source": [
    "wide_clust [('clust_quantity_per_125', 'ctrl')] = (wide_clust[('clust_quantity', 'ctrl')]*125)/tot_vol_df.mean()[0]\n",
    "wide_clust [('clust_quantity_per_125', 'SE')] = (wide_clust[('clust_quantity', 'SE')]*125)/tot_vol_df.mean()[1]\n",
    "wide_clust.head()"
   ]
  },
  {
   "cell_type": "code",
   "execution_count": 97,
   "metadata": {},
   "outputs": [
    {
     "name": "stdout",
     "output_type": "stream",
     "text": [
      "p-value annotation legend:\n",
      "ns: 5.00e-02 < p <= 1.00e+00\n",
      "*: 1.00e-02 < p <= 5.00e-02\n",
      "**: 1.00e-03 < p <= 1.00e-02\n",
      "***: 1.00e-04 < p <= 1.00e-03\n",
      "****: p <= 1.00e-04\n",
      "\n",
      "('clust_quantity_per_125', 'ctrl') v.s. ('clust_quantity_per_125', 'SE'): Mann-Whitney-Wilcoxon test two-sided, P_val=8.742e-01 U_stat=2.370e+02\n"
     ]
    },
    {
     "data": {
      "image/png": "[encoded data removed]",
      "text/plain": [
       "<Figure size 216x360 with 1 Axes>"
      ]
     },
     "metadata": {},
     "output_type": "display_data"
    }
   ],
   "source": [
    "boxplot_fine_view(data=wide_clust.iloc[:, 8:10], \n",
    "                    box_pairs=(('clust_quantity_per_125','ctrl'),('clust_quantity_per_125','SE')),\n",
    "                    ylabel=f'# кластеров {CLUST_PROTEIN} в 5мкм3',\n",
    "                    ylim=[40, 80], ytick = 10,\n",
    "                    figname = f'{save_folder}/количество кластеров {CLUST_PROTEIN} с разным объемом boxplot per cell')"
   ]
  },
  {
   "cell_type": "markdown",
   "metadata": {},
   "source": [
    "Let's compare our samples by the clusters quantity and find that there are no statistical differences."
   ]
  },
  {
   "cell_type": "markdown",
   "metadata": {},
   "source": [
    "Then, we calculate median, 25 and 75 percentiles."
   ]
  },
  {
   "cell_type": "code",
   "execution_count": 98,
   "metadata": {},
   "outputs": [
    {
     "name": "stdout",
     "output_type": "stream",
     "text": [
      "          clust_quantity_per_125           \n",
      "exp_group                   ctrl         SE\n",
      "0.25                   54.770945  53.609180\n",
      "0.50                   57.181872  58.478708\n",
      "0.75                   66.066312  61.395988\n"
     ]
    }
   ],
   "source": [
    "percentile_num_clusters = wide_clust.iloc[:, 8:].quantile([0.25, 0.50 , 0.75])\n",
    "print(percentile_num_clusters)"
   ]
  },
  {
   "cell_type": "code",
   "execution_count": 99,
   "metadata": {},
   "outputs": [
    {
     "name": "stdout",
     "output_type": "stream",
     "text": [
      "Statistics=237.000, p=0.87424401\n"
     ]
    }
   ],
   "source": [
    "stat_clust_num, p_clust_num = mannwhitneyu(wide_clust.iloc[:, 8].dropna(), wide_clust.iloc[:, 9].dropna())\n",
    "print('Statistics=%.3f, p=%.8f' % (stat_clust_num, p_clust_num))"
   ]
  },
  {
   "cell_type": "markdown",
   "metadata": {},
   "source": [
    "Due to the nonparametric Mann-Whitney test, we check whether the clusters quantity after SE differs significantly in comparison to the control. The epilepsy group doesn't demonstrate some differs in comparison to the control group by this parameter."
   ]
  },
  {
   "cell_type": "markdown",
   "metadata": {},
   "source": [
    "### Clusters volume fraction(VF)"
   ]
  },
  {
   "cell_type": "markdown",
   "metadata": {},
   "source": [
    "Then, we should to calculate volume fraction(vf). vf it is a GLT-1 volume occupied by tissue. Firstly, we calculate the sum of volume of all clusters. "
   ]
  },
  {
   "cell_type": "code",
   "execution_count": 100,
   "metadata": {},
   "outputs": [
    {
     "data": {
      "text/html": [
       "<div>\n",
       "<style scoped>\n",
       "    .dataframe tbody tr th:only-of-type {\n",
       "        vertical-align: middle;\n",
       "    }\n",
       "\n",
       "    .dataframe tbody tr th {\n",
       "        vertical-align: top;\n",
       "    }\n",
       "\n",
       "    .dataframe thead tr th {\n",
       "        text-align: left;\n",
       "    }\n",
       "\n",
       "    .dataframe thead tr:last-of-type th {\n",
       "        text-align: right;\n",
       "    }\n",
       "</style>\n",
       "<table border=\"1\" class=\"dataframe\">\n",
       "  <thead>\n",
       "    <tr>\n",
       "      <th></th>\n",
       "      <th></th>\n",
       "      <th></th>\n",
       "      <th colspan=\"2\" halign=\"left\">volume</th>\n",
       "      <th colspan=\"2\" halign=\"left\">surface_area</th>\n",
       "      <th colspan=\"2\" halign=\"left\">svr_clust</th>\n",
       "      <th colspan=\"2\" halign=\"left\">clust_quantity</th>\n",
       "      <th colspan=\"2\" halign=\"left\">clust_quantity_per_125</th>\n",
       "      <th colspan=\"2\" halign=\"left\">sum_volume</th>\n",
       "    </tr>\n",
       "    <tr>\n",
       "      <th></th>\n",
       "      <th></th>\n",
       "      <th>exp_group</th>\n",
       "      <th>ctrl</th>\n",
       "      <th>SE</th>\n",
       "      <th>ctrl</th>\n",
       "      <th>SE</th>\n",
       "      <th>ctrl</th>\n",
       "      <th>SE</th>\n",
       "      <th>ctrl</th>\n",
       "      <th>SE</th>\n",
       "      <th>ctrl</th>\n",
       "      <th>SE</th>\n",
       "      <th>ctrl</th>\n",
       "      <th>SE</th>\n",
       "    </tr>\n",
       "    <tr>\n",
       "      <th>animal_num</th>\n",
       "      <th>slice_num</th>\n",
       "      <th>cell_num</th>\n",
       "      <th></th>\n",
       "      <th></th>\n",
       "      <th></th>\n",
       "      <th></th>\n",
       "      <th></th>\n",
       "      <th></th>\n",
       "      <th></th>\n",
       "      <th></th>\n",
       "      <th></th>\n",
       "      <th></th>\n",
       "      <th></th>\n",
       "      <th></th>\n",
       "    </tr>\n",
       "  </thead>\n",
       "  <tbody>\n",
       "    <tr>\n",
       "      <th rowspan=\"4\" valign=\"top\">1</th>\n",
       "      <th rowspan=\"2\" valign=\"top\">1</th>\n",
       "      <th>1</th>\n",
       "      <td>0.3724</td>\n",
       "      <td>0.2550</td>\n",
       "      <td>4.3333</td>\n",
       "      <td>3.2040</td>\n",
       "      <td>11.585260</td>\n",
       "      <td>12.569170</td>\n",
       "      <td>3492.0</td>\n",
       "      <td>3794.0</td>\n",
       "      <td>68.866735</td>\n",
       "      <td>84.168520</td>\n",
       "      <td>1040.5906</td>\n",
       "      <td>1580.4646</td>\n",
       "    </tr>\n",
       "    <tr>\n",
       "      <th>2</th>\n",
       "      <td>0.3258</td>\n",
       "      <td>0.3040</td>\n",
       "      <td>3.7909</td>\n",
       "      <td>3.6140</td>\n",
       "      <td>11.593853</td>\n",
       "      <td>11.957143</td>\n",
       "      <td>3297.0</td>\n",
       "      <td>3864.0</td>\n",
       "      <td>65.021084</td>\n",
       "      <td>85.721444</td>\n",
       "      <td>1116.1329</td>\n",
       "      <td>1458.3005</td>\n",
       "    </tr>\n",
       "    <tr>\n",
       "      <th rowspan=\"2\" valign=\"top\">2</th>\n",
       "      <th>1</th>\n",
       "      <td>0.3724</td>\n",
       "      <td>0.2710</td>\n",
       "      <td>4.1128</td>\n",
       "      <td>3.3670</td>\n",
       "      <td>11.010475</td>\n",
       "      <td>12.362676</td>\n",
       "      <td>3185.0</td>\n",
       "      <td>3457.0</td>\n",
       "      <td>62.812299</td>\n",
       "      <td>76.692296</td>\n",
       "      <td>980.1556</td>\n",
       "      <td>1442.9095</td>\n",
       "    </tr>\n",
       "    <tr>\n",
       "      <th>2</th>\n",
       "      <td>0.4082</td>\n",
       "      <td>0.2895</td>\n",
       "      <td>4.3992</td>\n",
       "      <td>3.4855</td>\n",
       "      <td>10.798890</td>\n",
       "      <td>12.084979</td>\n",
       "      <td>3428.0</td>\n",
       "      <td>3228.0</td>\n",
       "      <td>67.604572</td>\n",
       "      <td>71.612014</td>\n",
       "      <td>1120.4767</td>\n",
       "      <td>1456.4340</td>\n",
       "    </tr>\n",
       "    <tr>\n",
       "      <th>2</th>\n",
       "      <th>1</th>\n",
       "      <th>1</th>\n",
       "      <td>0.2936</td>\n",
       "      <td>0.3010</td>\n",
       "      <td>3.5407</td>\n",
       "      <td>3.6310</td>\n",
       "      <td>12.125590</td>\n",
       "      <td>11.985281</td>\n",
       "      <td>2644.0</td>\n",
       "      <td>2280.0</td>\n",
       "      <td>52.143083</td>\n",
       "      <td>50.580976</td>\n",
       "      <td>921.2429</td>\n",
       "      <td>828.6087</td>\n",
       "    </tr>\n",
       "  </tbody>\n",
       "</table>\n",
       "</div>"
      ],
      "text/plain": [
       "                               volume         surface_area          svr_clust  \\\n",
       "exp_group                        ctrl      SE         ctrl      SE       ctrl   \n",
       "animal_num slice_num cell_num                                                   \n",
       "1          1         1         0.3724  0.2550       4.3333  3.2040  11.585260   \n",
       "                     2         0.3258  0.3040       3.7909  3.6140  11.593853   \n",
       "           2         1         0.3724  0.2710       4.1128  3.3670  11.010475   \n",
       "                     2         0.4082  0.2895       4.3992  3.4855  10.798890   \n",
       "2          1         1         0.2936  0.3010       3.5407  3.6310  12.125590   \n",
       "\n",
       "                                         clust_quantity          \\\n",
       "exp_group                             SE           ctrl      SE   \n",
       "animal_num slice_num cell_num                                     \n",
       "1          1         1         12.569170         3492.0  3794.0   \n",
       "                     2         11.957143         3297.0  3864.0   \n",
       "           2         1         12.362676         3185.0  3457.0   \n",
       "                     2         12.084979         3428.0  3228.0   \n",
       "2          1         1         11.985281         2644.0  2280.0   \n",
       "\n",
       "                              clust_quantity_per_125            sum_volume  \\\n",
       "exp_group                                       ctrl         SE       ctrl   \n",
       "animal_num slice_num cell_num                                                \n",
       "1          1         1                     68.866735  84.168520  1040.5906   \n",
       "                     2                     65.021084  85.721444  1116.1329   \n",
       "           2         1                     62.812299  76.692296   980.1556   \n",
       "                     2                     67.604572  71.612014  1120.4767   \n",
       "2          1         1                     52.143083  50.580976   921.2429   \n",
       "\n",
       "                                          \n",
       "exp_group                             SE  \n",
       "animal_num slice_num cell_num             \n",
       "1          1         1         1580.4646  \n",
       "                     2         1458.3005  \n",
       "           2         1         1442.9095  \n",
       "                     2         1456.4340  \n",
       "2          1         1          828.6087  "
      ]
     },
     "execution_count": 100,
     "metadata": {},
     "output_type": "execute_result"
    }
   ],
   "source": [
    "wide_clust [[('sum_volume', 'ctrl'), (('sum_volume', 'SE'))]] = pd.pivot_table(data_clust,\n",
    "                                                                            index = ['animal_num','slice_num','cell_num'],\n",
    "                                                                            columns = ['exp_group'],\n",
    "                                                                            values = ['volume'],\n",
    "                                                                            aggfunc = 'sum')\n",
    "wide_clust.head()"
   ]
  },
  {
   "cell_type": "markdown",
   "metadata": {},
   "source": [
    "Then, we divide sum_volume on total volume to obtain VF"
   ]
  },
  {
   "cell_type": "code",
   "execution_count": 101,
   "metadata": {},
   "outputs": [
    {
     "data": {
      "text/html": [
       "<div>\n",
       "<style scoped>\n",
       "    .dataframe tbody tr th:only-of-type {\n",
       "        vertical-align: middle;\n",
       "    }\n",
       "\n",
       "    .dataframe tbody tr th {\n",
       "        vertical-align: top;\n",
       "    }\n",
       "\n",
       "    .dataframe thead tr th {\n",
       "        text-align: left;\n",
       "    }\n",
       "\n",
       "    .dataframe thead tr:last-of-type th {\n",
       "        text-align: right;\n",
       "    }\n",
       "</style>\n",
       "<table border=\"1\" class=\"dataframe\">\n",
       "  <thead>\n",
       "    <tr>\n",
       "      <th></th>\n",
       "      <th></th>\n",
       "      <th></th>\n",
       "      <th colspan=\"2\" halign=\"left\">volume</th>\n",
       "      <th colspan=\"2\" halign=\"left\">surface_area</th>\n",
       "      <th colspan=\"2\" halign=\"left\">svr_clust</th>\n",
       "      <th colspan=\"2\" halign=\"left\">clust_quantity</th>\n",
       "      <th colspan=\"2\" halign=\"left\">clust_quantity_per_125</th>\n",
       "      <th colspan=\"2\" halign=\"left\">sum_volume</th>\n",
       "      <th colspan=\"2\" halign=\"left\">vf</th>\n",
       "    </tr>\n",
       "    <tr>\n",
       "      <th></th>\n",
       "      <th></th>\n",
       "      <th>exp_group</th>\n",
       "      <th>ctrl</th>\n",
       "      <th>SE</th>\n",
       "      <th>ctrl</th>\n",
       "      <th>SE</th>\n",
       "      <th>ctrl</th>\n",
       "      <th>SE</th>\n",
       "      <th>ctrl</th>\n",
       "      <th>SE</th>\n",
       "      <th>ctrl</th>\n",
       "      <th>SE</th>\n",
       "      <th>ctrl</th>\n",
       "      <th>SE</th>\n",
       "      <th>ctrl</th>\n",
       "      <th>SE</th>\n",
       "    </tr>\n",
       "    <tr>\n",
       "      <th>animal_num</th>\n",
       "      <th>slice_num</th>\n",
       "      <th>cell_num</th>\n",
       "      <th></th>\n",
       "      <th></th>\n",
       "      <th></th>\n",
       "      <th></th>\n",
       "      <th></th>\n",
       "      <th></th>\n",
       "      <th></th>\n",
       "      <th></th>\n",
       "      <th></th>\n",
       "      <th></th>\n",
       "      <th></th>\n",
       "      <th></th>\n",
       "      <th></th>\n",
       "      <th></th>\n",
       "    </tr>\n",
       "  </thead>\n",
       "  <tbody>\n",
       "    <tr>\n",
       "      <th rowspan=\"4\" valign=\"top\">1</th>\n",
       "      <th rowspan=\"2\" valign=\"top\">1</th>\n",
       "      <th>1</th>\n",
       "      <td>0.3724</td>\n",
       "      <td>0.2550</td>\n",
       "      <td>4.3333</td>\n",
       "      <td>3.2040</td>\n",
       "      <td>11.585260</td>\n",
       "      <td>12.569170</td>\n",
       "      <td>3492.0</td>\n",
       "      <td>3794.0</td>\n",
       "      <td>68.866735</td>\n",
       "      <td>84.168520</td>\n",
       "      <td>1040.5906</td>\n",
       "      <td>1580.4646</td>\n",
       "      <td>0.164174</td>\n",
       "      <td>0.280496</td>\n",
       "    </tr>\n",
       "    <tr>\n",
       "      <th>2</th>\n",
       "      <td>0.3258</td>\n",
       "      <td>0.3040</td>\n",
       "      <td>3.7909</td>\n",
       "      <td>3.6140</td>\n",
       "      <td>11.593853</td>\n",
       "      <td>11.957143</td>\n",
       "      <td>3297.0</td>\n",
       "      <td>3864.0</td>\n",
       "      <td>65.021084</td>\n",
       "      <td>85.721444</td>\n",
       "      <td>1116.1329</td>\n",
       "      <td>1458.3005</td>\n",
       "      <td>0.176093</td>\n",
       "      <td>0.258815</td>\n",
       "    </tr>\n",
       "    <tr>\n",
       "      <th rowspan=\"2\" valign=\"top\">2</th>\n",
       "      <th>1</th>\n",
       "      <td>0.3724</td>\n",
       "      <td>0.2710</td>\n",
       "      <td>4.1128</td>\n",
       "      <td>3.3670</td>\n",
       "      <td>11.010475</td>\n",
       "      <td>12.362676</td>\n",
       "      <td>3185.0</td>\n",
       "      <td>3457.0</td>\n",
       "      <td>62.812299</td>\n",
       "      <td>76.692296</td>\n",
       "      <td>980.1556</td>\n",
       "      <td>1442.9095</td>\n",
       "      <td>0.154639</td>\n",
       "      <td>0.256083</td>\n",
       "    </tr>\n",
       "    <tr>\n",
       "      <th>2</th>\n",
       "      <td>0.4082</td>\n",
       "      <td>0.2895</td>\n",
       "      <td>4.3992</td>\n",
       "      <td>3.4855</td>\n",
       "      <td>10.798890</td>\n",
       "      <td>12.084979</td>\n",
       "      <td>3428.0</td>\n",
       "      <td>3228.0</td>\n",
       "      <td>67.604572</td>\n",
       "      <td>71.612014</td>\n",
       "      <td>1120.4767</td>\n",
       "      <td>1456.4340</td>\n",
       "      <td>0.176778</td>\n",
       "      <td>0.258484</td>\n",
       "    </tr>\n",
       "    <tr>\n",
       "      <th>2</th>\n",
       "      <th>1</th>\n",
       "      <th>1</th>\n",
       "      <td>0.2936</td>\n",
       "      <td>0.3010</td>\n",
       "      <td>3.5407</td>\n",
       "      <td>3.6310</td>\n",
       "      <td>12.125590</td>\n",
       "      <td>11.985281</td>\n",
       "      <td>2644.0</td>\n",
       "      <td>2280.0</td>\n",
       "      <td>52.143083</td>\n",
       "      <td>50.580976</td>\n",
       "      <td>921.2429</td>\n",
       "      <td>828.6087</td>\n",
       "      <td>0.145345</td>\n",
       "      <td>0.147059</td>\n",
       "    </tr>\n",
       "  </tbody>\n",
       "</table>\n",
       "</div>"
      ],
      "text/plain": [
       "                               volume         surface_area          svr_clust  \\\n",
       "exp_group                        ctrl      SE         ctrl      SE       ctrl   \n",
       "animal_num slice_num cell_num                                                   \n",
       "1          1         1         0.3724  0.2550       4.3333  3.2040  11.585260   \n",
       "                     2         0.3258  0.3040       3.7909  3.6140  11.593853   \n",
       "           2         1         0.3724  0.2710       4.1128  3.3670  11.010475   \n",
       "                     2         0.4082  0.2895       4.3992  3.4855  10.798890   \n",
       "2          1         1         0.2936  0.3010       3.5407  3.6310  12.125590   \n",
       "\n",
       "                                         clust_quantity          \\\n",
       "exp_group                             SE           ctrl      SE   \n",
       "animal_num slice_num cell_num                                     \n",
       "1          1         1         12.569170         3492.0  3794.0   \n",
       "                     2         11.957143         3297.0  3864.0   \n",
       "           2         1         12.362676         3185.0  3457.0   \n",
       "                     2         12.084979         3428.0  3228.0   \n",
       "2          1         1         11.985281         2644.0  2280.0   \n",
       "\n",
       "                              clust_quantity_per_125            sum_volume  \\\n",
       "exp_group                                       ctrl         SE       ctrl   \n",
       "animal_num slice_num cell_num                                                \n",
       "1          1         1                     68.866735  84.168520  1040.5906   \n",
       "                     2                     65.021084  85.721444  1116.1329   \n",
       "           2         1                     62.812299  76.692296   980.1556   \n",
       "                     2                     67.604572  71.612014  1120.4767   \n",
       "2          1         1                     52.143083  50.580976   921.2429   \n",
       "\n",
       "                                                vf            \n",
       "exp_group                             SE      ctrl        SE  \n",
       "animal_num slice_num cell_num                                 \n",
       "1          1         1         1580.4646  0.164174  0.280496  \n",
       "                     2         1458.3005  0.176093  0.258815  \n",
       "           2         1         1442.9095  0.154639  0.256083  \n",
       "                     2         1456.4340  0.176778  0.258484  \n",
       "2          1         1          828.6087  0.145345  0.147059  "
      ]
     },
     "execution_count": 101,
     "metadata": {},
     "output_type": "execute_result"
    }
   ],
   "source": [
    "wide_clust [('vf', 'ctrl')] = wide_clust[('sum_volume', 'ctrl')]/tot_vol_df.mean()[0]\n",
    "wide_clust [('vf', 'SE')] = wide_clust[('sum_volume', 'SE')]/tot_vol_df.mean()[1]\n",
    "wide_clust.head()"
   ]
  },
  {
   "cell_type": "code",
   "execution_count": 102,
   "metadata": {},
   "outputs": [
    {
     "name": "stdout",
     "output_type": "stream",
     "text": [
      "p-value annotation legend:\n",
      "ns: 5.00e-02 < p <= 1.00e+00\n",
      "*: 1.00e-02 < p <= 5.00e-02\n",
      "**: 1.00e-03 < p <= 1.00e-02\n",
      "***: 1.00e-04 < p <= 1.00e-03\n",
      "****: p <= 1.00e-04\n",
      "\n",
      "('vf', 'ctrl') v.s. ('vf', 'SE'): Mann-Whitney-Wilcoxon test two-sided, P_val=4.009e-01 U_stat=1.950e+02\n"
     ]
    },
    {
     "data": {
      "image/png": "[encoded data removed]",
      "text/plain": [
       "<Figure size 216x360 with 1 Axes>"
      ]
     },
     "metadata": {},
     "output_type": "display_data"
    }
   ],
   "source": [
    "boxplot_fine_view(data=wide_clust.iloc[:, 12:14], \n",
    "                    box_pairs=(('vf','ctrl'),('vf','SE')),\n",
    "                    ylabel=f'Объем {CLUST_PROTEIN}',\n",
    "                    ylim=[0.1, 0.3], ytick = 0.05,\n",
    "                    figname = f'{save_folder}/VF {CLUST_PROTEIN} с разным объемом boxplot per cell')"
   ]
  },
  {
   "cell_type": "markdown",
   "metadata": {},
   "source": [
    "The samples also has no difference in the VF."
   ]
  },
  {
   "cell_type": "markdown",
   "metadata": {},
   "source": [
    "## Step 3. GS calculation\n",
    "\n",
    "Since GS does not aggregates in clusters, we consider using only the volume of the fraction (VF)."
   ]
  },
  {
   "cell_type": "markdown",
   "metadata": {},
   "source": [
    "### GS volume fraction ctrl vs SE"
   ]
  },
  {
   "cell_type": "code",
   "execution_count": 103,
   "metadata": {},
   "outputs": [
    {
     "data": {
      "text/html": [
       "<div>\n",
       "<style scoped>\n",
       "    .dataframe tbody tr th:only-of-type {\n",
       "        vertical-align: middle;\n",
       "    }\n",
       "\n",
       "    .dataframe tbody tr th {\n",
       "        vertical-align: top;\n",
       "    }\n",
       "\n",
       "    .dataframe thead tr th {\n",
       "        text-align: left;\n",
       "    }\n",
       "\n",
       "    .dataframe thead tr:last-of-type th {\n",
       "        text-align: right;\n",
       "    }\n",
       "</style>\n",
       "<table border=\"1\" class=\"dataframe\">\n",
       "  <thead>\n",
       "    <tr>\n",
       "      <th></th>\n",
       "      <th></th>\n",
       "      <th></th>\n",
       "      <th colspan=\"2\" halign=\"left\">volume</th>\n",
       "    </tr>\n",
       "    <tr>\n",
       "      <th></th>\n",
       "      <th></th>\n",
       "      <th>exp_group</th>\n",
       "      <th>ctrl</th>\n",
       "      <th>SE</th>\n",
       "    </tr>\n",
       "    <tr>\n",
       "      <th>animal_num</th>\n",
       "      <th>slice_num</th>\n",
       "      <th>cell_num</th>\n",
       "      <th></th>\n",
       "      <th></th>\n",
       "    </tr>\n",
       "  </thead>\n",
       "  <tbody>\n",
       "    <tr>\n",
       "      <th rowspan=\"4\" valign=\"top\">1</th>\n",
       "      <th rowspan=\"2\" valign=\"top\">1</th>\n",
       "      <th>1</th>\n",
       "      <td>1849.1556</td>\n",
       "      <td>780.819</td>\n",
       "    </tr>\n",
       "    <tr>\n",
       "      <th>2</th>\n",
       "      <td>2187.8706</td>\n",
       "      <td>1195.229</td>\n",
       "    </tr>\n",
       "    <tr>\n",
       "      <th rowspan=\"2\" valign=\"top\">2</th>\n",
       "      <th>1</th>\n",
       "      <td>2385.2160</td>\n",
       "      <td>715.855</td>\n",
       "    </tr>\n",
       "    <tr>\n",
       "      <th>2</th>\n",
       "      <td>3030.0583</td>\n",
       "      <td>640.549</td>\n",
       "    </tr>\n",
       "    <tr>\n",
       "      <th>2</th>\n",
       "      <th>1</th>\n",
       "      <th>1</th>\n",
       "      <td>2489.6352</td>\n",
       "      <td>1260.321</td>\n",
       "    </tr>\n",
       "  </tbody>\n",
       "</table>\n",
       "</div>"
      ],
      "text/plain": [
       "                                  volume          \n",
       "exp_group                           ctrl        SE\n",
       "animal_num slice_num cell_num                     \n",
       "1          1         1         1849.1556   780.819\n",
       "                     2         2187.8706  1195.229\n",
       "           2         1         2385.2160   715.855\n",
       "                     2         3030.0583   640.549\n",
       "2          1         1         2489.6352  1260.321"
      ]
     },
     "execution_count": 103,
     "metadata": {},
     "output_type": "execute_result"
    }
   ],
   "source": [
    "wide_cell = pd.pivot_table(data_cell,\n",
    "                        index = ['animal_num','slice_num','cell_num'],\n",
    "                        columns = ['exp_group'],\n",
    "                        values = ['volume'],\n",
    "                        aggfunc = 'sum')\n",
    "wide_cell = wide_cell.reindex(columns=[('volume','ctrl'),('volume','SE')])\n",
    "wide_cell.head()"
   ]
  },
  {
   "cell_type": "code",
   "execution_count": 104,
   "metadata": {},
   "outputs": [
    {
     "data": {
      "text/plain": [
       "TotVol_GLT_ctrl    6338.328691\n",
       "TotVol_GLT_SE      5634.529420\n",
       "dtype: float64"
      ]
     },
     "execution_count": 104,
     "metadata": {},
     "output_type": "execute_result"
    }
   ],
   "source": [
    "tot_vol_df.mean()"
   ]
  },
  {
   "cell_type": "code",
   "execution_count": 105,
   "metadata": {},
   "outputs": [
    {
     "data": {
      "text/html": [
       "<div>\n",
       "<style scoped>\n",
       "    .dataframe tbody tr th:only-of-type {\n",
       "        vertical-align: middle;\n",
       "    }\n",
       "\n",
       "    .dataframe tbody tr th {\n",
       "        vertical-align: top;\n",
       "    }\n",
       "\n",
       "    .dataframe thead tr th {\n",
       "        text-align: left;\n",
       "    }\n",
       "\n",
       "    .dataframe thead tr:last-of-type th {\n",
       "        text-align: right;\n",
       "    }\n",
       "</style>\n",
       "<table border=\"1\" class=\"dataframe\">\n",
       "  <thead>\n",
       "    <tr>\n",
       "      <th></th>\n",
       "      <th></th>\n",
       "      <th></th>\n",
       "      <th colspan=\"2\" halign=\"left\">volume</th>\n",
       "      <th colspan=\"2\" halign=\"left\">vf</th>\n",
       "    </tr>\n",
       "    <tr>\n",
       "      <th></th>\n",
       "      <th></th>\n",
       "      <th>exp_group</th>\n",
       "      <th>ctrl</th>\n",
       "      <th>SE</th>\n",
       "      <th>ctrl</th>\n",
       "      <th>SE</th>\n",
       "    </tr>\n",
       "    <tr>\n",
       "      <th>animal_num</th>\n",
       "      <th>slice_num</th>\n",
       "      <th>cell_num</th>\n",
       "      <th></th>\n",
       "      <th></th>\n",
       "      <th></th>\n",
       "      <th></th>\n",
       "    </tr>\n",
       "  </thead>\n",
       "  <tbody>\n",
       "    <tr>\n",
       "      <th rowspan=\"4\" valign=\"top\">1</th>\n",
       "      <th rowspan=\"2\" valign=\"top\">1</th>\n",
       "      <th>1</th>\n",
       "      <td>1849.1556</td>\n",
       "      <td>780.819</td>\n",
       "      <td>0.291742</td>\n",
       "      <td>0.138577</td>\n",
       "    </tr>\n",
       "    <tr>\n",
       "      <th>2</th>\n",
       "      <td>2187.8706</td>\n",
       "      <td>1195.229</td>\n",
       "      <td>0.345181</td>\n",
       "      <td>0.212126</td>\n",
       "    </tr>\n",
       "    <tr>\n",
       "      <th rowspan=\"2\" valign=\"top\">2</th>\n",
       "      <th>1</th>\n",
       "      <td>2385.2160</td>\n",
       "      <td>715.855</td>\n",
       "      <td>0.376316</td>\n",
       "      <td>0.127048</td>\n",
       "    </tr>\n",
       "    <tr>\n",
       "      <th>2</th>\n",
       "      <td>3030.0583</td>\n",
       "      <td>640.549</td>\n",
       "      <td>0.478053</td>\n",
       "      <td>0.113683</td>\n",
       "    </tr>\n",
       "    <tr>\n",
       "      <th>2</th>\n",
       "      <th>1</th>\n",
       "      <th>1</th>\n",
       "      <td>2489.6352</td>\n",
       "      <td>1260.321</td>\n",
       "      <td>0.392790</td>\n",
       "      <td>0.223678</td>\n",
       "    </tr>\n",
       "  </tbody>\n",
       "</table>\n",
       "</div>"
      ],
      "text/plain": [
       "                                  volume                  vf          \n",
       "exp_group                           ctrl        SE      ctrl        SE\n",
       "animal_num slice_num cell_num                                         \n",
       "1          1         1         1849.1556   780.819  0.291742  0.138577\n",
       "                     2         2187.8706  1195.229  0.345181  0.212126\n",
       "           2         1         2385.2160   715.855  0.376316  0.127048\n",
       "                     2         3030.0583   640.549  0.478053  0.113683\n",
       "2          1         1         2489.6352  1260.321  0.392790  0.223678"
      ]
     },
     "execution_count": 105,
     "metadata": {},
     "output_type": "execute_result"
    }
   ],
   "source": [
    "wide_cell[('vf','ctrl')] = wide_cell.iloc[:,0]/tot_vol_df.mean()[0]\n",
    "wide_cell[('vf','SE')] = wide_cell.iloc[:,1]/tot_vol_df.mean()[1]\n",
    "wide_cell.head()"
   ]
  },
  {
   "cell_type": "code",
   "execution_count": 106,
   "metadata": {},
   "outputs": [
    {
     "name": "stdout",
     "output_type": "stream",
     "text": [
      "p-value annotation legend:\n",
      "ns: 5.00e-02 < p <= 1.00e+00\n",
      "*: 1.00e-02 < p <= 5.00e-02\n",
      "**: 1.00e-03 < p <= 1.00e-02\n",
      "***: 1.00e-04 < p <= 1.00e-03\n",
      "****: p <= 1.00e-04\n",
      "\n",
      "('vf', 'ctrl') v.s. ('vf', 'SE'): Mann-Whitney-Wilcoxon test two-sided, P_val=4.558e-03 U_stat=3.470e+02\n"
     ]
    },
    {
     "data": {
      "image/png": "[encoded data removed]",
      "text/plain": [
       "<Figure size 216x360 with 1 Axes>"
      ]
     },
     "metadata": {},
     "output_type": "display_data"
    }
   ],
   "source": [
    "boxplot_fine_view(data=wide_cell.iloc[:,2:4], box_pairs=(('vf', 'ctrl'), ('vf', 'SE')), \n",
    "                        ylabel = f'VF {CELL_PROTEIN}', ylim = [0.0001, 0.8],\n",
    "                        ytick = 0.1, figname= f'VF {CELL_PROTEIN}')"
   ]
  },
  {
   "cell_type": "code",
   "execution_count": 107,
   "metadata": {},
   "outputs": [
    {
     "name": "stdout",
     "output_type": "stream",
     "text": [
      "                 vf          \n",
      "exp_group      ctrl        SE\n",
      "0.25       0.250281  0.112596\n",
      "0.50       0.321041  0.143665\n",
      "0.75       0.391398  0.239636\n"
     ]
    }
   ],
   "source": [
    "percentile_vf_cell = wide_cell.iloc[:, 2:4].quantile([0.25, 0.50 , 0.75])\n",
    "print(percentile_vf_cell)"
   ]
  },
  {
   "cell_type": "code",
   "execution_count": 108,
   "metadata": {},
   "outputs": [
    {
     "name": "stdout",
     "output_type": "stream",
     "text": [
      "Statistics=347.000, p=0.00455844\n"
     ]
    }
   ],
   "source": [
    "stat_vf_cell, p_vf_cell= mannwhitneyu(wide_cell.iloc[:, 2].dropna(), wide_cell.iloc[:, 3].dropna())\n",
    "print('Statistics=%.3f, p=%.8f' % (stat_vf_cell, p_vf_cell))"
   ]
  },
  {
   "cell_type": "markdown",
   "metadata": {},
   "source": [
    "We see that after SE, GS volume fraction decreases significantly."
   ]
  },
  {
   "cell_type": "markdown",
   "metadata": {},
   "source": [
    "## Step 4. Save result "
   ]
  },
  {
   "cell_type": "markdown",
   "metadata": {},
   "source": [
    "Save obtain statistical criteria to excel file"
   ]
  },
  {
   "cell_type": "code",
   "execution_count": 109,
   "metadata": {},
   "outputs": [
    {
     "data": {
      "text/html": [
       "<div>\n",
       "<style scoped>\n",
       "    .dataframe tbody tr th:only-of-type {\n",
       "        vertical-align: middle;\n",
       "    }\n",
       "\n",
       "    .dataframe tbody tr th {\n",
       "        vertical-align: top;\n",
       "    }\n",
       "\n",
       "    .dataframe thead th {\n",
       "        text-align: right;\n",
       "    }\n",
       "</style>\n",
       "<table border=\"1\" class=\"dataframe\">\n",
       "  <thead>\n",
       "    <tr style=\"text-align: right;\">\n",
       "      <th></th>\n",
       "      <th>p-value</th>\n",
       "      <th>MW(U)</th>\n",
       "    </tr>\n",
       "  </thead>\n",
       "  <tbody>\n",
       "    <tr>\n",
       "      <th>clust_num</th>\n",
       "      <td>8.742440e-01</td>\n",
       "      <td>237.000000</td>\n",
       "    </tr>\n",
       "    <tr>\n",
       "      <th>ks_test</th>\n",
       "      <td>1.304360e-36</td>\n",
       "      <td>0.036728</td>\n",
       "    </tr>\n",
       "    <tr>\n",
       "      <th>svr_num</th>\n",
       "      <td>2.679092e-01</td>\n",
       "      <td>184.000000</td>\n",
       "    </tr>\n",
       "    <tr>\n",
       "      <th>vf_cell</th>\n",
       "      <td>4.558439e-03</td>\n",
       "      <td>347.000000</td>\n",
       "    </tr>\n",
       "  </tbody>\n",
       "</table>\n",
       "</div>"
      ],
      "text/plain": [
       "                p-value       MW(U)\n",
       "clust_num  8.742440e-01  237.000000\n",
       " ks_test   1.304360e-36    0.036728\n",
       "svr_num    2.679092e-01  184.000000\n",
       "vf_cell    4.558439e-03  347.000000"
      ]
     },
     "execution_count": 109,
     "metadata": {},
     "output_type": "execute_result"
    }
   ],
   "source": [
    "stat_table_final = pd.DataFrame(data =[(p_clust_num,stat_clust_num), (p_ks_test, stat_ks_test), \n",
    "                                        (p_svr_num, stat_svr_num), (p_vf_cell, stat_vf_cell)], \n",
    "                                index=['clust_num',' ks_test','svr_num', 'vf_cell'],\n",
    "                                columns = ['p-value', 'MW(U)'])\n",
    "stat_table_final"
   ]
  },
  {
   "cell_type": "code",
   "execution_count": 110,
   "metadata": {},
   "outputs": [
    {
     "data": {
      "text/html": [
       "<div>\n",
       "<style scoped>\n",
       "    .dataframe tbody tr th:only-of-type {\n",
       "        vertical-align: middle;\n",
       "    }\n",
       "\n",
       "    .dataframe tbody tr th {\n",
       "        vertical-align: top;\n",
       "    }\n",
       "\n",
       "    .dataframe thead th {\n",
       "        text-align: right;\n",
       "    }\n",
       "</style>\n",
       "<table border=\"1\" class=\"dataframe\">\n",
       "  <thead>\n",
       "    <tr style=\"text-align: right;\">\n",
       "      <th></th>\n",
       "      <th></th>\n",
       "      <th>ctrl</th>\n",
       "      <th>SE</th>\n",
       "    </tr>\n",
       "  </thead>\n",
       "  <tbody>\n",
       "    <tr>\n",
       "      <th rowspan=\"3\" valign=\"top\">num_clusters</th>\n",
       "      <th>0.25</th>\n",
       "      <td>54.770945</td>\n",
       "      <td>53.609180</td>\n",
       "    </tr>\n",
       "    <tr>\n",
       "      <th>0.50</th>\n",
       "      <td>57.181872</td>\n",
       "      <td>58.478708</td>\n",
       "    </tr>\n",
       "    <tr>\n",
       "      <th>0.75</th>\n",
       "      <td>66.066312</td>\n",
       "      <td>61.395988</td>\n",
       "    </tr>\n",
       "    <tr>\n",
       "      <th rowspan=\"3\" valign=\"top\">svr_clusters</th>\n",
       "      <th>0.25</th>\n",
       "      <td>10.719648</td>\n",
       "      <td>10.890548</td>\n",
       "    </tr>\n",
       "    <tr>\n",
       "      <th>0.50</th>\n",
       "      <td>10.874891</td>\n",
       "      <td>11.223198</td>\n",
       "    </tr>\n",
       "    <tr>\n",
       "      <th>0.75</th>\n",
       "      <td>11.589557</td>\n",
       "      <td>11.964177</td>\n",
       "    </tr>\n",
       "    <tr>\n",
       "      <th rowspan=\"3\" valign=\"top\">vf_cell</th>\n",
       "      <th>0.25</th>\n",
       "      <td>0.250281</td>\n",
       "      <td>0.112596</td>\n",
       "    </tr>\n",
       "    <tr>\n",
       "      <th>0.50</th>\n",
       "      <td>0.321041</td>\n",
       "      <td>0.143665</td>\n",
       "    </tr>\n",
       "    <tr>\n",
       "      <th>0.75</th>\n",
       "      <td>0.391398</td>\n",
       "      <td>0.239636</td>\n",
       "    </tr>\n",
       "  </tbody>\n",
       "</table>\n",
       "</div>"
      ],
      "text/plain": [
       "                        ctrl         SE\n",
       "num_clusters 0.25  54.770945  53.609180\n",
       "             0.50  57.181872  58.478708\n",
       "             0.75  66.066312  61.395988\n",
       "svr_clusters 0.25  10.719648  10.890548\n",
       "             0.50  10.874891  11.223198\n",
       "             0.75  11.589557  11.964177\n",
       "vf_cell      0.25   0.250281   0.112596\n",
       "             0.50   0.321041   0.143665\n",
       "             0.75   0.391398   0.239636"
      ]
     },
     "execution_count": 110,
     "metadata": {},
     "output_type": "execute_result"
    }
   ],
   "source": [
    "perc_table_final = pd.concat([pd.DataFrame(data = percentile_num_clusters.values, index=[0.25, 0.50, 0.75], columns = ['ctrl', 'SE']), \n",
    "           pd.DataFrame(data = percentile_svr_clusters.values, index=[0.25, 0.50, 0.75], columns = ['ctrl', 'SE']),\n",
    "           pd.DataFrame(data = percentile_vf_cell.values, index=[0.25, 0.50, 0.75], columns = ['ctrl', 'SE'])], \n",
    "           axis = 0, keys=['num_clusters', 'svr_clusters', 'vf_cell'])\n",
    "perc_table_final"
   ]
  },
  {
   "cell_type": "code",
   "execution_count": 111,
   "metadata": {},
   "outputs": [],
   "source": [
    "with pd.ExcelWriter(f'output_table/final_out_{CELL_PROTEIN}_{CLUST_PROTEIN}.xlsx') as writer:  \n",
    "    perc_table_final.to_excel(writer, sheet_name='Percentiles', float_format=\"%.2f\")\n",
    "    stat_table_final.to_excel(writer, sheet_name='P-val, MW(U)', float_format=\"%.10f\")"
   ]
  }
 ],
 "metadata": {
  "interpreter": {
   "hash": "690fcc030dbde6f3f652c519b06a0d95da528e66105ed58c88e506e5818277cb"
  },
  "kernelspec": {
   "display_name": "Python 3.8.8 ('base')",
   "language": "python",
   "name": "python3"
  },
  "language_info": {
   "codemirror_mode": {
    "name": "ipython",
    "version": 3
   },
   "file_extension": ".py",
   "mimetype": "text/x-python",
   "name": "python",
   "nbconvert_exporter": "python",
   "pygments_lexer": "ipython3",
   "version": "3.8.8"
  },
  "orig_nbformat": 4
 },
 "nbformat": 4,
 "nbformat_minor": 2
}
