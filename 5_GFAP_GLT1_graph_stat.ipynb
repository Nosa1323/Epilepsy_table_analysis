{
 "cells": [
  {
   "cell_type": "markdown",
   "metadata": {},
   "source": [
    "base_python env"
   ]
  },
  {
   "cell_type": "code",
   "execution_count": 1,
   "metadata": {},
   "outputs": [],
   "source": [
    "from IPython import get_ipython\n",
    "get_ipython().run_line_magic('reset', '-sf') \n",
    "\n",
    "import pandas as pd\n",
    "import numpy as np\n",
    "import glob\n",
    "import re\n",
    "\n",
    "import matplotlib.pyplot as plt\n",
    "import matplotlib.ticker as ticker\n",
    "import seaborn as sns\n",
    "from scipy.stats import mannwhitneyu, ks_2samp, ks_1samp, norm\n",
    "from statannot import add_stat_annotation\n",
    "import os\n",
    "from modules.data_loader import file_extraction, csv_to_xlsx, file_folder_creator\n",
    "from modules.graphics_handler import histplot_fine_view, boxplot_fine_view\n"
   ]
  },
  {
   "cell_type": "markdown",
   "metadata": {},
   "source": [
    "First of all, we need to choose export column in the input tables.\n",
    "Here, we need Volume(unit) and SurfaceArea (um2). \n",
    "\n",
    "## Step 1. Grab .csv files, convert it to .xlsx and upload into dataframe (df)."
   ]
  },
  {
   "cell_type": "code",
   "execution_count": 2,
   "metadata": {},
   "outputs": [],
   "source": [
    "search_path = 'data3/*cell*'\n",
    "tot_vol_path = 'data3/total_vol_gfap_glt.xlsx'"
   ]
  },
  {
   "cell_type": "code",
   "execution_count": 3,
   "metadata": {},
   "outputs": [],
   "source": [
    "csv_to_xlsx(search_path)"
   ]
  },
  {
   "cell_type": "code",
   "execution_count": 4,
   "metadata": {},
   "outputs": [],
   "source": [
    "data = file_extraction(search_path)"
   ]
  },
  {
   "cell_type": "code",
   "execution_count": 5,
   "metadata": {},
   "outputs": [
    {
     "data": {
      "text/html": [
       "<div>\n",
       "<style scoped>\n",
       "    .dataframe tbody tr th:only-of-type {\n",
       "        vertical-align: middle;\n",
       "    }\n",
       "\n",
       "    .dataframe tbody tr th {\n",
       "        vertical-align: top;\n",
       "    }\n",
       "\n",
       "    .dataframe thead th {\n",
       "        text-align: right;\n",
       "    }\n",
       "</style>\n",
       "<table border=\"1\" class=\"dataframe\">\n",
       "  <thead>\n",
       "    <tr style=\"text-align: right;\">\n",
       "      <th></th>\n",
       "      <th>volume</th>\n",
       "      <th>surface_area</th>\n",
       "      <th>animal_num</th>\n",
       "      <th>exp_group</th>\n",
       "      <th>slice_num</th>\n",
       "      <th>cell_num</th>\n",
       "      <th>protein</th>\n",
       "    </tr>\n",
       "    <tr>\n",
       "      <th>id</th>\n",
       "      <th></th>\n",
       "      <th></th>\n",
       "      <th></th>\n",
       "      <th></th>\n",
       "      <th></th>\n",
       "      <th></th>\n",
       "      <th></th>\n",
       "    </tr>\n",
       "  </thead>\n",
       "  <tbody>\n",
       "    <tr>\n",
       "      <th>1</th>\n",
       "      <td>0.016</td>\n",
       "      <td>0.584</td>\n",
       "      <td>1</td>\n",
       "      <td>ctrl</td>\n",
       "      <td>1</td>\n",
       "      <td>1</td>\n",
       "      <td>GFAP</td>\n",
       "    </tr>\n",
       "    <tr>\n",
       "      <th>2</th>\n",
       "      <td>0.013</td>\n",
       "      <td>0.398</td>\n",
       "      <td>1</td>\n",
       "      <td>ctrl</td>\n",
       "      <td>1</td>\n",
       "      <td>1</td>\n",
       "      <td>GFAP</td>\n",
       "    </tr>\n",
       "    <tr>\n",
       "      <th>3</th>\n",
       "      <td>0.003</td>\n",
       "      <td>0.146</td>\n",
       "      <td>1</td>\n",
       "      <td>ctrl</td>\n",
       "      <td>1</td>\n",
       "      <td>1</td>\n",
       "      <td>GFAP</td>\n",
       "    </tr>\n",
       "    <tr>\n",
       "      <th>4</th>\n",
       "      <td>0.003</td>\n",
       "      <td>0.146</td>\n",
       "      <td>1</td>\n",
       "      <td>ctrl</td>\n",
       "      <td>1</td>\n",
       "      <td>1</td>\n",
       "      <td>GFAP</td>\n",
       "    </tr>\n",
       "    <tr>\n",
       "      <th>5</th>\n",
       "      <td>0.123</td>\n",
       "      <td>2.215</td>\n",
       "      <td>1</td>\n",
       "      <td>ctrl</td>\n",
       "      <td>1</td>\n",
       "      <td>1</td>\n",
       "      <td>GFAP</td>\n",
       "    </tr>\n",
       "  </tbody>\n",
       "</table>\n",
       "</div>"
      ],
      "text/plain": [
       "    volume  surface_area animal_num exp_group slice_num cell_num protein\n",
       "id                                                                      \n",
       "1    0.016         0.584          1      ctrl         1        1    GFAP\n",
       "2    0.013         0.398          1      ctrl         1        1    GFAP\n",
       "3    0.003         0.146          1      ctrl         1        1    GFAP\n",
       "4    0.003         0.146          1      ctrl         1        1    GFAP\n",
       "5    0.123         2.215          1      ctrl         1        1    GFAP"
      ]
     },
     "execution_count": 5,
     "metadata": {},
     "output_type": "execute_result"
    }
   ],
   "source": [
    "data.head()"
   ]
  },
  {
   "cell_type": "markdown",
   "metadata": {},
   "source": [
    "We can see descriptive statistics for our data."
   ]
  },
  {
   "cell_type": "code",
   "execution_count": 6,
   "metadata": {},
   "outputs": [
    {
     "data": {
      "text/html": [
       "<div>\n",
       "<style scoped>\n",
       "    .dataframe tbody tr th:only-of-type {\n",
       "        vertical-align: middle;\n",
       "    }\n",
       "\n",
       "    .dataframe tbody tr th {\n",
       "        vertical-align: top;\n",
       "    }\n",
       "\n",
       "    .dataframe thead th {\n",
       "        text-align: right;\n",
       "    }\n",
       "</style>\n",
       "<table border=\"1\" class=\"dataframe\">\n",
       "  <thead>\n",
       "    <tr style=\"text-align: right;\">\n",
       "      <th></th>\n",
       "      <th>volume</th>\n",
       "      <th>surface_area</th>\n",
       "    </tr>\n",
       "  </thead>\n",
       "  <tbody>\n",
       "    <tr>\n",
       "      <th>count</th>\n",
       "      <td>25652.000000</td>\n",
       "      <td>25652.000000</td>\n",
       "    </tr>\n",
       "    <tr>\n",
       "      <th>mean</th>\n",
       "      <td>1.707995</td>\n",
       "      <td>8.746256</td>\n",
       "    </tr>\n",
       "    <tr>\n",
       "      <th>std</th>\n",
       "      <td>33.191584</td>\n",
       "      <td>136.327303</td>\n",
       "    </tr>\n",
       "    <tr>\n",
       "      <th>min</th>\n",
       "      <td>0.003000</td>\n",
       "      <td>0.146000</td>\n",
       "    </tr>\n",
       "    <tr>\n",
       "      <th>25%</th>\n",
       "      <td>0.003000</td>\n",
       "      <td>0.146000</td>\n",
       "    </tr>\n",
       "    <tr>\n",
       "      <th>50%</th>\n",
       "      <td>0.013000</td>\n",
       "      <td>0.419000</td>\n",
       "    </tr>\n",
       "    <tr>\n",
       "      <th>75%</th>\n",
       "      <td>0.071000</td>\n",
       "      <td>1.631500</td>\n",
       "    </tr>\n",
       "    <tr>\n",
       "      <th>max</th>\n",
       "      <td>2724.531000</td>\n",
       "      <td>11871.460000</td>\n",
       "    </tr>\n",
       "  </tbody>\n",
       "</table>\n",
       "</div>"
      ],
      "text/plain": [
       "             volume  surface_area\n",
       "count  25652.000000  25652.000000\n",
       "mean       1.707995      8.746256\n",
       "std       33.191584    136.327303\n",
       "min        0.003000      0.146000\n",
       "25%        0.003000      0.146000\n",
       "50%        0.013000      0.419000\n",
       "75%        0.071000      1.631500\n",
       "max     2724.531000  11871.460000"
      ]
     },
     "execution_count": 6,
     "metadata": {},
     "output_type": "execute_result"
    }
   ],
   "source": [
    "data.describe()"
   ]
  },
  {
   "cell_type": "code",
   "execution_count": 7,
   "metadata": {},
   "outputs": [],
   "source": [
    "CELL_PROTEIN = data['protein'].unique()[0]"
   ]
  },
  {
   "cell_type": "code",
   "execution_count": 8,
   "metadata": {},
   "outputs": [],
   "source": [
    "data_cell = data[(data['protein']==CELL_PROTEIN)].copy(deep=True)"
   ]
  },
  {
   "cell_type": "code",
   "execution_count": 9,
   "metadata": {},
   "outputs": [
    {
     "data": {
      "text/plain": [
       "'Folder created'"
      ]
     },
     "execution_count": 9,
     "metadata": {},
     "output_type": "execute_result"
    }
   ],
   "source": [
    "file_folder_creator('figs/GFAP')"
   ]
  },
  {
   "cell_type": "code",
   "execution_count": 10,
   "metadata": {},
   "outputs": [],
   "source": [
    "mask_ctrl_clust = data['exp_group']=='ctrl'\n",
    "mask_SE_clust= data['exp_group']=='SE'"
   ]
  },
  {
   "cell_type": "code",
   "execution_count": 11,
   "metadata": {},
   "outputs": [
    {
     "data": {
      "text/plain": [
       "<AxesSubplot:>"
      ]
     },
     "execution_count": 11,
     "metadata": {},
     "output_type": "execute_result"
    },
    {
     "data": {
      "image/png": "[encoded data removed]",
      "text/plain": [
       "<Figure size 432x288 with 2 Axes>"
      ]
     },
     "metadata": {
      "needs_background": "light"
     },
     "output_type": "display_data"
    }
   ],
   "source": [
    "sns.heatmap(data[mask_ctrl_clust].loc[:, ['volume', 'surface_area']].corr(), annot=True)"
   ]
  },
  {
   "cell_type": "code",
   "execution_count": 12,
   "metadata": {},
   "outputs": [
    {
     "data": {
      "text/plain": [
       "<AxesSubplot:>"
      ]
     },
     "execution_count": 12,
     "metadata": {},
     "output_type": "execute_result"
    },
    {
     "data": {
      "image/png": "[encoded data removed]",
      "text/plain": [
       "<Figure size 432x288 with 2 Axes>"
      ]
     },
     "metadata": {
      "needs_background": "light"
     },
     "output_type": "display_data"
    }
   ],
   "source": [
    "sns.heatmap(data[mask_SE_clust].loc[:, ['volume', 'surface_area']].corr(), annot=True)"
   ]
  },
  {
   "cell_type": "markdown",
   "metadata": {},
   "source": [
    "We see a positive correlation between the cluster volume and its surface area for both group. This means that the larger the volume, the larger the surface area."
   ]
  },
  {
   "cell_type": "markdown",
   "metadata": {},
   "source": [
    "## GFAP calculation\n",
    "\n",
    "Since GFAP does not aggregates in clusters, we consider using only the volume of the fraction (VF)."
   ]
  },
  {
   "cell_type": "markdown",
   "metadata": {},
   "source": [
    "### GFAP volume fraction ctrl vs SE"
   ]
  },
  {
   "cell_type": "code",
   "execution_count": 13,
   "metadata": {},
   "outputs": [
    {
     "data": {
      "text/html": [
       "<div>\n",
       "<style scoped>\n",
       "    .dataframe tbody tr th:only-of-type {\n",
       "        vertical-align: middle;\n",
       "    }\n",
       "\n",
       "    .dataframe tbody tr th {\n",
       "        vertical-align: top;\n",
       "    }\n",
       "\n",
       "    .dataframe thead tr th {\n",
       "        text-align: left;\n",
       "    }\n",
       "\n",
       "    .dataframe thead tr:last-of-type th {\n",
       "        text-align: right;\n",
       "    }\n",
       "</style>\n",
       "<table border=\"1\" class=\"dataframe\">\n",
       "  <thead>\n",
       "    <tr>\n",
       "      <th></th>\n",
       "      <th></th>\n",
       "      <th></th>\n",
       "      <th colspan=\"2\" halign=\"left\">volume</th>\n",
       "    </tr>\n",
       "    <tr>\n",
       "      <th></th>\n",
       "      <th></th>\n",
       "      <th>exp_group</th>\n",
       "      <th>ctrl</th>\n",
       "      <th>SE</th>\n",
       "    </tr>\n",
       "    <tr>\n",
       "      <th>animal_num</th>\n",
       "      <th>slice_num</th>\n",
       "      <th>cell_num</th>\n",
       "      <th></th>\n",
       "      <th></th>\n",
       "    </tr>\n",
       "  </thead>\n",
       "  <tbody>\n",
       "    <tr>\n",
       "      <th rowspan=\"5\" valign=\"top\">1</th>\n",
       "      <th rowspan=\"3\" valign=\"top\">1</th>\n",
       "      <th>1</th>\n",
       "      <td>426.392</td>\n",
       "      <td>388.022</td>\n",
       "    </tr>\n",
       "    <tr>\n",
       "      <th>2</th>\n",
       "      <td>126.508</td>\n",
       "      <td>262.875</td>\n",
       "    </tr>\n",
       "    <tr>\n",
       "      <th>3</th>\n",
       "      <td>127.725</td>\n",
       "      <td>NaN</td>\n",
       "    </tr>\n",
       "    <tr>\n",
       "      <th rowspan=\"2\" valign=\"top\">2</th>\n",
       "      <th>1</th>\n",
       "      <td>NaN</td>\n",
       "      <td>863.293</td>\n",
       "    </tr>\n",
       "    <tr>\n",
       "      <th>2</th>\n",
       "      <td>NaN</td>\n",
       "      <td>1065.542</td>\n",
       "    </tr>\n",
       "  </tbody>\n",
       "</table>\n",
       "</div>"
      ],
      "text/plain": [
       "                                volume          \n",
       "exp_group                         ctrl        SE\n",
       "animal_num slice_num cell_num                   \n",
       "1          1         1         426.392   388.022\n",
       "                     2         126.508   262.875\n",
       "                     3         127.725       NaN\n",
       "           2         1             NaN   863.293\n",
       "                     2             NaN  1065.542"
      ]
     },
     "execution_count": 13,
     "metadata": {},
     "output_type": "execute_result"
    }
   ],
   "source": [
    "wide_cell = pd.pivot_table(data_cell,\n",
    "                        index = ['animal_num','slice_num','cell_num'],\n",
    "                        columns = ['exp_group'],\n",
    "                        values = ['volume'],\n",
    "                        aggfunc = 'sum')\n",
    "wide_cell = wide_cell.reindex(columns=[('volume','ctrl'),('volume','SE')])\n",
    "wide_cell.head()"
   ]
  },
  {
   "cell_type": "code",
   "execution_count": 14,
   "metadata": {},
   "outputs": [
    {
     "data": {
      "text/plain": [
       "TotVol_glt_ctrl     9303.906648\n",
       "TotVol_glt_SE      10018.908710\n",
       "dtype: float64"
      ]
     },
     "execution_count": 14,
     "metadata": {},
     "output_type": "execute_result"
    }
   ],
   "source": [
    "tot_vol_df = pd.read_excel(f'{tot_vol_path}', usecols=[0,1], dtype='float64')\n",
    "tot_vol_df.mean()"
   ]
  },
  {
   "cell_type": "code",
   "execution_count": 15,
   "metadata": {},
   "outputs": [
    {
     "data": {
      "text/html": [
       "<div>\n",
       "<style scoped>\n",
       "    .dataframe tbody tr th:only-of-type {\n",
       "        vertical-align: middle;\n",
       "    }\n",
       "\n",
       "    .dataframe tbody tr th {\n",
       "        vertical-align: top;\n",
       "    }\n",
       "\n",
       "    .dataframe thead tr th {\n",
       "        text-align: left;\n",
       "    }\n",
       "\n",
       "    .dataframe thead tr:last-of-type th {\n",
       "        text-align: right;\n",
       "    }\n",
       "</style>\n",
       "<table border=\"1\" class=\"dataframe\">\n",
       "  <thead>\n",
       "    <tr>\n",
       "      <th></th>\n",
       "      <th></th>\n",
       "      <th></th>\n",
       "      <th colspan=\"2\" halign=\"left\">volume</th>\n",
       "      <th colspan=\"2\" halign=\"left\">vf</th>\n",
       "    </tr>\n",
       "    <tr>\n",
       "      <th></th>\n",
       "      <th></th>\n",
       "      <th>exp_group</th>\n",
       "      <th>ctrl</th>\n",
       "      <th>SE</th>\n",
       "      <th>ctrl</th>\n",
       "      <th>SE</th>\n",
       "    </tr>\n",
       "    <tr>\n",
       "      <th>animal_num</th>\n",
       "      <th>slice_num</th>\n",
       "      <th>cell_num</th>\n",
       "      <th></th>\n",
       "      <th></th>\n",
       "      <th></th>\n",
       "      <th></th>\n",
       "    </tr>\n",
       "  </thead>\n",
       "  <tbody>\n",
       "    <tr>\n",
       "      <th rowspan=\"5\" valign=\"top\">1</th>\n",
       "      <th rowspan=\"3\" valign=\"top\">1</th>\n",
       "      <th>1</th>\n",
       "      <td>426.392</td>\n",
       "      <td>388.022</td>\n",
       "      <td>0.045829</td>\n",
       "      <td>0.038729</td>\n",
       "    </tr>\n",
       "    <tr>\n",
       "      <th>2</th>\n",
       "      <td>126.508</td>\n",
       "      <td>262.875</td>\n",
       "      <td>0.013597</td>\n",
       "      <td>0.026238</td>\n",
       "    </tr>\n",
       "    <tr>\n",
       "      <th>3</th>\n",
       "      <td>127.725</td>\n",
       "      <td>NaN</td>\n",
       "      <td>0.013728</td>\n",
       "      <td>NaN</td>\n",
       "    </tr>\n",
       "    <tr>\n",
       "      <th rowspan=\"2\" valign=\"top\">2</th>\n",
       "      <th>1</th>\n",
       "      <td>NaN</td>\n",
       "      <td>863.293</td>\n",
       "      <td>NaN</td>\n",
       "      <td>0.086166</td>\n",
       "    </tr>\n",
       "    <tr>\n",
       "      <th>2</th>\n",
       "      <td>NaN</td>\n",
       "      <td>1065.542</td>\n",
       "      <td>NaN</td>\n",
       "      <td>0.106353</td>\n",
       "    </tr>\n",
       "  </tbody>\n",
       "</table>\n",
       "</div>"
      ],
      "text/plain": [
       "                                volume                  vf          \n",
       "exp_group                         ctrl        SE      ctrl        SE\n",
       "animal_num slice_num cell_num                                       \n",
       "1          1         1         426.392   388.022  0.045829  0.038729\n",
       "                     2         126.508   262.875  0.013597  0.026238\n",
       "                     3         127.725       NaN  0.013728       NaN\n",
       "           2         1             NaN   863.293       NaN  0.086166\n",
       "                     2             NaN  1065.542       NaN  0.106353"
      ]
     },
     "execution_count": 15,
     "metadata": {},
     "output_type": "execute_result"
    }
   ],
   "source": [
    "wide_cell[('vf','ctrl')] = wide_cell.iloc[:,0]/tot_vol_df.mean()[0]\n",
    "wide_cell[('vf','SE')] = wide_cell.iloc[:,1]/tot_vol_df.mean()[1]\n",
    "wide_cell.head()"
   ]
  },
  {
   "cell_type": "code",
   "execution_count": 16,
   "metadata": {},
   "outputs": [
    {
     "name": "stdout",
     "output_type": "stream",
     "text": [
      "p-value annotation legend:\n",
      "ns: 5.00e-02 < p <= 1.00e+00\n",
      "*: 1.00e-02 < p <= 5.00e-02\n",
      "**: 1.00e-03 < p <= 1.00e-02\n",
      "***: 1.00e-04 < p <= 1.00e-03\n",
      "****: p <= 1.00e-04\n",
      "\n",
      "('vf', 'ctrl') v.s. ('vf', 'SE'): Mann-Whitney-Wilcoxon test two-sided, P_val=1.424e-02 U_stat=1.180e+02\n"
     ]
    },
    {
     "data": {
      "image/png": "[encoded data removed]",
      "text/plain": [
       "<Figure size 216x360 with 1 Axes>"
      ]
     },
     "metadata": {
      "needs_background": "light"
     },
     "output_type": "display_data"
    }
   ],
   "source": [
    "boxplot_fine_view(data=wide_cell.iloc[:,2:4], box_pairs=(('vf', 'ctrl'), ('vf', 'SE')), \n",
    "                        ylabel = f'VF {CELL_PROTEIN}', ylim = [0.0001, 0.3],\n",
    "                        ytick = 0.05, figname= f'GFAP/VF {CELL_PROTEIN}')"
   ]
  },
  {
   "cell_type": "code",
   "execution_count": 17,
   "metadata": {},
   "outputs": [
    {
     "name": "stdout",
     "output_type": "stream",
     "text": [
      "                 vf          \n",
      "exp_group      ctrl        SE\n",
      "0.25       0.055297  0.077543\n",
      "0.50       0.072875  0.111952\n",
      "0.75       0.089358  0.153570\n"
     ]
    }
   ],
   "source": [
    "percentile_vf_cell = wide_cell.iloc[:, 2:4].quantile([0.25, 0.50 , 0.75])\n",
    "print(percentile_vf_cell)"
   ]
  },
  {
   "cell_type": "code",
   "execution_count": 18,
   "metadata": {},
   "outputs": [
    {
     "name": "stdout",
     "output_type": "stream",
     "text": [
      "Statistics=118.000, p=0.01423893\n"
     ]
    }
   ],
   "source": [
    "stat_vf_cell, p_vf_cell= mannwhitneyu(wide_cell.iloc[:, 2].dropna(), wide_cell.iloc[:, 3].dropna())\n",
    "print('Statistics=%.3f, p=%.8f' % (stat_vf_cell, p_vf_cell))"
   ]
  },
  {
   "cell_type": "markdown",
   "metadata": {},
   "source": [
    "We see that after SE, GFAP volume fraction increase significantly after SE."
   ]
  },
  {
   "cell_type": "markdown",
   "metadata": {},
   "source": [
    "## Step 4. Save result "
   ]
  },
  {
   "cell_type": "markdown",
   "metadata": {},
   "source": [
    "Save obtain statistical criteria to excel file"
   ]
  },
  {
   "cell_type": "code",
   "execution_count": 19,
   "metadata": {},
   "outputs": [
    {
     "data": {
      "text/html": [
       "<div>\n",
       "<style scoped>\n",
       "    .dataframe tbody tr th:only-of-type {\n",
       "        vertical-align: middle;\n",
       "    }\n",
       "\n",
       "    .dataframe tbody tr th {\n",
       "        vertical-align: top;\n",
       "    }\n",
       "\n",
       "    .dataframe thead th {\n",
       "        text-align: right;\n",
       "    }\n",
       "</style>\n",
       "<table border=\"1\" class=\"dataframe\">\n",
       "  <thead>\n",
       "    <tr style=\"text-align: right;\">\n",
       "      <th></th>\n",
       "      <th>p-value</th>\n",
       "      <th>MW(U)</th>\n",
       "    </tr>\n",
       "  </thead>\n",
       "  <tbody>\n",
       "    <tr>\n",
       "      <th>vf_cell</th>\n",
       "      <td>0.014239</td>\n",
       "      <td>118.0</td>\n",
       "    </tr>\n",
       "  </tbody>\n",
       "</table>\n",
       "</div>"
      ],
      "text/plain": [
       "          p-value  MW(U)\n",
       "vf_cell  0.014239  118.0"
      ]
     },
     "execution_count": 19,
     "metadata": {},
     "output_type": "execute_result"
    }
   ],
   "source": [
    "stat_table_final = pd.DataFrame(data =[(p_vf_cell, stat_vf_cell)], \n",
    "                                index=['vf_cell'],\n",
    "                                columns = ['p-value', 'MW(U)'])\n",
    "stat_table_final"
   ]
  },
  {
   "cell_type": "code",
   "execution_count": 20,
   "metadata": {},
   "outputs": [
    {
     "data": {
      "text/html": [
       "<div>\n",
       "<style scoped>\n",
       "    .dataframe tbody tr th:only-of-type {\n",
       "        vertical-align: middle;\n",
       "    }\n",
       "\n",
       "    .dataframe tbody tr th {\n",
       "        vertical-align: top;\n",
       "    }\n",
       "\n",
       "    .dataframe thead tr th {\n",
       "        text-align: left;\n",
       "    }\n",
       "</style>\n",
       "<table border=\"1\" class=\"dataframe\">\n",
       "  <thead>\n",
       "    <tr>\n",
       "      <th></th>\n",
       "      <th colspan=\"2\" halign=\"left\">vf</th>\n",
       "    </tr>\n",
       "    <tr>\n",
       "      <th>exp_group</th>\n",
       "      <th>ctrl</th>\n",
       "      <th>SE</th>\n",
       "    </tr>\n",
       "  </thead>\n",
       "  <tbody>\n",
       "    <tr>\n",
       "      <th>0.25</th>\n",
       "      <td>0.055297</td>\n",
       "      <td>0.077543</td>\n",
       "    </tr>\n",
       "    <tr>\n",
       "      <th>0.50</th>\n",
       "      <td>0.072875</td>\n",
       "      <td>0.111952</td>\n",
       "    </tr>\n",
       "    <tr>\n",
       "      <th>0.75</th>\n",
       "      <td>0.089358</td>\n",
       "      <td>0.153570</td>\n",
       "    </tr>\n",
       "  </tbody>\n",
       "</table>\n",
       "</div>"
      ],
      "text/plain": [
       "                 vf          \n",
       "exp_group      ctrl        SE\n",
       "0.25       0.055297  0.077543\n",
       "0.50       0.072875  0.111952\n",
       "0.75       0.089358  0.153570"
      ]
     },
     "execution_count": 20,
     "metadata": {},
     "output_type": "execute_result"
    }
   ],
   "source": [
    "percentile_vf_cell"
   ]
  },
  {
   "cell_type": "code",
   "execution_count": 21,
   "metadata": {},
   "outputs": [],
   "source": [
    "with pd.ExcelWriter(f'output_table/final_out_{CELL_PROTEIN}.xlsx') as writer:  \n",
    "    percentile_vf_cell.to_excel(writer, sheet_name='Percentiles', float_format=\"%.2f\")\n",
    "    stat_table_final.to_excel(writer, sheet_name='P-val, MW(U)', float_format=\"%.10f\")"
   ]
  }
 ],
 "metadata": {
  "interpreter": {
   "hash": "690fcc030dbde6f3f652c519b06a0d95da528e66105ed58c88e506e5818277cb"
  },
  "kernelspec": {
   "display_name": "Python 3.8.8 ('base')",
   "language": "python",
   "name": "python3"
  },
  "language_info": {
   "codemirror_mode": {
    "name": "ipython",
    "version": 3
   },
   "file_extension": ".py",
   "mimetype": "text/x-python",
   "name": "python",
   "nbconvert_exporter": "python",
   "pygments_lexer": "ipython3",
   "version": "3.8.8"
  },
  "orig_nbformat": 4
 },
 "nbformat": 4,
 "nbformat_minor": 2
}
