{
 "cells": [
  {
   "cell_type": "markdown",
   "metadata": {},
   "source": [
    "Сначала нужно определить какие столбцы мы хотим загрузить из нашей таблицы. \n",
    "\n",
    "Так, для моего примера мне нужны столбцы Volume(unit)(2), SurfaceArea (um2)(5) + количество строк.\n",
    "\n",
    "Шаг1. Извлечение данных из xlsx в df, с которыми я смогу работать в python"
   ]
  },
  {
   "cell_type": "markdown",
   "metadata": {},
   "source": [
    "glob - показывает пути к файлам с указанным расширением и сохраняет в переменную filepaths\n",
    "\n",
    "создаем пустой датафрейм, куда будут загружаться считанные столбики таблиц\n",
    "\n",
    "добавила sheet_lst_wanted, чтобы сразу загружать несколько книг из из файла? \n",
    "\n",
    "+Есть проблема: не извлеклись все страницы -> собьется нумерация. Подумать... = рещила убрать все страницы и использовать отдельныей файлы \n",
    "\n",
    "в цикле объединяем датафреймы из считанных файлов "
   ]
  },
  {
   "cell_type": "code",
   "execution_count": 6,
   "metadata": {},
   "outputs": [],
   "source": [
    "from IPython import get_ipython\n",
    "get_ipython().magic('reset -sf') \n",
    "\n",
    "import pandas as pd\n",
    "import numpy as np\n",
    "import glob\n",
    "\n",
    "\n",
    "filepaths = glob.glob('**/N1*stack1*.xlsx', recursive=True) #можно изменять номера в N1*stack1,чтобы извлечь другие файлы\n",
    "df = pd.DataFrame()\n",
    "for find_files in filepaths:\n",
    "    df = df.join (pd.read_excel(find_files, usecols=[1,4]), how='outer',lsuffix=' ')\n"
   ]
  },
  {
   "cell_type": "markdown",
   "metadata": {},
   "source": [
    "Нужно изменить названия столбцов,чтобы было очевидно их происхождение из другого файла. \n",
    "\n",
    "Для этого была написана функция columns_rename, где в цикле добавляется порядковый номер файла, из которого происходило извлечение\n",
    "\n",
    "\n",
    "Заменим измененным названиями столбцов действующие названия в датафрейме."
   ]
  },
  {
   "cell_type": "code",
   "execution_count": 7,
   "metadata": {},
   "outputs": [],
   "source": [
    "columns_names = [j for j in df.columns.tolist()]\n",
    "\n",
    "def columns_rename(columns_names):\n",
    "    j=1\n",
    "    for i in range (0, len(columns_names), 2):\n",
    "        columns_names[i] = 'N1_stack1_cell' +  str(j) + columns_names[i] #можно изменять номера в N1*stack1,чтобы отметить \n",
    "        columns_names[i+1] = 'N1_stack1_cell' +  str(j) + columns_names[i+1]    # принадлежность к другой партии данных\n",
    "        j+=1\n",
    "    return(columns_names)\n",
    "df.set_axis(columns_rename(columns_names), axis=1, inplace=True)"
   ]
  },
  {
   "cell_type": "markdown",
   "metadata": {},
   "source": [
    "Посмотрим на значения основных критериев описательной статистики"
   ]
  },
  {
   "cell_type": "code",
   "execution_count": 8,
   "metadata": {},
   "outputs": [
    {
     "data": {
      "text/html": [
       "<div>\n",
       "<style scoped>\n",
       "    .dataframe tbody tr th:only-of-type {\n",
       "        vertical-align: middle;\n",
       "    }\n",
       "\n",
       "    .dataframe tbody tr th {\n",
       "        vertical-align: top;\n",
       "    }\n",
       "\n",
       "    .dataframe thead th {\n",
       "        text-align: right;\n",
       "    }\n",
       "</style>\n",
       "<table border=\"1\" class=\"dataframe\">\n",
       "  <thead>\n",
       "    <tr style=\"text-align: right;\">\n",
       "      <th></th>\n",
       "      <th>N1_stack1_cell1Volume (unit)</th>\n",
       "      <th>N1_stack1_cell1SurfaceArea</th>\n",
       "      <th>N1_stack1_cell2Volume (unit)</th>\n",
       "      <th>N1_stack1_cell2SurfaceArea</th>\n",
       "    </tr>\n",
       "  </thead>\n",
       "  <tbody>\n",
       "    <tr>\n",
       "      <th>count</th>\n",
       "      <td>3818.000000</td>\n",
       "      <td>3818.000000</td>\n",
       "      <td>3902.000000</td>\n",
       "      <td>3902.000000</td>\n",
       "    </tr>\n",
       "    <tr>\n",
       "      <th>mean</th>\n",
       "      <td>0.424083</td>\n",
       "      <td>4.567595</td>\n",
       "      <td>0.379947</td>\n",
       "      <td>4.037284</td>\n",
       "    </tr>\n",
       "    <tr>\n",
       "      <th>std</th>\n",
       "      <td>0.270616</td>\n",
       "      <td>2.123704</td>\n",
       "      <td>0.243734</td>\n",
       "      <td>1.827245</td>\n",
       "    </tr>\n",
       "    <tr>\n",
       "      <th>min</th>\n",
       "      <td>0.010741</td>\n",
       "      <td>0.333797</td>\n",
       "      <td>0.010741</td>\n",
       "      <td>0.333797</td>\n",
       "    </tr>\n",
       "    <tr>\n",
       "      <th>25%</th>\n",
       "      <td>0.225564</td>\n",
       "      <td>2.992793</td>\n",
       "      <td>0.204081</td>\n",
       "      <td>2.729861</td>\n",
       "    </tr>\n",
       "    <tr>\n",
       "      <th>50%</th>\n",
       "      <td>0.372359</td>\n",
       "      <td>4.350735</td>\n",
       "      <td>0.325814</td>\n",
       "      <td>3.790924</td>\n",
       "    </tr>\n",
       "    <tr>\n",
       "      <th>75%</th>\n",
       "      <td>0.572860</td>\n",
       "      <td>5.906711</td>\n",
       "      <td>0.501252</td>\n",
       "      <td>5.145034</td>\n",
       "    </tr>\n",
       "    <tr>\n",
       "      <th>max</th>\n",
       "      <td>2.842817</td>\n",
       "      <td>17.403682</td>\n",
       "      <td>2.345145</td>\n",
       "      <td>15.863077</td>\n",
       "    </tr>\n",
       "  </tbody>\n",
       "</table>\n",
       "</div>"
      ],
      "text/plain": [
       "       N1_stack1_cell1Volume (unit)   N1_stack1_cell1SurfaceArea   \\\n",
       "count                    3818.000000                  3818.000000   \n",
       "mean                        0.424083                     4.567595   \n",
       "std                         0.270616                     2.123704   \n",
       "min                         0.010741                     0.333797   \n",
       "25%                         0.225564                     2.992793   \n",
       "50%                         0.372359                     4.350735   \n",
       "75%                         0.572860                     5.906711   \n",
       "max                         2.842817                    17.403682   \n",
       "\n",
       "       N1_stack1_cell2Volume (unit)  N1_stack1_cell2SurfaceArea  \n",
       "count                   3902.000000                 3902.000000  \n",
       "mean                       0.379947                    4.037284  \n",
       "std                        0.243734                    1.827245  \n",
       "min                        0.010741                    0.333797  \n",
       "25%                        0.204081                    2.729861  \n",
       "50%                        0.325814                    3.790924  \n",
       "75%                        0.501252                    5.145034  \n",
       "max                        2.345145                   15.863077  "
      ]
     },
     "execution_count": 8,
     "metadata": {},
     "output_type": "execute_result"
    }
   ],
   "source": [
    "df.describe()"
   ]
  },
  {
   "cell_type": "markdown",
   "metadata": {},
   "source": [
    "Надо придумать как объединить разные файлы exel. Как быть с тем, что они имеют одинаковое название? + одинаковое название втолбцов + надо как-то разделить по клеткам и по животным"
   ]
  }
 ],
 "metadata": {
  "interpreter": {
   "hash": "919eb0904b72c37e8d6c7e3b2f7b6f162c89cafcc297fba09b2d10c79c52f5eb"
  },
  "kernelspec": {
   "display_name": "Python 3.8.8 64-bit ('base': conda)",
   "language": "python",
   "name": "python3"
  },
  "language_info": {
   "codemirror_mode": {
    "name": "ipython",
    "version": 3
   },
   "file_extension": ".py",
   "mimetype": "text/x-python",
   "name": "python",
   "nbconvert_exporter": "python",
   "pygments_lexer": "ipython3",
   "version": "3.8.8"
  },
  "orig_nbformat": 4
 },
 "nbformat": 4,
 "nbformat_minor": 2
}
