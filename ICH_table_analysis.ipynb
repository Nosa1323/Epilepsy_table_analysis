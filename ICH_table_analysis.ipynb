{
 "cells": [
  {
   "cell_type": "markdown",
   "metadata": {},
   "source": [
    "Сначала нужно определить какие столбцы мы хотим загрузить из нашей таблицы. \n",
    "\n",
    "Так, для моего примера мне нужны столбцы Volume(unit)(2), SurfaceArea (um2)(5) + количество строк.\n",
    "\n",
    "Шаг1. Извлечение данных из xlsx в df, с которыми я смогу работать в python"
   ]
  },
  {
   "cell_type": "markdown",
   "metadata": {},
   "source": [
    "glob - показывает пути к файлам с указанным расширением и сохраняет в переменную filepaths"
   ]
  },
  {
   "cell_type": "code",
   "execution_count": 243,
   "metadata": {},
   "outputs": [],
   "source": [
    "from IPython import get_ipython\n",
    "get_ipython().magic('reset -sf') \n",
    "\n",
    "import pandas as pd\n",
    "import numpy as np\n",
    "import glob"
   ]
  },
  {
   "cell_type": "markdown",
   "metadata": {},
   "source": [
    "Функция csv_to_xlsx считывает все файлы csv в папке, затем создает xlsx для каждого файла"
   ]
  },
  {
   "cell_type": "code",
   "execution_count": 244,
   "metadata": {},
   "outputs": [],
   "source": [
    "def csv_to_xlsx():\n",
    "    csv_search_string = '**/*.csv'\n",
    "    csv_filepaths = glob.glob(csv_search_string, recursive=True)\n",
    "    df = pd.DataFrame()\n",
    "    for csv in csv_filepaths:\n",
    "        out = csv.split('.')[0]+'.xlsx'\n",
    "        df = pd.read_csv(csv, sep=';', decimal = ',', encoding='latin1',engine='python')\n",
    "        df = df.to_excel(out, float_format=\"%.4f\")\n",
    "    return (df)\n",
    "#csv_to_xlsx()"
   ]
  },
  {
   "cell_type": "markdown",
   "metadata": {},
   "source": [
    "Функция file_extraction:\n",
    "1. принимает в качестве параметра строку, по которой нужно искать названия файлов \n",
    "2. создает список путей к найденным файлам\n",
    "3. создает пустой датафрейм\n",
    "4. в цикле считывает файлы, загружает указанные столбцы и присоединяет их к датайрему методом outer.\n",
    "5. возвращает полученный датафрейм\n"
   ]
  },
  {
   "cell_type": "code",
   "execution_count": 245,
   "metadata": {},
   "outputs": [],
   "source": [
    "def file_extraction(search_string): \n",
    "    filepaths = glob.glob(search_string) \n",
    "    df = pd.DataFrame()\n",
    "    col_name_suffix = 1\n",
    "    for find_files in filepaths:\n",
    "        df = df.join (pd.read_excel(find_files, usecols=[2,5]), how='outer',lsuffix=col_name_suffix,)\n",
    "        col_name_suffix +=1 \n",
    "    return(df)"
   ]
  },
  {
   "cell_type": "markdown",
   "metadata": {},
   "source": [
    "Шаг2. Извлекаем в отдельные датафреймы все имеющиеся данные по каждому животному в контроле и при эпилепсии (N1-N6)"
   ]
  },
  {
   "cell_type": "code",
   "execution_count": 246,
   "metadata": {},
   "outputs": [],
   "source": [
    "N1_gs_glt_ctrl = file_extraction('**/N1*_ctrl_*.xlsx')\n",
    "N2_gs_glt_ctrl = file_extraction('**/N2*_ctrl_*.xlsx')\n",
    "N3_gs_glt_ctrl = file_extraction('**/N3*_ctrl_*.xlsx')\n",
    "N4_gs_glt_ctrl = file_extraction('**/N4*_ctrl_*.xlsx')\n",
    "N5_gs_glt_ctrl = file_extraction('**/N5*_ctrl_*.xlsx')\n",
    "#N6_gs_glt_ctrl = file_extraction('**/N6*.xlsx') \n",
    "\n",
    "N1_gs_glt_SE = file_extraction('**/N1*SE*.xlsx')\n",
    "N2_gs_glt_SE = file_extraction('**/N2*SE*.xlsx')\n",
    "N3_gs_glt_SE = file_extraction('**/N3*SE*.xlsx')\n",
    "N4_gs_glt_SE = file_extraction('**/N4*SE*.xlsx')\n",
    "N5_gs_glt_SE = file_extraction('**/N5*SE*.xlsx')\n",
    "N6_gs_glt_SE = file_extraction('**/N6*SE*.xlsx')"
   ]
  },
  {
   "cell_type": "markdown",
   "metadata": {},
   "source": [
    "Можно посмотреть описательные статистики для каждого из датафреймов. "
   ]
  },
  {
   "cell_type": "code",
   "execution_count": 247,
   "metadata": {},
   "outputs": [],
   "source": [
    "#N1_gs_glt_ctrl.describe(include='all')\n",
    "#N2_gs_glt_ctrl.describe(include='all')\n",
    "#N3_gs_glt_ctrl.describe(include='all')\n",
    "#N4_gs_glt_ctrl.describe(include='all')\n",
    "#N5_gs_glt_ctrl.describe(include='all')\n",
    "\n",
    "#N1_gs_glt_SE.describe(include='all')\n",
    "#N2_gs_glt_SE.describe(include='all')\n",
    "#N3_gs_glt_SE.describe(include='all')\n",
    "#N4_gs_glt_SE.describe(include='all')\n",
    "#N5_gs_glt_SE.describe(include='all')\n",
    "#N6_gs_glt_SE.describe(include='all')\n",
    "\n"
   ]
  },
  {
   "cell_type": "markdown",
   "metadata": {},
   "source": [
    "Нужно получить значения количества кластеров для каждого животного - это количество строк в каждом столбце датафрейма, кроме Null"
   ]
  },
  {
   "cell_type": "code",
   "execution_count": 248,
   "metadata": {},
   "outputs": [],
   "source": [
    "N1_num_glt_clusters, N2_num_glt_clusters, N3_num_glt_clusters, N4_num_glt_clusters, N5_num_glt_clusters = pd.DataFrame(), pd.DataFrame(), pd.DataFrame(), pd.DataFrame(), pd.DataFrame()\n",
    "\n",
    "N1_num_glt_clusters ['Контроль'] = N1_gs_glt_ctrl.count().iloc[::2]\n",
    "N2_num_glt_clusters ['Контроль'] = N2_gs_glt_ctrl.count().iloc[::2]\n",
    "N3_num_glt_clusters ['Контроль'] = N3_gs_glt_ctrl.count().iloc[::2]\n",
    "N4_num_glt_clusters ['Контроль'] = N4_gs_glt_ctrl.count().iloc[::2]\n",
    "N5_num_glt_clusters ['Контроль'] = N5_gs_glt_ctrl.count().iloc[::2]\n",
    "\n",
    "N1_SE_num_glt_clusters, N2_SE_num_glt_clusters, N3_SE_num_glt_clusters, N4_SE_num_glt_clusters, N5_SE_num_glt_clusters, N6_SE_num_glt_clusters = pd.DataFrame(), pd.DataFrame(), pd.DataFrame(), pd.DataFrame(), pd.DataFrame(), pd.DataFrame()\n",
    "\n",
    "N1_SE_num_glt_clusters['ЭС'] = N1_gs_glt_SE.count().iloc[::2]\n",
    "N2_SE_num_glt_clusters['ЭС'] = N2_gs_glt_SE.count().iloc[::2]\n",
    "N3_SE_num_glt_clusters['ЭС'] = N3_gs_glt_SE.count().iloc[::2]\n",
    "N4_SE_num_glt_clusters['ЭС'] = N4_gs_glt_SE.count().iloc[::2]\n",
    "N5_SE_num_glt_clusters['ЭС'] = N5_gs_glt_SE.count().iloc[::2]\n",
    "N6_SE_num_glt_clusters['ЭС'] = N6_gs_glt_SE.count().iloc[::2]\n"
   ]
  },
  {
   "cell_type": "markdown",
   "metadata": {},
   "source": [
    "Так как нам необходимо рассчитать относительное количество кластеров в объеме реконструированного пространства, то необходимо добавить данные об общем объеме пространства."
   ]
  },
  {
   "cell_type": "code",
   "execution_count": 249,
   "metadata": {},
   "outputs": [],
   "source": [
    "df_tot_vol = pd.read_excel('data/total_vol.xlsx')\n",
    "#df_tot_vol.dtypes"
   ]
  },
  {
   "cell_type": "markdown",
   "metadata": {},
   "source": [
    "Полученные значения количества кластеров определяем в отдельный датафрейм."
   ]
  },
  {
   "cell_type": "code",
   "execution_count": 250,
   "metadata": {},
   "outputs": [],
   "source": [
    "values_ctrl = [N1_num_glt_clusters,N2_num_glt_clusters, N3_num_glt_clusters,N4_num_glt_clusters, N5_num_glt_clusters] \n",
    "values_SE = [N1_SE_num_glt_clusters,N2_SE_num_glt_clusters, N3_SE_num_glt_clusters, N4_SE_num_glt_clusters, N5_SE_num_glt_clusters,N6_SE_num_glt_clusters] \n",
    "glt_num_ctrl, glt_num_SE  = pd.concat(values_ctrl), pd.concat(values_SE)\n",
    "\n",
    "glt_num_ctrl['TotVol_GLT_ctrl'] = df_tot_vol.iloc[:,0].values\n",
    "glt_num_ctrl ['clusters_per_125_ctrl'] = (glt_num_ctrl['Контроль']*125)/glt_num_ctrl['TotVol_GLT_ctrl']\n",
    "\n",
    "glt_num_SE['TotVol_GLT_SE'] = df_tot_vol.iloc[:len(glt_num_SE),2].values\n",
    "glt_num_SE ['clusters_per_125_SE'] = (glt_num_SE['ЭС']*125)/glt_num_SE['TotVol_GLT_SE']\n",
    "\n",
    "all_glt_num,all_glt_num2  = pd.DataFrame(), pd.DataFrame()\n",
    "all_glt_num ['Контроль'] = glt_num_ctrl.iloc[:,2].values\n",
    "all_glt_num2 ['ЭС'] = glt_num_SE.iloc[:,2].values\n",
    "\n",
    "all_glt_num = all_glt_num.join(all_glt_num2, how='outer')"
   ]
  },
  {
   "cell_type": "markdown",
   "metadata": {},
   "source": [
    "Шаг 3. Построить графики и рассчитать необходимые параметры"
   ]
  },
  {
   "cell_type": "code",
   "execution_count": 322,
   "metadata": {},
   "outputs": [
    {
     "data": {
      "text/plain": [
       "<AxesSubplot:>"
      ]
     },
     "execution_count": 322,
     "metadata": {},
     "output_type": "execute_result"
    },
    {
     "data": {
      "image/png": "[encoded data removed]",
      "text/plain": [
       "<Figure size 720x720 with 1 Axes>"
      ]
     },
     "metadata": {},
     "output_type": "display_data"
    }
   ],
   "source": [
    "import matplotlib.pyplot as plt\n",
    "import seaborn as sns\n",
    "plt.figure(figsize=(10,10)) # меняет размер графика\n",
    "sns.set_style(\"whitegrid\")\n",
    "sns.set_theme(style=\"ticks\")\n",
    "sns.set(font_scale=3)\n",
    "sns.boxplot(data = all_glt_num, palette=\"vlag\")\n",
    "sns.stripplot(data=all_glt_num,\n",
    "              size=7, color=\".3\", linewidth=1, jitter = True) #добавляет \"горошки\"\n"
   ]
  },
  {
   "cell_type": "markdown",
   "metadata": {},
   "source": [
    "Посчитаем медиану, 25 и 75 процентили"
   ]
  },
  {
   "cell_type": "code",
   "execution_count": 252,
   "metadata": {},
   "outputs": [
    {
     "name": "stdout",
     "output_type": "stream",
     "text": [
      "       Контроль         ЭС\n",
      "0.25  48.234976  55.226980\n",
      "0.50  52.248112  57.680097\n",
      "0.75  54.802133  66.016004\n"
     ]
    }
   ],
   "source": [
    "procentile = all_glt_num.quantile([0.25, 0.50 , 0.75])\n",
    "print(procentile)"
   ]
  },
  {
   "cell_type": "markdown",
   "metadata": {},
   "source": [
    "Проверим отличается ли статистически достоверно количество кластеров после ЭС в сравнении с контролем, применив непараметрический критерий Манна-Уитни"
   ]
  },
  {
   "cell_type": "code",
   "execution_count": 253,
   "metadata": {},
   "outputs": [
    {
     "name": "stdout",
     "output_type": "stream",
     "text": [
      "Statistics=120.000, p=0.008\n"
     ]
    }
   ],
   "source": [
    "from scipy.stats import mannwhitneyu\n",
    "stat, p = mannwhitneyu(all_glt_num.iloc[:, 0].dropna(), all_glt_num.iloc[:, 1].dropna())\n",
    "print('Statistics=%.3f, p=%.3f' % (stat, p))"
   ]
  },
  {
   "cell_type": "markdown",
   "metadata": {},
   "source": [
    "Рассчитаем медиану, процентили для объема кластеров GLT-1. \n",
    "Сначала загрузим в один столбец все имеющиеся значения объема кластеров для каждого животного"
   ]
  },
  {
   "cell_type": "code",
   "execution_count": 320,
   "metadata": {},
   "outputs": [
    {
     "name": "stdout",
     "output_type": "stream",
     "text": [
      "(2801,)\n",
      "      Volume (unit)2  Volume (unit)3  Volume (unit)4  Volume (unit)  \\\n",
      "0             0.0788          0.0931          0.0859         0.1719   \n",
      "1             0.1504          0.1182          0.0465         0.2077   \n",
      "2             0.3366          0.1038          0.0609         0.3222   \n",
      "3             0.2685          0.0967          0.0716         0.0573   \n",
      "4             0.4296          0.2685          0.4010         0.1217   \n",
      "...              ...             ...             ...            ...   \n",
      "2796             NaN             NaN             NaN         0.3401   \n",
      "2797             NaN             NaN             NaN         0.2578   \n",
      "2798             NaN             NaN             NaN         0.1396   \n",
      "2799             NaN             NaN             NaN         0.1182   \n",
      "2800             NaN             NaN             NaN         0.4595   \n",
      "\n",
      "      Volume (unit)5  Volume (unit)6  Volume (unit)7  Volume (unit)8  \n",
      "0                NaN             NaN             NaN             NaN  \n",
      "1                NaN             NaN             NaN             NaN  \n",
      "2                NaN             NaN             NaN             NaN  \n",
      "3                NaN             NaN             NaN             NaN  \n",
      "4                NaN             NaN             NaN             NaN  \n",
      "...              ...             ...             ...             ...  \n",
      "2796             NaN             NaN             NaN             NaN  \n",
      "2797             NaN             NaN             NaN             NaN  \n",
      "2798             NaN             NaN             NaN             NaN  \n",
      "2799             NaN             NaN             NaN             NaN  \n",
      "2800             NaN             NaN             NaN             NaN  \n",
      "\n",
      "[6702 rows x 8 columns]\n"
     ]
    }
   ],
   "source": [
    "vol_glt_clust_ctrl, vol_glt_clust_SE = pd.DataFrame(), pd.DataFrame()\n",
    "N1_vol_ctrl, N2_vol_ctrl, N3_vol_ctrl, N4_vol_ctrl, N5_vol_ctrl = pd.DataFrame(), pd.DataFrame(), pd.DataFrame(), pd.DataFrame(), pd.DataFrame()\n",
    "\n",
    "\n",
    "#N2_vol_ctrl ['Контроль'] = N2_gs_glt_ctrl.iloc[::2]\n",
    "#N3_vol_ctrl  ['Контроль'] = N3_gs_glt_ctrl.iloc[::2]\n",
    "#N4_vol_ctrl  ['Контроль'] = N4_gs_glt_ctrl.iloc[::2]\n",
    "#N5_vol_ctrl  ['Контроль'] = N5_gs_glt_ctrl.iloc[::2]\n",
    "#print(N1_gs_glt_ctrl.iloc[:,::2])\n",
    "print(N2_gs_glt_ctrl.iloc[::,2].shape)\n",
    "df = pd.concat([N1_gs_glt_ctrl.iloc[:,::2],  N2_gs_glt_ctrl.iloc[:,::2]], axis = 0)\n",
    "print(df)\n",
    "\n",
    "\n",
    "#vol_ctrl =  df_tot_vol.iloc[:len(glt_num_SE),2].values\n",
    "#ol_glt_clust_ctrl = pd.concat([N1_gs_glt_ctrl.iloc[::,2], N2_gs_glt_ctrl.iloc[::,2]], ignore_index = True, axis = 0, join = 'outer') #,N3_gs_glt_ctrl.iloc[::2], N4_gs_glt_ctrl.iloc[::2], N5_gs_glt_ctrl.iloc[::2]])\n",
    "\n",
    "#N1_vf_ctrl  ['Контроль'] = N1_gs_glt_ctrl.sum().iloc[::2] # voluma fraction"
   ]
  }
 ],
 "metadata": {
  "interpreter": {
   "hash": "919eb0904b72c37e8d6c7e3b2f7b6f162c89cafcc297fba09b2d10c79c52f5eb"
  },
  "kernelspec": {
   "display_name": "Python 3.8.8 64-bit ('base': conda)",
   "language": "python",
   "name": "python3"
  },
  "language_info": {
   "codemirror_mode": {
    "name": "ipython",
    "version": 3
   },
   "file_extension": ".py",
   "mimetype": "text/x-python",
   "name": "python",
   "nbconvert_exporter": "python",
   "pygments_lexer": "ipython3",
   "version": "3.8.8"
  },
  "orig_nbformat": 4
 },
 "nbformat": 4,
 "nbformat_minor": 2
}
