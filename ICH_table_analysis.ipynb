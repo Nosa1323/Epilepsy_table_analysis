{
 "cells": [
  {
   "cell_type": "markdown",
   "metadata": {},
   "source": [
    "Сначала нужно определить какие столбцы мы хотим загрузить из нашей таблицы. \n",
    "\n",
    "Так, для моего примера мне нужны столбцы Volume(unit)(2), SurfaceArea (um2)(5) + количество строк.\n",
    "\n",
    "Шаг1. Извлечение данных из xlsx в df, с которыми я смогу работать в python"
   ]
  },
  {
   "cell_type": "markdown",
   "metadata": {},
   "source": [
    "glob - показывает пути к файлам с указанным расширением и сохраняет в переменную filepaths"
   ]
  },
  {
   "cell_type": "code",
   "execution_count": 26,
   "metadata": {},
   "outputs": [],
   "source": [
    "from IPython import get_ipython\n",
    "get_ipython().magic('reset -sf') \n",
    "\n",
    "import pandas as pd\n",
    "import numpy as np\n",
    "import glob"
   ]
  },
  {
   "cell_type": "markdown",
   "metadata": {},
   "source": [
    "Функция csv_to_xlsx трансформирует все файлы csv в папке, затем создает xlsx для каждого файла"
   ]
  },
  {
   "cell_type": "code",
   "execution_count": 27,
   "metadata": {},
   "outputs": [],
   "source": [
    "def csv_to_xlsx():\n",
    "    csv_search_string = '**/*.csv'\n",
    "    csv_filepaths = glob.glob(csv_search_string, recursive=True)\n",
    "    df = pd.DataFrame()\n",
    "    for csv in csv_filepaths:\n",
    "        out = csv.split('.')[0]+'.xlsx'\n",
    "        df = pd.read_csv(csv, sep=';', encoding='latin1',engine='python')\n",
    "        df = df.to_excel(out, float_format=\"%.4f\")\n",
    "    return (df)\n",
    "csv_to_xlsx()"
   ]
  },
  {
   "cell_type": "markdown",
   "metadata": {},
   "source": [
    "создаем пустой датафрейм, куда будут загружаться считанные столбики таблиц\n",
    "\n",
    "в цикле объединяем датафреймы из считанных файлов \n",
    "\n",
    "Нужно изменить названия столбцов,чтобы было очевидно их происхождение из другого файла. \n",
    "\n",
    "Для этого была написана функция columns_rename, где в цикле добавляется порядковый номер файла, из которого происходило извлечение\n",
    "\n",
    "\n",
    "Далее заменяем измененным названиями столбцов действующие названия в датафрейме."
   ]
  },
  {
   "cell_type": "code",
   "execution_count": 28,
   "metadata": {},
   "outputs": [],
   "source": [
    "def file_extraction(search_string, N, stack_num): \n",
    "    filepaths = glob.glob(search_string, recursive=True) #можно изменять номера в N1*stack1,чтобы извлечь другие файлы\n",
    "    df = pd.DataFrame()\n",
    "    for find_files in filepaths:\n",
    "        df = df.join (pd.read_excel(find_files, usecols=[2,5]), how='outer',lsuffix=' ')\n",
    "    \n",
    "    columns_names = [j for j in df.columns.tolist()]\n",
    "\n",
    "    def columns_rename(columns_names):\n",
    "        j=1\n",
    "        for i in range (0, len(columns_names), 2):\n",
    "            columns_names[i] = 'N' + str(N) + '_stack' + str(stack_num) + '_cell' +  str(j)+ '_' + columns_names[i] #можно изменять номера в N1*stack1,чтобы отметить \n",
    "            columns_names[i+1] = 'N' + str(N) + '_stack' + str(stack_num) + '_cell' +  str(j)+ '_'  + columns_names[i+1] # принадлежность к другой партии данных\n",
    "            j+=1\n",
    "        return(columns_names)\n",
    "    df.set_axis(columns_rename(columns_names), axis=1, inplace=True)\n",
    "    return(df)"
   ]
  },
  {
   "cell_type": "markdown",
   "metadata": {},
   "source": [
    "Извлекаем в отдельные датафреймы все файлы по стекам"
   ]
  },
  {
   "cell_type": "code",
   "execution_count": 29,
   "metadata": {},
   "outputs": [],
   "source": [
    "N1_stack1 = file_extraction('**/N1*stack1*.xlsx', 1, 1)\n",
    "N1_stack2 = file_extraction('**/N1*stack2*.xlsx', 1, 2)\n",
    "\n",
    "N2_stack1 = file_extraction('**/N2*stack1*.xlsx', 2, 1)\n",
    "N2_stack2 = file_extraction('**/N2*stack2*.xlsx', 2, 2)\n",
    "N2_stack3 = file_extraction('**/N2*stack3*.xlsx', 2, 3)\n",
    "N2_stack4 = file_extraction('**/N2*stack4*.xlsx', 2, 4)\n"
   ]
  },
  {
   "cell_type": "markdown",
   "metadata": {},
   "source": [
    "Посмотрим на значения основных критериев описательной статистики"
   ]
  },
  {
   "cell_type": "code",
   "execution_count": 30,
   "metadata": {},
   "outputs": [
    {
     "data": {
      "text/html": [
       "<div>\n",
       "<style scoped>\n",
       "    .dataframe tbody tr th:only-of-type {\n",
       "        vertical-align: middle;\n",
       "    }\n",
       "\n",
       "    .dataframe tbody tr th {\n",
       "        vertical-align: top;\n",
       "    }\n",
       "\n",
       "    .dataframe thead th {\n",
       "        text-align: right;\n",
       "    }\n",
       "</style>\n",
       "<table border=\"1\" class=\"dataframe\">\n",
       "  <thead>\n",
       "    <tr style=\"text-align: right;\">\n",
       "      <th></th>\n",
       "      <th>N1_stack1_cell1_Volume (unit)</th>\n",
       "      <th>N1_stack1_cell1_SurfaceArea</th>\n",
       "      <th>N1_stack1_cell2_Volume (unit)</th>\n",
       "      <th>N1_stack1_cell2_SurfaceArea</th>\n",
       "    </tr>\n",
       "  </thead>\n",
       "  <tbody>\n",
       "    <tr>\n",
       "      <th>count</th>\n",
       "      <td>3818.000000</td>\n",
       "      <td>3818.000000</td>\n",
       "      <td>3.901000e+03</td>\n",
       "      <td>3.901000e+03</td>\n",
       "    </tr>\n",
       "    <tr>\n",
       "      <th>mean</th>\n",
       "      <td>0.424083</td>\n",
       "      <td>4.567595</td>\n",
       "      <td>3.209620e+02</td>\n",
       "      <td>1.055825e+04</td>\n",
       "    </tr>\n",
       "    <tr>\n",
       "      <th>std</th>\n",
       "      <td>0.270616</td>\n",
       "      <td>2.123705</td>\n",
       "      <td>2.002293e+04</td>\n",
       "      <td>1.385439e+05</td>\n",
       "    </tr>\n",
       "    <tr>\n",
       "      <th>min</th>\n",
       "      <td>0.010700</td>\n",
       "      <td>0.333800</td>\n",
       "      <td>1.070000e-02</td>\n",
       "      <td>3.338000e-01</td>\n",
       "    </tr>\n",
       "    <tr>\n",
       "      <th>25%</th>\n",
       "      <td>0.225600</td>\n",
       "      <td>2.992800</td>\n",
       "      <td>2.041000e-01</td>\n",
       "      <td>2.736300e+00</td>\n",
       "    </tr>\n",
       "    <tr>\n",
       "      <th>50%</th>\n",
       "      <td>0.372400</td>\n",
       "      <td>4.350700</td>\n",
       "      <td>3.258000e-01</td>\n",
       "      <td>3.809700e+00</td>\n",
       "    </tr>\n",
       "    <tr>\n",
       "      <th>75%</th>\n",
       "      <td>0.572900</td>\n",
       "      <td>5.906700</td>\n",
       "      <td>5.013000e-01</td>\n",
       "      <td>5.185800e+00</td>\n",
       "    </tr>\n",
       "    <tr>\n",
       "      <th>max</th>\n",
       "      <td>2.842800</td>\n",
       "      <td>17.403700</td>\n",
       "      <td>1.250592e+06</td>\n",
       "      <td>2.902219e+06</td>\n",
       "    </tr>\n",
       "  </tbody>\n",
       "</table>\n",
       "</div>"
      ],
      "text/plain": [
       "       N1_stack1_cell1_Volume (unit)   N1_stack1_cell1_SurfaceArea   \\\n",
       "count                     3818.000000                   3818.000000   \n",
       "mean                         0.424083                      4.567595   \n",
       "std                          0.270616                      2.123705   \n",
       "min                          0.010700                      0.333800   \n",
       "25%                          0.225600                      2.992800   \n",
       "50%                          0.372400                      4.350700   \n",
       "75%                          0.572900                      5.906700   \n",
       "max                          2.842800                     17.403700   \n",
       "\n",
       "       N1_stack1_cell2_Volume (unit)  N1_stack1_cell2_SurfaceArea  \n",
       "count                   3.901000e+03                 3.901000e+03  \n",
       "mean                    3.209620e+02                 1.055825e+04  \n",
       "std                     2.002293e+04                 1.385439e+05  \n",
       "min                     1.070000e-02                 3.338000e-01  \n",
       "25%                     2.041000e-01                 2.736300e+00  \n",
       "50%                     3.258000e-01                 3.809700e+00  \n",
       "75%                     5.013000e-01                 5.185800e+00  \n",
       "max                     1.250592e+06                 2.902219e+06  "
      ]
     },
     "execution_count": 30,
     "metadata": {},
     "output_type": "execute_result"
    }
   ],
   "source": [
    "N1_stack1.describe()"
   ]
  }
 ],
 "metadata": {
  "interpreter": {
   "hash": "919eb0904b72c37e8d6c7e3b2f7b6f162c89cafcc297fba09b2d10c79c52f5eb"
  },
  "kernelspec": {
   "display_name": "Python 3.8.8 64-bit ('base': conda)",
   "language": "python",
   "name": "python3"
  },
  "language_info": {
   "codemirror_mode": {
    "name": "ipython",
    "version": 3
   },
   "file_extension": ".py",
   "mimetype": "text/x-python",
   "name": "python",
   "nbconvert_exporter": "python",
   "pygments_lexer": "ipython3",
   "version": "3.8.8"
  },
  "orig_nbformat": 4
 },
 "nbformat": 4,
 "nbformat_minor": 2
}
