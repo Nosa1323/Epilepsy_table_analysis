{
 "cells": [
  {
   "cell_type": "markdown",
   "metadata": {},
   "source": [
    "Сначала нужно определить какие столбцы мы хотим загрузить из нашей таблицы. \n",
    "\n",
    "Так, для моего примера мне нужны столбцы Volume(unit)(2), SurfaceArea (um2)(5) + количество строк.\n",
    "\n",
    "Шаг1. Извлечение данных из xlsx в df, с которыми я смогу работать в python"
   ]
  },
  {
   "cell_type": "markdown",
   "metadata": {},
   "source": [
    "glob - показывает пути к файлам с указанным расширением и сохраняет в переменную filepaths"
   ]
  },
  {
   "cell_type": "code",
   "execution_count": 1,
   "metadata": {},
   "outputs": [],
   "source": [
    "from IPython import get_ipython\n",
    "get_ipython().magic('reset -sf') \n",
    "\n",
    "import pandas as pd\n",
    "import numpy as np\n",
    "import glob"
   ]
  },
  {
   "cell_type": "markdown",
   "metadata": {},
   "source": [
    "Функция csv_to_xlsx считывает все файлы csv в папке, затем создает xlsx для каждого файла"
   ]
  },
  {
   "cell_type": "code",
   "execution_count": 82,
   "metadata": {},
   "outputs": [],
   "source": [
    "def csv_to_xlsx():\n",
    "    csv_search_string = '**/*.csv'\n",
    "    csv_filepaths = glob.glob(csv_search_string, recursive=True)\n",
    "    df = pd.DataFrame()\n",
    "    for csv in csv_filepaths:\n",
    "        out = csv.split('.')[0]+'.xlsx'\n",
    "        df = pd.read_csv(csv, sep=';', decimal = ',', encoding='latin1',engine='python')\n",
    "        df = df.to_excel(out, float_format=\"%.4f\")\n",
    "    return (df)\n",
    "#csv_to_xlsx()"
   ]
  },
  {
   "cell_type": "markdown",
   "metadata": {},
   "source": [
    "Функция file_extraction:\n",
    "1. принимает в качестве параметра строку, по которой нужно искать названия файлов \n",
    "2. создает список путей к найденным файлам\n",
    "3. создает пустой датафрейм\n",
    "4. в цикле считывает файлы, загружает указанные столбцы и присоединяет их к датайрему методом outer.\n",
    "5. возвращает полученный датафрейм\n"
   ]
  },
  {
   "cell_type": "code",
   "execution_count": 2,
   "metadata": {},
   "outputs": [],
   "source": [
    "def file_extraction(search_string): \n",
    "    filepaths = glob.glob(search_string) \n",
    "    df = pd.DataFrame()\n",
    "    col_name_suffix = 1\n",
    "    for find_files in filepaths:\n",
    "        df = df.join (pd.read_excel(find_files, usecols=[2,5]), how='outer',lsuffix=col_name_suffix,)\n",
    "        col_name_suffix +=1 \n",
    "    return(df)"
   ]
  },
  {
   "cell_type": "markdown",
   "metadata": {},
   "source": [
    "Шаг2. Извлекаем в отдельные датафреймы все имеющиеся данные по каждому животному в контроле и при эпилепсии (N1-N6)"
   ]
  },
  {
   "cell_type": "code",
   "execution_count": 3,
   "metadata": {},
   "outputs": [],
   "source": [
    "N1_gs_glt_ctrl = file_extraction('**/N1*.xlsx')\n",
    "N2_gs_glt_ctrl = file_extraction('**/N2*.xlsx')\n",
    "N3_gs_glt_ctrl = file_extraction('**/N3*.xlsx')\n",
    "N4_gs_glt_ctrl = file_extraction('**/N4*.xlsx')\n",
    "N5_gs_glt_ctrl = file_extraction('**/N5*.xlsx')\n",
    "#N6_gs_glt_ctrl = file_extraction('**/N6*.xlsx') \n",
    "\n",
    "N1_gs_glt_SE = file_extraction('**/N1*SE*.xlsx')\n",
    "N2_gs_glt_SE = file_extraction('**/N2*SE*.xlsx')\n",
    "N3_gs_glt_SE = file_extraction('**/N3*SE*.xlsx')\n",
    "N4_gs_glt_SE = file_extraction('**/N4*SE*.xlsx')\n",
    "N5_gs_glt_SE = file_extraction('**/N5*SE*.xlsx')\n",
    "N6_gs_glt_SE = file_extraction('**/N6*SE*.xlsx')"
   ]
  },
  {
   "cell_type": "markdown",
   "metadata": {},
   "source": [
    "Можно посмотреть описательные статистики для каждого из датафреймов. "
   ]
  },
  {
   "cell_type": "code",
   "execution_count": 85,
   "metadata": {},
   "outputs": [
    {
     "data": {
      "text/html": [
       "<div>\n",
       "<style scoped>\n",
       "    .dataframe tbody tr th:only-of-type {\n",
       "        vertical-align: middle;\n",
       "    }\n",
       "\n",
       "    .dataframe tbody tr th {\n",
       "        vertical-align: top;\n",
       "    }\n",
       "\n",
       "    .dataframe thead th {\n",
       "        text-align: right;\n",
       "    }\n",
       "</style>\n",
       "<table border=\"1\" class=\"dataframe\">\n",
       "  <thead>\n",
       "    <tr style=\"text-align: right;\">\n",
       "      <th></th>\n",
       "      <th>Volume (unit)2</th>\n",
       "      <th>SurfaceArea2</th>\n",
       "      <th>Volume (unit)</th>\n",
       "      <th>SurfaceArea</th>\n",
       "    </tr>\n",
       "  </thead>\n",
       "  <tbody>\n",
       "    <tr>\n",
       "      <th>count</th>\n",
       "      <td>3442.000000</td>\n",
       "      <td>3442.000000</td>\n",
       "      <td>2834.000000</td>\n",
       "      <td>2834.000000</td>\n",
       "    </tr>\n",
       "    <tr>\n",
       "      <th>mean</th>\n",
       "      <td>0.416082</td>\n",
       "      <td>4.296719</td>\n",
       "      <td>0.432251</td>\n",
       "      <td>4.444777</td>\n",
       "    </tr>\n",
       "    <tr>\n",
       "      <th>std</th>\n",
       "      <td>0.278170</td>\n",
       "      <td>2.089218</td>\n",
       "      <td>0.294942</td>\n",
       "      <td>2.181343</td>\n",
       "    </tr>\n",
       "    <tr>\n",
       "      <th>min</th>\n",
       "      <td>0.010000</td>\n",
       "      <td>0.314000</td>\n",
       "      <td>0.010000</td>\n",
       "      <td>0.314000</td>\n",
       "    </tr>\n",
       "    <tr>\n",
       "      <th>25%</th>\n",
       "      <td>0.200000</td>\n",
       "      <td>2.718000</td>\n",
       "      <td>0.213000</td>\n",
       "      <td>2.799750</td>\n",
       "    </tr>\n",
       "    <tr>\n",
       "      <th>50%</th>\n",
       "      <td>0.365000</td>\n",
       "      <td>4.122000</td>\n",
       "      <td>0.378000</td>\n",
       "      <td>4.199000</td>\n",
       "    </tr>\n",
       "    <tr>\n",
       "      <th>75%</th>\n",
       "      <td>0.578000</td>\n",
       "      <td>5.686500</td>\n",
       "      <td>0.591000</td>\n",
       "      <td>5.862000</td>\n",
       "    </tr>\n",
       "    <tr>\n",
       "      <th>max</th>\n",
       "      <td>1.751000</td>\n",
       "      <td>13.699000</td>\n",
       "      <td>2.352000</td>\n",
       "      <td>16.191000</td>\n",
       "    </tr>\n",
       "  </tbody>\n",
       "</table>\n",
       "</div>"
      ],
      "text/plain": [
       "       Volume (unit)2  SurfaceArea2  Volume (unit)  SurfaceArea\n",
       "count     3442.000000   3442.000000    2834.000000  2834.000000\n",
       "mean         0.416082      4.296719       0.432251     4.444777\n",
       "std          0.278170      2.089218       0.294942     2.181343\n",
       "min          0.010000      0.314000       0.010000     0.314000\n",
       "25%          0.200000      2.718000       0.213000     2.799750\n",
       "50%          0.365000      4.122000       0.378000     4.199000\n",
       "75%          0.578000      5.686500       0.591000     5.862000\n",
       "max          1.751000     13.699000       2.352000    16.191000"
      ]
     },
     "execution_count": 85,
     "metadata": {},
     "output_type": "execute_result"
    }
   ],
   "source": [
    "#N1_gs_glt_ctrl.describe(include='all')\n",
    "#N2_gs_glt_ctrl.describe(include='all')\n",
    "#N3_gs_glt_ctrl.describe(include='all')\n",
    "#N4_gs_glt_ctrl.describe(include='all')\n",
    "#N5_gs_glt_ctrl.describe(include='all')\n",
    "\n",
    "#N1_gs_glt_SE.describe(include='all')\n",
    "#N2_gs_glt_SE.describe(include='all')\n",
    "#N3_gs_glt_SE.describe(include='all')\n",
    "#N4_gs_glt_SE.describe(include='all')\n",
    "#N5_gs_glt_SE.describe(include='all')\n",
    "#N6_gs_glt_SE.describe(include='all')"
   ]
  },
  {
   "cell_type": "markdown",
   "metadata": {},
   "source": [
    "Нужно получить значения количества кластеров для каждого животного - это количество строк в каждом столбце датафрейма, кроме Null"
   ]
  },
  {
   "cell_type": "code",
   "execution_count": 4,
   "metadata": {},
   "outputs": [],
   "source": [
    "N1_num_glt_clusters = pd.DataFrame(N1_gs_glt_ctrl.count().iloc[::2])\n",
    "N2_num_glt_clusters = pd.DataFrame(N2_gs_glt_ctrl.count().iloc[::2])\n",
    "N3_num_glt_clusters = pd.DataFrame(N3_gs_glt_ctrl.count().iloc[::2])\n",
    "N4_num_glt_clusters = pd.DataFrame(N4_gs_glt_ctrl.count().iloc[::2])\n",
    "N5_num_glt_clusters = pd.DataFrame(N5_gs_glt_ctrl.count().iloc[::2])\n",
    "\n",
    "N1_SE_num_glt_clusters = pd.DataFrame(N1_gs_glt_SE.count().iloc[::2])\n",
    "N2_SE_num_glt_clusters = pd.DataFrame(N2_gs_glt_SE.count().iloc[::2])\n",
    "N3_SE_num_glt_clusters = pd.DataFrame(N3_gs_glt_SE.count().iloc[::2])\n",
    "N4_SE_num_glt_clusters = pd.DataFrame(N4_gs_glt_SE.count().iloc[::2])\n",
    "N5_SE_num_glt_clusters = pd.DataFrame(N5_gs_glt_SE.count().iloc[::2])\n",
    "N6_SE_num_glt_clusters = pd.DataFrame(N6_gs_glt_SE.count().iloc[::2])"
   ]
  },
  {
   "cell_type": "markdown",
   "metadata": {},
   "source": [
    "Полученные значения количества кластеров определяем в отдельный датафрейм."
   ]
  },
  {
   "cell_type": "code",
   "execution_count": 21,
   "metadata": {},
   "outputs": [],
   "source": [
    "values_ctrl = [N1_num_glt_clusters,N2_num_glt_clusters, N3_num_glt_clusters,N4_num_glt_clusters, N5_num_glt_clusters] \n",
    "glt_num_ctrl = pd.concat(values_ctrl)\n",
    "values_SE = [N1_SE_num_glt_clusters,N2_SE_num_glt_clusters, N3_SE_num_glt_clusters, N4_SE_num_glt_clusters, N5_SE_num_glt_clusters,N6_SE_num_glt_clusters] \n",
    "glt_num_SE = pd.concat(values_SE)\n",
    "\n",
    "glt_num_SE.rename({0: 'ЭС'}, axis=1)\n",
    "glt_num_ctrl.rename({0: 'Контроль'}, axis=1)\n",
    "\n",
    "all_glt_num = glt_num_ctrl.join( glt_num_SE,  lsuffix='_ctrl', rsuffix='_se', how = 'outer')\n"
   ]
  },
  {
   "cell_type": "code",
   "execution_count": 139,
   "metadata": {},
   "outputs": [
    {
     "data": {
      "text/plain": [
       "<AxesSubplot:>"
      ]
     },
     "execution_count": 139,
     "metadata": {},
     "output_type": "execute_result"
    },
    {
     "data": {
      "image/png": "[encoded data removed]",
      "text/plain": [
       "<Figure size 720x720 with 1 Axes>"
      ]
     },
     "metadata": {},
     "output_type": "display_data"
    }
   ],
   "source": [
    "import matplotlib.pyplot as plt\n",
    "import seaborn as sns\n",
    "plt.figure(figsize=(10,10)) # меняет размер графика\n",
    "sns.set_style(\"whitegrid\")\n",
    "sns.set_theme(style=\"ticks\")\n",
    "sns.set(font_scale=3)\n",
    "sns.boxplot(data = [all_glt_num_ctrl, all_glt_num_SE], palette=\"vlag\")\n",
    "sns.stripplot(data=[all_glt_num_ctrl, all_glt_num_SE],\n",
    "              size=5, color=\".3\", linewidth=1, jitter = True) #добавляет \"горошки\"\n",
    "\n",
    "\n",
    "#columns = ['Контроль', 'ЭС'],"
   ]
  },
  {
   "cell_type": "code",
   "execution_count": null,
   "metadata": {},
   "outputs": [],
   "source": [
    "import matplotlib.pyplot as plt\n",
    "import seaborn as sns\n",
    "sns.set_style('whitegrid')\n",
    "sns.distplot(all_cell_vol(N1_stack1_cell1_Volume (unit) ) )\n",
    "#all_cell_vol = pd.concat([N11_cell_volume, N12_cell_volume], ignore_index=True, sort=False)\n",
    "#all_cell_vol = N11_cell_volume + N12_cell_volume\n",
    "#all_cell_vol.fillna(0)\n",
    "#plt.hist(all_cell_vol, bins = 4)\n",
    "#all_cell_vol[all_cell_vol > 0.01].hist(bins=10)\n",
    "all_cell_vol.columns\n"
   ]
  }
 ],
 "metadata": {
  "interpreter": {
   "hash": "919eb0904b72c37e8d6c7e3b2f7b6f162c89cafcc297fba09b2d10c79c52f5eb"
  },
  "kernelspec": {
   "display_name": "Python 3.8.8 64-bit ('base': conda)",
   "language": "python",
   "name": "python3"
  },
  "language_info": {
   "codemirror_mode": {
    "name": "ipython",
    "version": 3
   },
   "file_extension": ".py",
   "mimetype": "text/x-python",
   "name": "python",
   "nbconvert_exporter": "python",
   "pygments_lexer": "ipython3",
   "version": "3.8.8"
  },
  "orig_nbformat": 4
 },
 "nbformat": 4,
 "nbformat_minor": 2
}
