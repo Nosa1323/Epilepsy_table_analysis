{
 "cells": [
  {
   "cell_type": "markdown",
   "metadata": {},
   "source": [
    "Сначала нужно определить какие столбцы мы хотим загрузить из нашей таблицы. \n",
    "\n",
    "Так, для моего примера мне нужны столбцы Volume(unit)(2), SurfaceArea (um2)(5) + количество строк.\n",
    "\n",
    "Шаг1. Извлечение данных из xlsx в df, с которыми я смогу работать в python"
   ]
  },
  {
   "cell_type": "markdown",
   "metadata": {},
   "source": [
    "glob - показывает пути к файлам с указанным расширением и сохраняет в переменную filepaths\n",
    "\n",
    "создаем пустой датафрейм, куда будут загружаться считанные столбики таблиц\n",
    "\n",
    "добавила sheet_lst_wanted, чтобы сразу загружать несколько книг из из файла? \n",
    "\n",
    "+Есть проблема: не извлеклись все страницы -> собьется нумерация. Подумать...\n",
    "\n",
    "в цикле объединяем датафреймы из считанных файлов "
   ]
  },
  {
   "cell_type": "code",
   "execution_count": null,
   "metadata": {},
   "outputs": [],
   "source": [
    "import pandas as pd\n",
    "df = pd.DataFrame()\n",
    "sheet_lst_wanted = ['cell1', 'cell2']\n",
    "df = df.join(pd.read_excel(find_files, usecols=[1,4], sheet_name= sheet_lst_wanted), how='outer',lsuffix='1 ')\n",
    "df"
   ]
  },
  {
   "cell_type": "code",
   "execution_count": null,
   "metadata": {},
   "outputs": [],
   "source": [
    "import pandas as pd\n",
    "import glob\n",
    "\n",
    "filepaths = glob.glob('**/N1*.xlsx', recursive=True)\n",
    "i=0\n",
    "df = pd.DataFrame()\n",
    "sheet_lst_wanted = ['cell1', 'cell2']\n",
    "for find_files in filepaths:\n",
    "    df = df.join (df.join(pd.read_excel(find_files, usecols=[1,4], sheet_name= sheet_lst_wanted), how='outer',lsuffix=' ') , how='outer',lsuffix=' ')\n",
    "    i+=1\n"
   ]
  },
  {
   "cell_type": "markdown",
   "metadata": {},
   "source": [
    "ипортируем данные таблички (указываем нужные столбцы)\n"
   ]
  },
  {
   "cell_type": "markdown",
   "metadata": {},
   "source": [
    "Нужно изменить названия столбцов,чтобы было очевидно их происхождение из другого файла. \n",
    "\n",
    "Для этого была написана функция columns_rename, где в цикле добавляется порядковый номер файла, из которого происходило извлечение\n",
    "\n",
    "\n",
    "Заменим измененным названиями столбцов действующие названия в датафрейме."
   ]
  },
  {
   "cell_type": "code",
   "execution_count": null,
   "metadata": {},
   "outputs": [],
   "source": [
    "columns_names = [j for j in df.columns.tolist()]\n",
    "\n",
    "def columns_rename(columns_names):\n",
    "    j=1\n",
    "    for i in range (0, len(columns_names), 2):\n",
    "        columns_names[i] =  str(j) + columns_names[i]\n",
    "        columns_names[i+1] = str(j) + columns_names[i+1]\n",
    "        j+=1\n",
    "    return(columns_names)\n",
    "df.set_axis(columns_rename(columns_names), axis=1, inplace=True)"
   ]
  },
  {
   "cell_type": "markdown",
   "metadata": {},
   "source": [
    "Посмотрим на значения основных критериев описательной статистики"
   ]
  },
  {
   "cell_type": "code",
   "execution_count": null,
   "metadata": {},
   "outputs": [],
   "source": [
    "df.describe()"
   ]
  },
  {
   "cell_type": "markdown",
   "metadata": {},
   "source": [
    "Надо придумать как объединить разные файлы exel. Как быть с тем, что они имеют одинаковое название? + одинаковое название втолбцов + надо как-то разделить по клеткам и по животным"
   ]
  }
 ],
 "metadata": {
  "interpreter": {
   "hash": "919eb0904b72c37e8d6c7e3b2f7b6f162c89cafcc297fba09b2d10c79c52f5eb"
  },
  "kernelspec": {
   "display_name": "Python 3.8.8 64-bit ('base': conda)",
   "language": "python",
   "name": "python3"
  },
  "language_info": {
   "codemirror_mode": {
    "name": "ipython",
    "version": 3
   },
   "file_extension": ".py",
   "mimetype": "text/x-python",
   "name": "python",
   "nbconvert_exporter": "python",
   "pygments_lexer": "ipython3",
   "version": "3.8.8"
  },
  "orig_nbformat": 4
 },
 "nbformat": 4,
 "nbformat_minor": 2
}
