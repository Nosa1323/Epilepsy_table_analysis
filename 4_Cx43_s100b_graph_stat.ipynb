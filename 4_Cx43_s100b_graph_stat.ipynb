{
 "cells": [
  {
   "cell_type": "markdown",
   "metadata": {},
   "source": [
    "base_python env"
   ]
  },
  {
   "cell_type": "code",
   "execution_count": 110,
   "metadata": {},
   "outputs": [],
   "source": [
    "from IPython import get_ipython\n",
    "get_ipython().run_line_magic('reset', '-sf') \n",
    "\n",
    "import pandas as pd\n",
    "import numpy as np\n",
    "import glob\n",
    "import re\n",
    "\n",
    "import matplotlib.pyplot as plt\n",
    "import matplotlib.ticker as ticker\n",
    "import seaborn as sns\n",
    "from scipy.stats import mannwhitneyu, ks_2samp, ks_1samp, norm\n",
    "from statannot import add_stat_annotation\n",
    "import os\n",
    "from modules.data_loader import file_extraction, csv_to_xlsx, file_folder_creator\n",
    "from modules.graphics_handler import histplot_fine_view, boxplot_fine_view\n"
   ]
  },
  {
   "cell_type": "markdown",
   "metadata": {},
   "source": [
    "First of all, we need to choose export column in the input tables.\n",
    "Here, we need Volume(unit) and SurfaceArea (um2). \n",
    "\n",
    "## Step 1. Grab .csv files, convert it to .xlsx and upload into dataframe (df)."
   ]
  },
  {
   "cell_type": "code",
   "execution_count": 111,
   "metadata": {},
   "outputs": [],
   "source": [
    "search_path = 'data2/*cell*'\n",
    "tot_vol_path = 'data2/total_vol_cx43_s100b.xlsx'\n",
    "save_folder = 'Cx43_s100b/'"
   ]
  },
  {
   "cell_type": "code",
   "execution_count": 112,
   "metadata": {},
   "outputs": [],
   "source": [
    "csv_to_xlsx(search_path)"
   ]
  },
  {
   "cell_type": "code",
   "execution_count": 113,
   "metadata": {},
   "outputs": [],
   "source": [
    "data = file_extraction(search_path)"
   ]
  },
  {
   "cell_type": "code",
   "execution_count": 114,
   "metadata": {},
   "outputs": [
    {
     "data": {
      "text/html": [
       "<div>\n",
       "<style scoped>\n",
       "    .dataframe tbody tr th:only-of-type {\n",
       "        vertical-align: middle;\n",
       "    }\n",
       "\n",
       "    .dataframe tbody tr th {\n",
       "        vertical-align: top;\n",
       "    }\n",
       "\n",
       "    .dataframe thead th {\n",
       "        text-align: right;\n",
       "    }\n",
       "</style>\n",
       "<table border=\"1\" class=\"dataframe\">\n",
       "  <thead>\n",
       "    <tr style=\"text-align: right;\">\n",
       "      <th></th>\n",
       "      <th>volume</th>\n",
       "      <th>surface_area</th>\n",
       "      <th>animal_num</th>\n",
       "      <th>exp_group</th>\n",
       "      <th>slice_num</th>\n",
       "      <th>cell_num</th>\n",
       "      <th>protein</th>\n",
       "    </tr>\n",
       "    <tr>\n",
       "      <th>id</th>\n",
       "      <th></th>\n",
       "      <th></th>\n",
       "      <th></th>\n",
       "      <th></th>\n",
       "      <th></th>\n",
       "      <th></th>\n",
       "      <th></th>\n",
       "    </tr>\n",
       "  </thead>\n",
       "  <tbody>\n",
       "    <tr>\n",
       "      <th>1</th>\n",
       "      <td>0.068</td>\n",
       "      <td>1.193</td>\n",
       "      <td>1</td>\n",
       "      <td>ctrl</td>\n",
       "      <td>1</td>\n",
       "      <td>1</td>\n",
       "      <td>Cx43</td>\n",
       "    </tr>\n",
       "    <tr>\n",
       "      <th>2</th>\n",
       "      <td>0.058</td>\n",
       "      <td>1.066</td>\n",
       "      <td>1</td>\n",
       "      <td>ctrl</td>\n",
       "      <td>1</td>\n",
       "      <td>1</td>\n",
       "      <td>Cx43</td>\n",
       "    </tr>\n",
       "    <tr>\n",
       "      <th>3</th>\n",
       "      <td>0.010</td>\n",
       "      <td>0.314</td>\n",
       "      <td>1</td>\n",
       "      <td>ctrl</td>\n",
       "      <td>1</td>\n",
       "      <td>1</td>\n",
       "      <td>Cx43</td>\n",
       "    </tr>\n",
       "    <tr>\n",
       "      <th>4</th>\n",
       "      <td>0.026</td>\n",
       "      <td>0.730</td>\n",
       "      <td>1</td>\n",
       "      <td>ctrl</td>\n",
       "      <td>1</td>\n",
       "      <td>1</td>\n",
       "      <td>Cx43</td>\n",
       "    </tr>\n",
       "    <tr>\n",
       "      <th>5</th>\n",
       "      <td>0.029</td>\n",
       "      <td>0.690</td>\n",
       "      <td>1</td>\n",
       "      <td>ctrl</td>\n",
       "      <td>1</td>\n",
       "      <td>1</td>\n",
       "      <td>Cx43</td>\n",
       "    </tr>\n",
       "  </tbody>\n",
       "</table>\n",
       "</div>"
      ],
      "text/plain": [
       "    volume  surface_area animal_num exp_group slice_num cell_num protein\n",
       "id                                                                      \n",
       "1    0.068         1.193          1      ctrl         1        1    Cx43\n",
       "2    0.058         1.066          1      ctrl         1        1    Cx43\n",
       "3    0.010         0.314          1      ctrl         1        1    Cx43\n",
       "4    0.026         0.730          1      ctrl         1        1    Cx43\n",
       "5    0.029         0.690          1      ctrl         1        1    Cx43"
      ]
     },
     "execution_count": 114,
     "metadata": {},
     "output_type": "execute_result"
    }
   ],
   "source": [
    "data.head()"
   ]
  },
  {
   "cell_type": "markdown",
   "metadata": {},
   "source": [
    "We can see descriptive statistics for our data."
   ]
  },
  {
   "cell_type": "code",
   "execution_count": 115,
   "metadata": {},
   "outputs": [
    {
     "data": {
      "text/html": [
       "<div>\n",
       "<style scoped>\n",
       "    .dataframe tbody tr th:only-of-type {\n",
       "        vertical-align: middle;\n",
       "    }\n",
       "\n",
       "    .dataframe tbody tr th {\n",
       "        vertical-align: top;\n",
       "    }\n",
       "\n",
       "    .dataframe thead th {\n",
       "        text-align: right;\n",
       "    }\n",
       "</style>\n",
       "<table border=\"1\" class=\"dataframe\">\n",
       "  <thead>\n",
       "    <tr style=\"text-align: right;\">\n",
       "      <th></th>\n",
       "      <th>volume</th>\n",
       "      <th>surface_area</th>\n",
       "    </tr>\n",
       "  </thead>\n",
       "  <tbody>\n",
       "    <tr>\n",
       "      <th>count</th>\n",
       "      <td>268870.000000</td>\n",
       "      <td>268870.000000</td>\n",
       "    </tr>\n",
       "    <tr>\n",
       "      <th>mean</th>\n",
       "      <td>0.955050</td>\n",
       "      <td>5.121274</td>\n",
       "    </tr>\n",
       "    <tr>\n",
       "      <th>std</th>\n",
       "      <td>69.567665</td>\n",
       "      <td>256.993887</td>\n",
       "    </tr>\n",
       "    <tr>\n",
       "      <th>min</th>\n",
       "      <td>0.003000</td>\n",
       "      <td>0.146000</td>\n",
       "    </tr>\n",
       "    <tr>\n",
       "      <th>25%</th>\n",
       "      <td>0.026000</td>\n",
       "      <td>0.752000</td>\n",
       "    </tr>\n",
       "    <tr>\n",
       "      <th>50%</th>\n",
       "      <td>0.071000</td>\n",
       "      <td>1.480000</td>\n",
       "    </tr>\n",
       "    <tr>\n",
       "      <th>75%</th>\n",
       "      <td>0.162000</td>\n",
       "      <td>2.534000</td>\n",
       "    </tr>\n",
       "    <tr>\n",
       "      <th>max</th>\n",
       "      <td>8231.582000</td>\n",
       "      <td>29713.446000</td>\n",
       "    </tr>\n",
       "  </tbody>\n",
       "</table>\n",
       "</div>"
      ],
      "text/plain": [
       "              volume   surface_area\n",
       "count  268870.000000  268870.000000\n",
       "mean        0.955050       5.121274\n",
       "std        69.567665     256.993887\n",
       "min         0.003000       0.146000\n",
       "25%         0.026000       0.752000\n",
       "50%         0.071000       1.480000\n",
       "75%         0.162000       2.534000\n",
       "max      8231.582000   29713.446000"
      ]
     },
     "execution_count": 115,
     "metadata": {},
     "output_type": "execute_result"
    }
   ],
   "source": [
    "data.describe()"
   ]
  },
  {
   "cell_type": "markdown",
   "metadata": {},
   "source": [
    "## Step 2. Distribution histograms"
   ]
  },
  {
   "cell_type": "code",
   "execution_count": 116,
   "metadata": {},
   "outputs": [],
   "source": [
    "CLUST_PROTEIN, CELL_PROTEIN = data['protein'].unique()"
   ]
  },
  {
   "cell_type": "code",
   "execution_count": 117,
   "metadata": {},
   "outputs": [],
   "source": [
    "data_clust= data[(data['protein']==CLUST_PROTEIN)].copy(deep=True)\n",
    "data_cell = data[(data['protein']==CELL_PROTEIN)].copy(deep=True)"
   ]
  },
  {
   "cell_type": "code",
   "execution_count": 118,
   "metadata": {},
   "outputs": [],
   "source": [
    "data_clust.drop(data_clust[data_clust['volume']>0.4].index, inplace=True)\n",
    "data_clust.drop(data_clust[data_clust['surface_area']>6].index, inplace=True)"
   ]
  },
  {
   "cell_type": "code",
   "execution_count": 119,
   "metadata": {},
   "outputs": [
    {
     "data": {
      "text/plain": [
       "'Folder created'"
      ]
     },
     "execution_count": 119,
     "metadata": {},
     "output_type": "execute_result"
    }
   ],
   "source": [
    "file_folder_creator('figs')"
   ]
  },
  {
   "cell_type": "code",
   "execution_count": 120,
   "metadata": {},
   "outputs": [
    {
     "data": {
      "text/plain": [
       "'Folder created'"
      ]
     },
     "execution_count": 120,
     "metadata": {},
     "output_type": "execute_result"
    }
   ],
   "source": [
    "file_folder_creator(f'figs/{save_folder}')"
   ]
  },
  {
   "cell_type": "code",
   "execution_count": 121,
   "metadata": {},
   "outputs": [
    {
     "data": {
      "image/png": "[encoded data removed]",
      "text/plain": [
       "<Figure size 504x288 with 1 Axes>"
      ]
     },
     "metadata": {},
     "output_type": "display_data"
    }
   ],
   "source": [
    "histplot_fine_view(data=data_clust, x='volume',\n",
    "                    binwidth=0.02, binrange=[0,0.5], \n",
    "                    ytick=0.05, xtick=0.1,\n",
    "                    ylim=[0.0001, 0.15], xlim=[0.0001, 0.4],\n",
    "                    ylabel='Плотность распределения', xlabel=f'Объем кластеров {CLUST_PROTEIN}',\n",
    "                    figname = f'{save_folder}/плотность распределения кластеров {CLUST_PROTEIN} с разным объемом')"
   ]
  },
  {
   "cell_type": "code",
   "execution_count": 122,
   "metadata": {},
   "outputs": [
    {
     "data": {
      "text/plain": [
       "KstestResult(statistic=0.5011968250459664, pvalue=0.0)"
      ]
     },
     "execution_count": 122,
     "metadata": {},
     "output_type": "execute_result"
    }
   ],
   "source": [
    "ks_1samp(data_clust[data_clust['exp_group']=='ctrl'].loc[:,'volume'], norm.cdf)"
   ]
  },
  {
   "cell_type": "code",
   "execution_count": 123,
   "metadata": {},
   "outputs": [
    {
     "data": {
      "text/plain": [
       "KstestResult(statistic=0.502393639320564, pvalue=0.0)"
      ]
     },
     "execution_count": 123,
     "metadata": {},
     "output_type": "execute_result"
    }
   ],
   "source": [
    "ks_1samp(data_clust[data_clust['exp_group']=='SE'].loc[:,'volume'], norm.cdf)"
   ]
  },
  {
   "cell_type": "code",
   "execution_count": 124,
   "metadata": {},
   "outputs": [
    {
     "data": {
      "text/plain": [
       "KstestResult(statistic=0.18172310173643513, pvalue=0.0)"
      ]
     },
     "execution_count": 124,
     "metadata": {},
     "output_type": "execute_result"
    }
   ],
   "source": [
    "ks_2samp(data_clust[data_clust['exp_group']=='ctrl'].loc[:,'volume'], \n",
    "         data_clust[data_clust['exp_group']=='SE'].loc[:,'volume'])"
   ]
  },
  {
   "cell_type": "markdown",
   "metadata": {},
   "source": [
    "Here we observe the difference between Cx43 volume clusters distributions and the normal one. The difference between the control and the experiment are exists."
   ]
  },
  {
   "cell_type": "code",
   "execution_count": 125,
   "metadata": {},
   "outputs": [
    {
     "data": {
      "image/png": "[encoded data removed]",
      "text/plain": [
       "<Figure size 504x288 with 1 Axes>"
      ]
     },
     "metadata": {},
     "output_type": "display_data"
    }
   ],
   "source": [
    "histplot_fine_view(data=data_clust, x='surface_area',\n",
    "                    binwidth=0.25, binrange=[0,7], \n",
    "                    ytick=0.02, xtick=1,\n",
    "                    ylim=[0.0001, 0.1], xlim=[0.0001, 7],\n",
    "                    ylabel='Плотность распределения', xlabel=f'Площадь поверхности кластеров {CLUST_PROTEIN}',\n",
    "                    figname = f'{save_folder}/площадь поверхности клатеров {CLUST_PROTEIN} с разным объемом')\n"
   ]
  },
  {
   "cell_type": "code",
   "execution_count": 126,
   "metadata": {},
   "outputs": [
    {
     "data": {
      "text/plain": [
       "KstestResult(statistic=0.616087094613508, pvalue=0.0)"
      ]
     },
     "execution_count": 126,
     "metadata": {},
     "output_type": "execute_result"
    }
   ],
   "source": [
    "ks_1samp(data_clust[data_clust['exp_group']=='ctrl'].loc[:,'surface_area'], norm.cdf)"
   ]
  },
  {
   "cell_type": "code",
   "execution_count": 127,
   "metadata": {},
   "outputs": [
    {
     "data": {
      "text/plain": [
       "KstestResult(statistic=0.6322989298838961, pvalue=0.0)"
      ]
     },
     "execution_count": 127,
     "metadata": {},
     "output_type": "execute_result"
    }
   ],
   "source": [
    "ks_1samp(data_clust[data_clust['exp_group']=='SE'].loc[:,'surface_area'], norm.cdf)"
   ]
  },
  {
   "cell_type": "code",
   "execution_count": 128,
   "metadata": {},
   "outputs": [
    {
     "data": {
      "text/plain": [
       "KstestResult(statistic=0.16944869388043587, pvalue=0.0)"
      ]
     },
     "execution_count": 128,
     "metadata": {},
     "output_type": "execute_result"
    }
   ],
   "source": [
    "ks_2samp(data_clust[data_clust['exp_group']=='ctrl'].loc[:,'surface_area'], \n",
    "                  data_clust[data_clust['exp_group']=='SE'].loc[:,'surface_area'])"
   ]
  },
  {
   "cell_type": "markdown",
   "metadata": {},
   "source": [
    "Cx43 clusters surface area of control and experimental group has a distribution that differ from normal. Moreover, they are also distinct between each other.   "
   ]
  },
  {
   "cell_type": "markdown",
   "metadata": {},
   "source": [
    "We need to calculate surface-to-volume ration to obtain information about clusters shape"
   ]
  },
  {
   "cell_type": "code",
   "execution_count": 129,
   "metadata": {},
   "outputs": [
    {
     "data": {
      "text/html": [
       "<div>\n",
       "<style scoped>\n",
       "    .dataframe tbody tr th:only-of-type {\n",
       "        vertical-align: middle;\n",
       "    }\n",
       "\n",
       "    .dataframe tbody tr th {\n",
       "        vertical-align: top;\n",
       "    }\n",
       "\n",
       "    .dataframe thead th {\n",
       "        text-align: right;\n",
       "    }\n",
       "</style>\n",
       "<table border=\"1\" class=\"dataframe\">\n",
       "  <thead>\n",
       "    <tr style=\"text-align: right;\">\n",
       "      <th></th>\n",
       "      <th>volume</th>\n",
       "      <th>surface_area</th>\n",
       "      <th>animal_num</th>\n",
       "      <th>exp_group</th>\n",
       "      <th>slice_num</th>\n",
       "      <th>cell_num</th>\n",
       "      <th>protein</th>\n",
       "      <th>svr_clust</th>\n",
       "    </tr>\n",
       "    <tr>\n",
       "      <th>id</th>\n",
       "      <th></th>\n",
       "      <th></th>\n",
       "      <th></th>\n",
       "      <th></th>\n",
       "      <th></th>\n",
       "      <th></th>\n",
       "      <th></th>\n",
       "      <th></th>\n",
       "    </tr>\n",
       "  </thead>\n",
       "  <tbody>\n",
       "    <tr>\n",
       "      <th>1</th>\n",
       "      <td>0.068</td>\n",
       "      <td>1.193</td>\n",
       "      <td>1</td>\n",
       "      <td>ctrl</td>\n",
       "      <td>1</td>\n",
       "      <td>1</td>\n",
       "      <td>Cx43</td>\n",
       "      <td>17.544118</td>\n",
       "    </tr>\n",
       "    <tr>\n",
       "      <th>2</th>\n",
       "      <td>0.058</td>\n",
       "      <td>1.066</td>\n",
       "      <td>1</td>\n",
       "      <td>ctrl</td>\n",
       "      <td>1</td>\n",
       "      <td>1</td>\n",
       "      <td>Cx43</td>\n",
       "      <td>18.379310</td>\n",
       "    </tr>\n",
       "    <tr>\n",
       "      <th>3</th>\n",
       "      <td>0.010</td>\n",
       "      <td>0.314</td>\n",
       "      <td>1</td>\n",
       "      <td>ctrl</td>\n",
       "      <td>1</td>\n",
       "      <td>1</td>\n",
       "      <td>Cx43</td>\n",
       "      <td>31.400000</td>\n",
       "    </tr>\n",
       "    <tr>\n",
       "      <th>4</th>\n",
       "      <td>0.026</td>\n",
       "      <td>0.730</td>\n",
       "      <td>1</td>\n",
       "      <td>ctrl</td>\n",
       "      <td>1</td>\n",
       "      <td>1</td>\n",
       "      <td>Cx43</td>\n",
       "      <td>28.076923</td>\n",
       "    </tr>\n",
       "    <tr>\n",
       "      <th>5</th>\n",
       "      <td>0.029</td>\n",
       "      <td>0.690</td>\n",
       "      <td>1</td>\n",
       "      <td>ctrl</td>\n",
       "      <td>1</td>\n",
       "      <td>1</td>\n",
       "      <td>Cx43</td>\n",
       "      <td>23.793103</td>\n",
       "    </tr>\n",
       "  </tbody>\n",
       "</table>\n",
       "</div>"
      ],
      "text/plain": [
       "    volume  surface_area animal_num exp_group slice_num cell_num protein  \\\n",
       "id                                                                         \n",
       "1    0.068         1.193          1      ctrl         1        1    Cx43   \n",
       "2    0.058         1.066          1      ctrl         1        1    Cx43   \n",
       "3    0.010         0.314          1      ctrl         1        1    Cx43   \n",
       "4    0.026         0.730          1      ctrl         1        1    Cx43   \n",
       "5    0.029         0.690          1      ctrl         1        1    Cx43   \n",
       "\n",
       "    svr_clust  \n",
       "id             \n",
       "1   17.544118  \n",
       "2   18.379310  \n",
       "3   31.400000  \n",
       "4   28.076923  \n",
       "5   23.793103  "
      ]
     },
     "execution_count": 129,
     "metadata": {},
     "output_type": "execute_result"
    }
   ],
   "source": [
    "data_clust['svr_clust'] = data_clust.loc[:, 'surface_area']/data_clust.loc[:, 'volume']\n",
    "data_clust.head()"
   ]
  },
  {
   "cell_type": "code",
   "execution_count": 130,
   "metadata": {},
   "outputs": [
    {
     "data": {
      "image/png": "[encoded data removed]",
      "text/plain": [
       "<Figure size 504x288 with 1 Axes>"
      ]
     },
     "metadata": {},
     "output_type": "display_data"
    }
   ],
   "source": [
    "histplot_fine_view(data=data_clust, x='svr_clust',\n",
    "                    binwidth=2, binrange=[0,50], \n",
    "                    ytick=0.02, xtick=10,\n",
    "                    ylim=[0.01, 0.1], xlim=[9, 55],\n",
    "                    ylabel='Плотность распределения', xlabel=f'SVR кластеров {CLUST_PROTEIN}',\n",
    "                    figname = f'{save_folder}/SVR кластеров {CLUST_PROTEIN} с разным объемом')\n"
   ]
  },
  {
   "cell_type": "code",
   "execution_count": 131,
   "metadata": {},
   "outputs": [
    {
     "data": {
      "text/plain": [
       "KstestResult(statistic=1.0, pvalue=0.0)"
      ]
     },
     "execution_count": 131,
     "metadata": {},
     "output_type": "execute_result"
    }
   ],
   "source": [
    "ks_1samp(data_clust[data_clust['exp_group']=='ctrl'].loc[:,'svr_clust'], norm.cdf)"
   ]
  },
  {
   "cell_type": "code",
   "execution_count": 132,
   "metadata": {},
   "outputs": [
    {
     "data": {
      "text/plain": [
       "KstestResult(statistic=1.0, pvalue=0.0)"
      ]
     },
     "execution_count": 132,
     "metadata": {},
     "output_type": "execute_result"
    }
   ],
   "source": [
    "ks_1samp(data_clust[data_clust['exp_group']=='SE'].loc[:,'svr_clust'], norm.cdf)"
   ]
  },
  {
   "cell_type": "code",
   "execution_count": 133,
   "metadata": {},
   "outputs": [
    {
     "name": "stdout",
     "output_type": "stream",
     "text": [
      "Statistics=0.193, p=0.00000000000000000000000000000000000000000000000000\n"
     ]
    }
   ],
   "source": [
    "stat_ks_test, p_ks_test = ks_2samp(data_clust[data_clust['exp_group']=='ctrl'].iloc[:,-1], data_clust[data_clust['exp_group']=='SE'].iloc[:,-1])\n",
    "\n",
    "print('Statistics=%.3f, p=%.50f' % (stat_ks_test, p_ks_test))"
   ]
  },
  {
   "cell_type": "markdown",
   "metadata": {},
   "source": [
    "The curves from the two experimental groups belong to different distributions, which is confirmed by the Kolmagorov-Smirnov test. Moreover, we see here two-phased distribution of Cx43 clusters SVR in ctrl that dissapear after SE."
   ]
  },
  {
   "cell_type": "markdown",
   "metadata": {},
   "source": [
    "## Step 3. Hypothesis testing"
   ]
  },
  {
   "cell_type": "code",
   "execution_count": 134,
   "metadata": {},
   "outputs": [],
   "source": [
    "mask_ctrl_clust = data['exp_group']=='ctrl'\n",
    "mask_SE_clust= data['exp_group']=='SE'"
   ]
  },
  {
   "cell_type": "code",
   "execution_count": 135,
   "metadata": {},
   "outputs": [
    {
     "data": {
      "text/plain": [
       "<AxesSubplot:>"
      ]
     },
     "execution_count": 135,
     "metadata": {},
     "output_type": "execute_result"
    },
    {
     "data": {
      "image/png": "[encoded data removed]",
      "text/plain": [
       "<Figure size 432x288 with 2 Axes>"
      ]
     },
     "metadata": {},
     "output_type": "display_data"
    }
   ],
   "source": [
    "sns.heatmap(data[mask_ctrl_clust].iloc[:, :2].corr(), annot=True)"
   ]
  },
  {
   "cell_type": "code",
   "execution_count": 136,
   "metadata": {},
   "outputs": [
    {
     "data": {
      "text/plain": [
       "<AxesSubplot:>"
      ]
     },
     "execution_count": 136,
     "metadata": {},
     "output_type": "execute_result"
    },
    {
     "data": {
      "image/png": "[encoded data removed]",
      "text/plain": [
       "<Figure size 432x288 with 2 Axes>"
      ]
     },
     "metadata": {},
     "output_type": "display_data"
    }
   ],
   "source": [
    "sns.heatmap(data[mask_SE_clust].iloc[:, :2].corr(), annot=True)"
   ]
  },
  {
   "cell_type": "markdown",
   "metadata": {},
   "source": [
    "We see a positive correlation between the cluster volume and its surface area for both group. This means that the larger the volume, the larger the surface area."
   ]
  },
  {
   "cell_type": "markdown",
   "metadata": {},
   "source": [
    "### SVR ctrl vs. SE"
   ]
  },
  {
   "cell_type": "markdown",
   "metadata": {},
   "source": [
    "We want to see the distribution of features in individual cells. For this we use pivot_table"
   ]
  },
  {
   "cell_type": "code",
   "execution_count": 137,
   "metadata": {},
   "outputs": [
    {
     "data": {
      "text/html": [
       "<div>\n",
       "<style scoped>\n",
       "    .dataframe tbody tr th:only-of-type {\n",
       "        vertical-align: middle;\n",
       "    }\n",
       "\n",
       "    .dataframe tbody tr th {\n",
       "        vertical-align: top;\n",
       "    }\n",
       "\n",
       "    .dataframe thead tr th {\n",
       "        text-align: left;\n",
       "    }\n",
       "\n",
       "    .dataframe thead tr:last-of-type th {\n",
       "        text-align: right;\n",
       "    }\n",
       "</style>\n",
       "<table border=\"1\" class=\"dataframe\">\n",
       "  <thead>\n",
       "    <tr>\n",
       "      <th></th>\n",
       "      <th></th>\n",
       "      <th></th>\n",
       "      <th colspan=\"2\" halign=\"left\">volume</th>\n",
       "      <th colspan=\"2\" halign=\"left\">surface_area</th>\n",
       "      <th colspan=\"2\" halign=\"left\">svr_clust</th>\n",
       "    </tr>\n",
       "    <tr>\n",
       "      <th></th>\n",
       "      <th></th>\n",
       "      <th>exp_group</th>\n",
       "      <th>ctrl</th>\n",
       "      <th>SE</th>\n",
       "      <th>ctrl</th>\n",
       "      <th>SE</th>\n",
       "      <th>ctrl</th>\n",
       "      <th>SE</th>\n",
       "    </tr>\n",
       "    <tr>\n",
       "      <th>animal_num</th>\n",
       "      <th>slice_num</th>\n",
       "      <th>cell_num</th>\n",
       "      <th></th>\n",
       "      <th></th>\n",
       "      <th></th>\n",
       "      <th></th>\n",
       "      <th></th>\n",
       "      <th></th>\n",
       "    </tr>\n",
       "  </thead>\n",
       "  <tbody>\n",
       "    <tr>\n",
       "      <th rowspan=\"4\" valign=\"top\">1</th>\n",
       "      <th rowspan=\"2\" valign=\"top\">1</th>\n",
       "      <th>1</th>\n",
       "      <td>0.065</td>\n",
       "      <td>0.065</td>\n",
       "      <td>1.317</td>\n",
       "      <td>1.3675</td>\n",
       "      <td>20.709831</td>\n",
       "      <td>20.862692</td>\n",
       "    </tr>\n",
       "    <tr>\n",
       "      <th>2</th>\n",
       "      <td>0.090</td>\n",
       "      <td>NaN</td>\n",
       "      <td>1.775</td>\n",
       "      <td>NaN</td>\n",
       "      <td>19.237569</td>\n",
       "      <td>NaN</td>\n",
       "    </tr>\n",
       "    <tr>\n",
       "      <th rowspan=\"2\" valign=\"top\">2</th>\n",
       "      <th>1</th>\n",
       "      <td>NaN</td>\n",
       "      <td>0.045</td>\n",
       "      <td>NaN</td>\n",
       "      <td>1.0420</td>\n",
       "      <td>NaN</td>\n",
       "      <td>23.414286</td>\n",
       "    </tr>\n",
       "    <tr>\n",
       "      <th>2</th>\n",
       "      <td>NaN</td>\n",
       "      <td>0.048</td>\n",
       "      <td>NaN</td>\n",
       "      <td>1.1060</td>\n",
       "      <td>NaN</td>\n",
       "      <td>22.611111</td>\n",
       "    </tr>\n",
       "    <tr>\n",
       "      <th>2</th>\n",
       "      <th>1</th>\n",
       "      <th>1</th>\n",
       "      <td>0.162</td>\n",
       "      <td>0.048</td>\n",
       "      <td>2.402</td>\n",
       "      <td>1.0630</td>\n",
       "      <td>15.080822</td>\n",
       "      <td>22.357143</td>\n",
       "    </tr>\n",
       "  </tbody>\n",
       "</table>\n",
       "</div>"
      ],
      "text/plain": [
       "                              volume        surface_area          svr_clust  \\\n",
       "exp_group                       ctrl     SE         ctrl      SE       ctrl   \n",
       "animal_num slice_num cell_num                                                 \n",
       "1          1         1         0.065  0.065        1.317  1.3675  20.709831   \n",
       "                     2         0.090    NaN        1.775     NaN  19.237569   \n",
       "           2         1           NaN  0.045          NaN  1.0420        NaN   \n",
       "                     2           NaN  0.048          NaN  1.1060        NaN   \n",
       "2          1         1         0.162  0.048        2.402  1.0630  15.080822   \n",
       "\n",
       "                                          \n",
       "exp_group                             SE  \n",
       "animal_num slice_num cell_num             \n",
       "1          1         1         20.862692  \n",
       "                     2               NaN  \n",
       "           2         1         23.414286  \n",
       "                     2         22.611111  \n",
       "2          1         1         22.357143  "
      ]
     },
     "execution_count": 137,
     "metadata": {},
     "output_type": "execute_result"
    }
   ],
   "source": [
    "wide_clust = pd.pivot_table(data_clust,\n",
    "                index = ['animal_num','slice_num','cell_num'],\n",
    "                columns = ['exp_group'],\n",
    "                values = ['volume', 'surface_area', 'svr_clust'],\n",
    "                aggfunc = 'median')  \n",
    "wide_clust = wide_clust.reindex(columns=[('volume','ctrl'),('volume','SE'), \n",
    "                            ('surface_area', 'ctrl'), ('surface_area', 'SE'), \n",
    "                            ('svr_clust','ctrl'), ('svr_clust','SE')])\n",
    "wide_clust.head()\n"
   ]
  },
  {
   "cell_type": "code",
   "execution_count": 138,
   "metadata": {},
   "outputs": [
    {
     "name": "stdout",
     "output_type": "stream",
     "text": [
      "p-value annotation legend:\n",
      "ns: 5.00e-02 < p <= 1.00e+00\n",
      "*: 1.00e-02 < p <= 5.00e-02\n",
      "**: 1.00e-03 < p <= 1.00e-02\n",
      "***: 1.00e-04 < p <= 1.00e-03\n",
      "****: p <= 1.00e-04\n",
      "\n",
      "('svr_clust', 'ctrl') v.s. ('svr_clust', 'SE'): Mann-Whitney-Wilcoxon test two-sided, P_val=1.138e-01 U_stat=3.220e+02\n"
     ]
    },
    {
     "data": {
      "image/png": "[encoded data removed]",
      "text/plain": [
       "<Figure size 216x360 with 1 Axes>"
      ]
     },
     "metadata": {},
     "output_type": "display_data"
    }
   ],
   "source": [
    "boxplot_fine_view(data=wide_clust.iloc[:, 4:6], \n",
    "                    box_pairs=(('svr_clust','ctrl'),('svr_clust','SE')),\n",
    "                    ylabel=f'SVR кластеров {CLUST_PROTEIN}',\n",
    "                    ylim=[10, 35], ytick = 5,\n",
    "                    figname = f'{save_folder}/SVR кластеров {CLUST_PROTEIN}')"
   ]
  },
  {
   "cell_type": "code",
   "execution_count": 139,
   "metadata": {},
   "outputs": [
    {
     "name": "stdout",
     "output_type": "stream",
     "text": [
      "           svr_clust           \n",
      "exp_group       ctrl         SE\n",
      "0.25       18.949010  15.420561\n",
      "0.50       21.420376  20.862692\n",
      "0.75       26.361577  22.357143\n"
     ]
    }
   ],
   "source": [
    "percentile_svr_clusters = wide_clust.iloc[:, 4:6].quantile([0.25, 0.50 , 0.75])\n",
    "print(percentile_svr_clusters)"
   ]
  },
  {
   "cell_type": "code",
   "execution_count": 140,
   "metadata": {},
   "outputs": [
    {
     "name": "stdout",
     "output_type": "stream",
     "text": [
      "Statistics=322.000, p=0.11383694\n"
     ]
    }
   ],
   "source": [
    "stat_svr_num, p_svr_num = mannwhitneyu(wide_clust.iloc[:, 4].dropna(), wide_clust.iloc[:, 5].dropna())\n",
    "print('Statistics=%.3f, p=%.8f' % (stat_svr_num, p_svr_num))"
   ]
  },
  {
   "cell_type": "markdown",
   "metadata": {},
   "source": [
    "Cx43 clusters SVR is not statistically different in control and after ES"
   ]
  },
  {
   "cell_type": "markdown",
   "metadata": {},
   "source": [
    "### Clusters quantity ctrl vs SE"
   ]
  },
  {
   "cell_type": "markdown",
   "metadata": {},
   "source": [
    "Add a column with data of the clusters quantity for each cell"
   ]
  },
  {
   "cell_type": "code",
   "execution_count": 141,
   "metadata": {},
   "outputs": [
    {
     "data": {
      "text/html": [
       "<div>\n",
       "<style scoped>\n",
       "    .dataframe tbody tr th:only-of-type {\n",
       "        vertical-align: middle;\n",
       "    }\n",
       "\n",
       "    .dataframe tbody tr th {\n",
       "        vertical-align: top;\n",
       "    }\n",
       "\n",
       "    .dataframe thead tr th {\n",
       "        text-align: left;\n",
       "    }\n",
       "\n",
       "    .dataframe thead tr:last-of-type th {\n",
       "        text-align: right;\n",
       "    }\n",
       "</style>\n",
       "<table border=\"1\" class=\"dataframe\">\n",
       "  <thead>\n",
       "    <tr>\n",
       "      <th></th>\n",
       "      <th></th>\n",
       "      <th></th>\n",
       "      <th colspan=\"2\" halign=\"left\">volume</th>\n",
       "      <th colspan=\"2\" halign=\"left\">surface_area</th>\n",
       "      <th colspan=\"2\" halign=\"left\">svr_clust</th>\n",
       "      <th colspan=\"2\" halign=\"left\">clust_quantity</th>\n",
       "    </tr>\n",
       "    <tr>\n",
       "      <th></th>\n",
       "      <th></th>\n",
       "      <th>exp_group</th>\n",
       "      <th>ctrl</th>\n",
       "      <th>SE</th>\n",
       "      <th>ctrl</th>\n",
       "      <th>SE</th>\n",
       "      <th>ctrl</th>\n",
       "      <th>SE</th>\n",
       "      <th>ctrl</th>\n",
       "      <th>SE</th>\n",
       "    </tr>\n",
       "    <tr>\n",
       "      <th>animal_num</th>\n",
       "      <th>slice_num</th>\n",
       "      <th>cell_num</th>\n",
       "      <th></th>\n",
       "      <th></th>\n",
       "      <th></th>\n",
       "      <th></th>\n",
       "      <th></th>\n",
       "      <th></th>\n",
       "      <th></th>\n",
       "      <th></th>\n",
       "    </tr>\n",
       "  </thead>\n",
       "  <tbody>\n",
       "    <tr>\n",
       "      <th rowspan=\"4\" valign=\"top\">1</th>\n",
       "      <th rowspan=\"2\" valign=\"top\">1</th>\n",
       "      <th>1</th>\n",
       "      <td>0.065</td>\n",
       "      <td>0.065</td>\n",
       "      <td>1.317</td>\n",
       "      <td>1.3675</td>\n",
       "      <td>20.709831</td>\n",
       "      <td>20.862692</td>\n",
       "      <td>1474.0</td>\n",
       "      <td>9356.0</td>\n",
       "    </tr>\n",
       "    <tr>\n",
       "      <th>2</th>\n",
       "      <td>0.090</td>\n",
       "      <td>NaN</td>\n",
       "      <td>1.775</td>\n",
       "      <td>NaN</td>\n",
       "      <td>19.237569</td>\n",
       "      <td>NaN</td>\n",
       "      <td>NaN</td>\n",
       "      <td>7531.0</td>\n",
       "    </tr>\n",
       "    <tr>\n",
       "      <th rowspan=\"2\" valign=\"top\">2</th>\n",
       "      <th>1</th>\n",
       "      <td>NaN</td>\n",
       "      <td>0.045</td>\n",
       "      <td>NaN</td>\n",
       "      <td>1.0420</td>\n",
       "      <td>NaN</td>\n",
       "      <td>23.414286</td>\n",
       "      <td>1102.0</td>\n",
       "      <td>NaN</td>\n",
       "    </tr>\n",
       "    <tr>\n",
       "      <th>2</th>\n",
       "      <td>NaN</td>\n",
       "      <td>0.048</td>\n",
       "      <td>NaN</td>\n",
       "      <td>1.1060</td>\n",
       "      <td>NaN</td>\n",
       "      <td>22.611111</td>\n",
       "      <td>1873.0</td>\n",
       "      <td>NaN</td>\n",
       "    </tr>\n",
       "    <tr>\n",
       "      <th>2</th>\n",
       "      <th>1</th>\n",
       "      <th>1</th>\n",
       "      <td>0.162</td>\n",
       "      <td>0.048</td>\n",
       "      <td>2.402</td>\n",
       "      <td>1.0630</td>\n",
       "      <td>15.080822</td>\n",
       "      <td>22.357143</td>\n",
       "      <td>2650.0</td>\n",
       "      <td>6144.0</td>\n",
       "    </tr>\n",
       "  </tbody>\n",
       "</table>\n",
       "</div>"
      ],
      "text/plain": [
       "                              volume        surface_area          svr_clust  \\\n",
       "exp_group                       ctrl     SE         ctrl      SE       ctrl   \n",
       "animal_num slice_num cell_num                                                 \n",
       "1          1         1         0.065  0.065        1.317  1.3675  20.709831   \n",
       "                     2         0.090    NaN        1.775     NaN  19.237569   \n",
       "           2         1           NaN  0.045          NaN  1.0420        NaN   \n",
       "                     2           NaN  0.048          NaN  1.1060        NaN   \n",
       "2          1         1         0.162  0.048        2.402  1.0630  15.080822   \n",
       "\n",
       "                                         clust_quantity          \n",
       "exp_group                             SE           ctrl      SE  \n",
       "animal_num slice_num cell_num                                    \n",
       "1          1         1         20.862692         1474.0  9356.0  \n",
       "                     2               NaN            NaN  7531.0  \n",
       "           2         1         23.414286         1102.0     NaN  \n",
       "                     2         22.611111         1873.0     NaN  \n",
       "2          1         1         22.357143         2650.0  6144.0  "
      ]
     },
     "execution_count": 141,
     "metadata": {},
     "output_type": "execute_result"
    }
   ],
   "source": [
    "wide_clust [[('clust_quantity', 'ctrl'), (('clust_quantity', 'SE'))]] = pd.pivot_table(data_clust,\n",
    "                                                                                    index = ['animal_num','slice_num','cell_num'],\n",
    "                                                                                    columns = ['exp_group'],\n",
    "                                                                                    values = ['volume'],\n",
    "                                                                                    aggfunc = 'count')\n",
    "wide_clust.head()"
   ]
  },
  {
   "cell_type": "markdown",
   "metadata": {},
   "source": [
    "We are interested in information about the density of clusters in the volume. Lets add a column with the number of clusters per 5 µm3. To do this, get the data on the total volume from the file 'data/total_vol.xlsx'"
   ]
  },
  {
   "cell_type": "code",
   "execution_count": 142,
   "metadata": {},
   "outputs": [
    {
     "data": {
      "text/plain": [
       "TotVol_Cx43_ctrl    9919.751697\n",
       "TotVol_Cx43_SE      9900.454446\n",
       "dtype: float64"
      ]
     },
     "execution_count": 142,
     "metadata": {},
     "output_type": "execute_result"
    }
   ],
   "source": [
    "tot_vol_df = pd.read_excel(f'{tot_vol_path}', usecols=[0,1], dtype='float64')\n",
    "tot_vol_df.mean()"
   ]
  },
  {
   "cell_type": "code",
   "execution_count": 143,
   "metadata": {},
   "outputs": [
    {
     "data": {
      "text/html": [
       "<div>\n",
       "<style scoped>\n",
       "    .dataframe tbody tr th:only-of-type {\n",
       "        vertical-align: middle;\n",
       "    }\n",
       "\n",
       "    .dataframe tbody tr th {\n",
       "        vertical-align: top;\n",
       "    }\n",
       "\n",
       "    .dataframe thead tr th {\n",
       "        text-align: left;\n",
       "    }\n",
       "\n",
       "    .dataframe thead tr:last-of-type th {\n",
       "        text-align: right;\n",
       "    }\n",
       "</style>\n",
       "<table border=\"1\" class=\"dataframe\">\n",
       "  <thead>\n",
       "    <tr>\n",
       "      <th></th>\n",
       "      <th></th>\n",
       "      <th></th>\n",
       "      <th colspan=\"2\" halign=\"left\">volume</th>\n",
       "      <th colspan=\"2\" halign=\"left\">surface_area</th>\n",
       "      <th colspan=\"2\" halign=\"left\">svr_clust</th>\n",
       "      <th colspan=\"2\" halign=\"left\">clust_quantity</th>\n",
       "      <th colspan=\"2\" halign=\"left\">clust_quantity_per_125</th>\n",
       "    </tr>\n",
       "    <tr>\n",
       "      <th></th>\n",
       "      <th></th>\n",
       "      <th>exp_group</th>\n",
       "      <th>ctrl</th>\n",
       "      <th>SE</th>\n",
       "      <th>ctrl</th>\n",
       "      <th>SE</th>\n",
       "      <th>ctrl</th>\n",
       "      <th>SE</th>\n",
       "      <th>ctrl</th>\n",
       "      <th>SE</th>\n",
       "      <th>ctrl</th>\n",
       "      <th>SE</th>\n",
       "    </tr>\n",
       "    <tr>\n",
       "      <th>animal_num</th>\n",
       "      <th>slice_num</th>\n",
       "      <th>cell_num</th>\n",
       "      <th></th>\n",
       "      <th></th>\n",
       "      <th></th>\n",
       "      <th></th>\n",
       "      <th></th>\n",
       "      <th></th>\n",
       "      <th></th>\n",
       "      <th></th>\n",
       "      <th></th>\n",
       "      <th></th>\n",
       "    </tr>\n",
       "  </thead>\n",
       "  <tbody>\n",
       "    <tr>\n",
       "      <th rowspan=\"4\" valign=\"top\">1</th>\n",
       "      <th rowspan=\"2\" valign=\"top\">1</th>\n",
       "      <th>1</th>\n",
       "      <td>0.065</td>\n",
       "      <td>0.065</td>\n",
       "      <td>1.317</td>\n",
       "      <td>1.3675</td>\n",
       "      <td>20.709831</td>\n",
       "      <td>20.862692</td>\n",
       "      <td>1474.0</td>\n",
       "      <td>9356.0</td>\n",
       "      <td>18.574054</td>\n",
       "      <td>118.125891</td>\n",
       "    </tr>\n",
       "    <tr>\n",
       "      <th>2</th>\n",
       "      <td>0.090</td>\n",
       "      <td>NaN</td>\n",
       "      <td>1.775</td>\n",
       "      <td>NaN</td>\n",
       "      <td>19.237569</td>\n",
       "      <td>NaN</td>\n",
       "      <td>NaN</td>\n",
       "      <td>7531.0</td>\n",
       "      <td>NaN</td>\n",
       "      <td>95.084019</td>\n",
       "    </tr>\n",
       "    <tr>\n",
       "      <th rowspan=\"2\" valign=\"top\">2</th>\n",
       "      <th>1</th>\n",
       "      <td>NaN</td>\n",
       "      <td>0.045</td>\n",
       "      <td>NaN</td>\n",
       "      <td>1.0420</td>\n",
       "      <td>NaN</td>\n",
       "      <td>23.414286</td>\n",
       "      <td>1102.0</td>\n",
       "      <td>NaN</td>\n",
       "      <td>13.886436</td>\n",
       "      <td>NaN</td>\n",
       "    </tr>\n",
       "    <tr>\n",
       "      <th>2</th>\n",
       "      <td>NaN</td>\n",
       "      <td>0.048</td>\n",
       "      <td>NaN</td>\n",
       "      <td>1.1060</td>\n",
       "      <td>NaN</td>\n",
       "      <td>22.611111</td>\n",
       "      <td>1873.0</td>\n",
       "      <td>NaN</td>\n",
       "      <td>23.601901</td>\n",
       "      <td>NaN</td>\n",
       "    </tr>\n",
       "    <tr>\n",
       "      <th>2</th>\n",
       "      <th>1</th>\n",
       "      <th>1</th>\n",
       "      <td>0.162</td>\n",
       "      <td>0.048</td>\n",
       "      <td>2.402</td>\n",
       "      <td>1.0630</td>\n",
       "      <td>15.080822</td>\n",
       "      <td>22.357143</td>\n",
       "      <td>2650.0</td>\n",
       "      <td>6144.0</td>\n",
       "      <td>33.392973</td>\n",
       "      <td>77.572197</td>\n",
       "    </tr>\n",
       "  </tbody>\n",
       "</table>\n",
       "</div>"
      ],
      "text/plain": [
       "                              volume        surface_area          svr_clust  \\\n",
       "exp_group                       ctrl     SE         ctrl      SE       ctrl   \n",
       "animal_num slice_num cell_num                                                 \n",
       "1          1         1         0.065  0.065        1.317  1.3675  20.709831   \n",
       "                     2         0.090    NaN        1.775     NaN  19.237569   \n",
       "           2         1           NaN  0.045          NaN  1.0420        NaN   \n",
       "                     2           NaN  0.048          NaN  1.1060        NaN   \n",
       "2          1         1         0.162  0.048        2.402  1.0630  15.080822   \n",
       "\n",
       "                                         clust_quantity          \\\n",
       "exp_group                             SE           ctrl      SE   \n",
       "animal_num slice_num cell_num                                     \n",
       "1          1         1         20.862692         1474.0  9356.0   \n",
       "                     2               NaN            NaN  7531.0   \n",
       "           2         1         23.414286         1102.0     NaN   \n",
       "                     2         22.611111         1873.0     NaN   \n",
       "2          1         1         22.357143         2650.0  6144.0   \n",
       "\n",
       "                              clust_quantity_per_125              \n",
       "exp_group                                       ctrl          SE  \n",
       "animal_num slice_num cell_num                                     \n",
       "1          1         1                     18.574054  118.125891  \n",
       "                     2                           NaN   95.084019  \n",
       "           2         1                     13.886436         NaN  \n",
       "                     2                     23.601901         NaN  \n",
       "2          1         1                     33.392973   77.572197  "
      ]
     },
     "execution_count": 143,
     "metadata": {},
     "output_type": "execute_result"
    }
   ],
   "source": [
    "wide_clust [('clust_quantity_per_125', 'ctrl')] = (wide_clust[('clust_quantity', 'ctrl')]*125)/tot_vol_df.mean()[0]\n",
    "wide_clust [('clust_quantity_per_125', 'SE')] = (wide_clust[('clust_quantity', 'SE')]*125)/tot_vol_df.mean()[1]\n",
    "wide_clust.head()"
   ]
  },
  {
   "cell_type": "code",
   "execution_count": 144,
   "metadata": {},
   "outputs": [
    {
     "name": "stdout",
     "output_type": "stream",
     "text": [
      "p-value annotation legend:\n",
      "ns: 5.00e-02 < p <= 1.00e+00\n",
      "*: 1.00e-02 < p <= 5.00e-02\n",
      "**: 1.00e-03 < p <= 1.00e-02\n",
      "***: 1.00e-04 < p <= 1.00e-03\n",
      "****: p <= 1.00e-04\n",
      "\n",
      "('clust_quantity_per_125', 'ctrl') v.s. ('clust_quantity_per_125', 'SE'): Mann-Whitney-Wilcoxon test two-sided, P_val=4.597e-01 U_stat=2.850e+02\n"
     ]
    },
    {
     "data": {
      "image/png": "[encoded data removed]",
      "text/plain": [
       "<Figure size 216x360 with 1 Axes>"
      ]
     },
     "metadata": {},
     "output_type": "display_data"
    }
   ],
   "source": [
    "boxplot_fine_view(data=wide_clust.iloc[:, 8:10], \n",
    "                    box_pairs=(('clust_quantity_per_125','ctrl'),('clust_quantity_per_125','SE')),\n",
    "                    ylabel=f'# кластеров {CLUST_PROTEIN} в 5мкм3',\n",
    "                    ylim=[1, 250], ytick = 50,\n",
    "                    figname = f'{save_folder}/количество кластеров {CLUST_PROTEIN} с разным объемом boxplot per cell')"
   ]
  },
  {
   "cell_type": "markdown",
   "metadata": {},
   "source": [
    "Let's compare our samples by the clusters quantity and find that there are no statistical differences."
   ]
  },
  {
   "cell_type": "markdown",
   "metadata": {},
   "source": [
    "Then, we calculate median, 25 and 75 percentiles."
   ]
  },
  {
   "cell_type": "code",
   "execution_count": 145,
   "metadata": {},
   "outputs": [
    {
     "name": "stdout",
     "output_type": "stream",
     "text": [
      "          clust_quantity_per_125           \n",
      "exp_group                   ctrl         SE\n",
      "0.25                   33.392973  23.436424\n",
      "0.50                   62.047924  48.116478\n",
      "0.75                   89.001724  82.029063\n"
     ]
    }
   ],
   "source": [
    "percentile_num_clusters = wide_clust.iloc[:, 8:].quantile([0.25, 0.50 , 0.75])\n",
    "print(percentile_num_clusters)"
   ]
  },
  {
   "cell_type": "code",
   "execution_count": 146,
   "metadata": {},
   "outputs": [
    {
     "name": "stdout",
     "output_type": "stream",
     "text": [
      "Statistics=285.000, p=0.45966378\n"
     ]
    }
   ],
   "source": [
    "stat_clust_num, p_clust_num = mannwhitneyu(wide_clust.iloc[:, 8].dropna(), wide_clust.iloc[:, 9].dropna())\n",
    "print('Statistics=%.3f, p=%.8f' % (stat_clust_num, p_clust_num))"
   ]
  },
  {
   "cell_type": "markdown",
   "metadata": {},
   "source": [
    "Due to the nonparametric Mann-Whitney test, we check whether the clusters quantity after SE differs significantly in comparison to the control. The epilepsy group doesn't demonstrate some differs in comparison to the control group by this parameter."
   ]
  },
  {
   "cell_type": "markdown",
   "metadata": {},
   "source": [
    "### Clusters volume fraction(VF)"
   ]
  },
  {
   "cell_type": "markdown",
   "metadata": {},
   "source": [
    "Then, we should to calculate volume fraction(vf). vf it is a Cx43 volume occupied by tissue. Firstly, we calculate the sum of volume of all clusters. "
   ]
  },
  {
   "cell_type": "code",
   "execution_count": 147,
   "metadata": {},
   "outputs": [
    {
     "data": {
      "text/html": [
       "<div>\n",
       "<style scoped>\n",
       "    .dataframe tbody tr th:only-of-type {\n",
       "        vertical-align: middle;\n",
       "    }\n",
       "\n",
       "    .dataframe tbody tr th {\n",
       "        vertical-align: top;\n",
       "    }\n",
       "\n",
       "    .dataframe thead tr th {\n",
       "        text-align: left;\n",
       "    }\n",
       "\n",
       "    .dataframe thead tr:last-of-type th {\n",
       "        text-align: right;\n",
       "    }\n",
       "</style>\n",
       "<table border=\"1\" class=\"dataframe\">\n",
       "  <thead>\n",
       "    <tr>\n",
       "      <th></th>\n",
       "      <th></th>\n",
       "      <th></th>\n",
       "      <th colspan=\"2\" halign=\"left\">volume</th>\n",
       "      <th colspan=\"2\" halign=\"left\">surface_area</th>\n",
       "      <th colspan=\"2\" halign=\"left\">svr_clust</th>\n",
       "      <th colspan=\"2\" halign=\"left\">clust_quantity</th>\n",
       "      <th colspan=\"2\" halign=\"left\">clust_quantity_per_125</th>\n",
       "      <th colspan=\"2\" halign=\"left\">sum_volume</th>\n",
       "    </tr>\n",
       "    <tr>\n",
       "      <th></th>\n",
       "      <th></th>\n",
       "      <th>exp_group</th>\n",
       "      <th>ctrl</th>\n",
       "      <th>SE</th>\n",
       "      <th>ctrl</th>\n",
       "      <th>SE</th>\n",
       "      <th>ctrl</th>\n",
       "      <th>SE</th>\n",
       "      <th>ctrl</th>\n",
       "      <th>SE</th>\n",
       "      <th>ctrl</th>\n",
       "      <th>SE</th>\n",
       "      <th>ctrl</th>\n",
       "      <th>SE</th>\n",
       "    </tr>\n",
       "    <tr>\n",
       "      <th>animal_num</th>\n",
       "      <th>slice_num</th>\n",
       "      <th>cell_num</th>\n",
       "      <th></th>\n",
       "      <th></th>\n",
       "      <th></th>\n",
       "      <th></th>\n",
       "      <th></th>\n",
       "      <th></th>\n",
       "      <th></th>\n",
       "      <th></th>\n",
       "      <th></th>\n",
       "      <th></th>\n",
       "      <th></th>\n",
       "      <th></th>\n",
       "    </tr>\n",
       "  </thead>\n",
       "  <tbody>\n",
       "    <tr>\n",
       "      <th rowspan=\"4\" valign=\"top\">1</th>\n",
       "      <th rowspan=\"2\" valign=\"top\">1</th>\n",
       "      <th>1</th>\n",
       "      <td>0.065</td>\n",
       "      <td>0.065</td>\n",
       "      <td>1.317</td>\n",
       "      <td>1.3675</td>\n",
       "      <td>20.709831</td>\n",
       "      <td>20.862692</td>\n",
       "      <td>1474.0</td>\n",
       "      <td>9356.0</td>\n",
       "      <td>18.574054</td>\n",
       "      <td>118.125891</td>\n",
       "      <td>143.9276</td>\n",
       "      <td>793.0497</td>\n",
       "    </tr>\n",
       "    <tr>\n",
       "      <th>2</th>\n",
       "      <td>0.090</td>\n",
       "      <td>NaN</td>\n",
       "      <td>1.775</td>\n",
       "      <td>NaN</td>\n",
       "      <td>19.237569</td>\n",
       "      <td>NaN</td>\n",
       "      <td>NaN</td>\n",
       "      <td>7531.0</td>\n",
       "      <td>NaN</td>\n",
       "      <td>95.084019</td>\n",
       "      <td>NaN</td>\n",
       "      <td>869.7618</td>\n",
       "    </tr>\n",
       "    <tr>\n",
       "      <th rowspan=\"2\" valign=\"top\">2</th>\n",
       "      <th>1</th>\n",
       "      <td>NaN</td>\n",
       "      <td>0.045</td>\n",
       "      <td>NaN</td>\n",
       "      <td>1.0420</td>\n",
       "      <td>NaN</td>\n",
       "      <td>23.414286</td>\n",
       "      <td>1102.0</td>\n",
       "      <td>NaN</td>\n",
       "      <td>13.886436</td>\n",
       "      <td>NaN</td>\n",
       "      <td>58.9469</td>\n",
       "      <td>NaN</td>\n",
       "    </tr>\n",
       "    <tr>\n",
       "      <th>2</th>\n",
       "      <td>NaN</td>\n",
       "      <td>0.048</td>\n",
       "      <td>NaN</td>\n",
       "      <td>1.1060</td>\n",
       "      <td>NaN</td>\n",
       "      <td>22.611111</td>\n",
       "      <td>1873.0</td>\n",
       "      <td>NaN</td>\n",
       "      <td>23.601901</td>\n",
       "      <td>NaN</td>\n",
       "      <td>114.9464</td>\n",
       "      <td>NaN</td>\n",
       "    </tr>\n",
       "    <tr>\n",
       "      <th>2</th>\n",
       "      <th>1</th>\n",
       "      <th>1</th>\n",
       "      <td>0.162</td>\n",
       "      <td>0.048</td>\n",
       "      <td>2.402</td>\n",
       "      <td>1.0630</td>\n",
       "      <td>15.080822</td>\n",
       "      <td>22.357143</td>\n",
       "      <td>2650.0</td>\n",
       "      <td>6144.0</td>\n",
       "      <td>33.392973</td>\n",
       "      <td>77.572197</td>\n",
       "      <td>159.1511</td>\n",
       "      <td>1026.2796</td>\n",
       "    </tr>\n",
       "  </tbody>\n",
       "</table>\n",
       "</div>"
      ],
      "text/plain": [
       "                              volume        surface_area          svr_clust  \\\n",
       "exp_group                       ctrl     SE         ctrl      SE       ctrl   \n",
       "animal_num slice_num cell_num                                                 \n",
       "1          1         1         0.065  0.065        1.317  1.3675  20.709831   \n",
       "                     2         0.090    NaN        1.775     NaN  19.237569   \n",
       "           2         1           NaN  0.045          NaN  1.0420        NaN   \n",
       "                     2           NaN  0.048          NaN  1.1060        NaN   \n",
       "2          1         1         0.162  0.048        2.402  1.0630  15.080822   \n",
       "\n",
       "                                         clust_quantity          \\\n",
       "exp_group                             SE           ctrl      SE   \n",
       "animal_num slice_num cell_num                                     \n",
       "1          1         1         20.862692         1474.0  9356.0   \n",
       "                     2               NaN            NaN  7531.0   \n",
       "           2         1         23.414286         1102.0     NaN   \n",
       "                     2         22.611111         1873.0     NaN   \n",
       "2          1         1         22.357143         2650.0  6144.0   \n",
       "\n",
       "                              clust_quantity_per_125             sum_volume  \\\n",
       "exp_group                                       ctrl          SE       ctrl   \n",
       "animal_num slice_num cell_num                                                 \n",
       "1          1         1                     18.574054  118.125891   143.9276   \n",
       "                     2                           NaN   95.084019        NaN   \n",
       "           2         1                     13.886436         NaN    58.9469   \n",
       "                     2                     23.601901         NaN   114.9464   \n",
       "2          1         1                     33.392973   77.572197   159.1511   \n",
       "\n",
       "                                          \n",
       "exp_group                             SE  \n",
       "animal_num slice_num cell_num             \n",
       "1          1         1          793.0497  \n",
       "                     2          869.7618  \n",
       "           2         1               NaN  \n",
       "                     2               NaN  \n",
       "2          1         1         1026.2796  "
      ]
     },
     "execution_count": 147,
     "metadata": {},
     "output_type": "execute_result"
    }
   ],
   "source": [
    "wide_clust [[('sum_volume', 'ctrl'), (('sum_volume', 'SE'))]] = pd.pivot_table(data_clust,\n",
    "                                                                            index = ['animal_num','slice_num','cell_num'],\n",
    "                                                                            columns = ['exp_group'],\n",
    "                                                                            values = ['volume'],\n",
    "                                                                            aggfunc = 'sum')\n",
    "wide_clust.head()"
   ]
  },
  {
   "cell_type": "markdown",
   "metadata": {},
   "source": [
    "Then, we divide sum_volume on total volume to obtain VF"
   ]
  },
  {
   "cell_type": "code",
   "execution_count": 148,
   "metadata": {},
   "outputs": [
    {
     "data": {
      "text/html": [
       "<div>\n",
       "<style scoped>\n",
       "    .dataframe tbody tr th:only-of-type {\n",
       "        vertical-align: middle;\n",
       "    }\n",
       "\n",
       "    .dataframe tbody tr th {\n",
       "        vertical-align: top;\n",
       "    }\n",
       "\n",
       "    .dataframe thead tr th {\n",
       "        text-align: left;\n",
       "    }\n",
       "\n",
       "    .dataframe thead tr:last-of-type th {\n",
       "        text-align: right;\n",
       "    }\n",
       "</style>\n",
       "<table border=\"1\" class=\"dataframe\">\n",
       "  <thead>\n",
       "    <tr>\n",
       "      <th></th>\n",
       "      <th></th>\n",
       "      <th></th>\n",
       "      <th colspan=\"2\" halign=\"left\">volume</th>\n",
       "      <th colspan=\"2\" halign=\"left\">surface_area</th>\n",
       "      <th colspan=\"2\" halign=\"left\">svr_clust</th>\n",
       "      <th colspan=\"2\" halign=\"left\">clust_quantity</th>\n",
       "      <th colspan=\"2\" halign=\"left\">clust_quantity_per_125</th>\n",
       "      <th colspan=\"2\" halign=\"left\">sum_volume</th>\n",
       "      <th colspan=\"2\" halign=\"left\">vf</th>\n",
       "    </tr>\n",
       "    <tr>\n",
       "      <th></th>\n",
       "      <th></th>\n",
       "      <th>exp_group</th>\n",
       "      <th>ctrl</th>\n",
       "      <th>SE</th>\n",
       "      <th>ctrl</th>\n",
       "      <th>SE</th>\n",
       "      <th>ctrl</th>\n",
       "      <th>SE</th>\n",
       "      <th>ctrl</th>\n",
       "      <th>SE</th>\n",
       "      <th>ctrl</th>\n",
       "      <th>SE</th>\n",
       "      <th>ctrl</th>\n",
       "      <th>SE</th>\n",
       "      <th>ctrl</th>\n",
       "      <th>SE</th>\n",
       "    </tr>\n",
       "    <tr>\n",
       "      <th>animal_num</th>\n",
       "      <th>slice_num</th>\n",
       "      <th>cell_num</th>\n",
       "      <th></th>\n",
       "      <th></th>\n",
       "      <th></th>\n",
       "      <th></th>\n",
       "      <th></th>\n",
       "      <th></th>\n",
       "      <th></th>\n",
       "      <th></th>\n",
       "      <th></th>\n",
       "      <th></th>\n",
       "      <th></th>\n",
       "      <th></th>\n",
       "      <th></th>\n",
       "      <th></th>\n",
       "    </tr>\n",
       "  </thead>\n",
       "  <tbody>\n",
       "    <tr>\n",
       "      <th rowspan=\"4\" valign=\"top\">1</th>\n",
       "      <th rowspan=\"2\" valign=\"top\">1</th>\n",
       "      <th>1</th>\n",
       "      <td>0.065</td>\n",
       "      <td>0.065</td>\n",
       "      <td>1.317</td>\n",
       "      <td>1.3675</td>\n",
       "      <td>20.709831</td>\n",
       "      <td>20.862692</td>\n",
       "      <td>1474.0</td>\n",
       "      <td>9356.0</td>\n",
       "      <td>18.574054</td>\n",
       "      <td>118.125891</td>\n",
       "      <td>143.9276</td>\n",
       "      <td>793.0497</td>\n",
       "      <td>0.014509</td>\n",
       "      <td>0.080102</td>\n",
       "    </tr>\n",
       "    <tr>\n",
       "      <th>2</th>\n",
       "      <td>0.090</td>\n",
       "      <td>NaN</td>\n",
       "      <td>1.775</td>\n",
       "      <td>NaN</td>\n",
       "      <td>19.237569</td>\n",
       "      <td>NaN</td>\n",
       "      <td>NaN</td>\n",
       "      <td>7531.0</td>\n",
       "      <td>NaN</td>\n",
       "      <td>95.084019</td>\n",
       "      <td>NaN</td>\n",
       "      <td>869.7618</td>\n",
       "      <td>NaN</td>\n",
       "      <td>0.087851</td>\n",
       "    </tr>\n",
       "    <tr>\n",
       "      <th rowspan=\"2\" valign=\"top\">2</th>\n",
       "      <th>1</th>\n",
       "      <td>NaN</td>\n",
       "      <td>0.045</td>\n",
       "      <td>NaN</td>\n",
       "      <td>1.0420</td>\n",
       "      <td>NaN</td>\n",
       "      <td>23.414286</td>\n",
       "      <td>1102.0</td>\n",
       "      <td>NaN</td>\n",
       "      <td>13.886436</td>\n",
       "      <td>NaN</td>\n",
       "      <td>58.9469</td>\n",
       "      <td>NaN</td>\n",
       "      <td>0.005942</td>\n",
       "      <td>NaN</td>\n",
       "    </tr>\n",
       "    <tr>\n",
       "      <th>2</th>\n",
       "      <td>NaN</td>\n",
       "      <td>0.048</td>\n",
       "      <td>NaN</td>\n",
       "      <td>1.1060</td>\n",
       "      <td>NaN</td>\n",
       "      <td>22.611111</td>\n",
       "      <td>1873.0</td>\n",
       "      <td>NaN</td>\n",
       "      <td>23.601901</td>\n",
       "      <td>NaN</td>\n",
       "      <td>114.9464</td>\n",
       "      <td>NaN</td>\n",
       "      <td>0.011588</td>\n",
       "      <td>NaN</td>\n",
       "    </tr>\n",
       "    <tr>\n",
       "      <th>2</th>\n",
       "      <th>1</th>\n",
       "      <th>1</th>\n",
       "      <td>0.162</td>\n",
       "      <td>0.048</td>\n",
       "      <td>2.402</td>\n",
       "      <td>1.0630</td>\n",
       "      <td>15.080822</td>\n",
       "      <td>22.357143</td>\n",
       "      <td>2650.0</td>\n",
       "      <td>6144.0</td>\n",
       "      <td>33.392973</td>\n",
       "      <td>77.572197</td>\n",
       "      <td>159.1511</td>\n",
       "      <td>1026.2796</td>\n",
       "      <td>0.016044</td>\n",
       "      <td>0.103660</td>\n",
       "    </tr>\n",
       "  </tbody>\n",
       "</table>\n",
       "</div>"
      ],
      "text/plain": [
       "                              volume        surface_area          svr_clust  \\\n",
       "exp_group                       ctrl     SE         ctrl      SE       ctrl   \n",
       "animal_num slice_num cell_num                                                 \n",
       "1          1         1         0.065  0.065        1.317  1.3675  20.709831   \n",
       "                     2         0.090    NaN        1.775     NaN  19.237569   \n",
       "           2         1           NaN  0.045          NaN  1.0420        NaN   \n",
       "                     2           NaN  0.048          NaN  1.1060        NaN   \n",
       "2          1         1         0.162  0.048        2.402  1.0630  15.080822   \n",
       "\n",
       "                                         clust_quantity          \\\n",
       "exp_group                             SE           ctrl      SE   \n",
       "animal_num slice_num cell_num                                     \n",
       "1          1         1         20.862692         1474.0  9356.0   \n",
       "                     2               NaN            NaN  7531.0   \n",
       "           2         1         23.414286         1102.0     NaN   \n",
       "                     2         22.611111         1873.0     NaN   \n",
       "2          1         1         22.357143         2650.0  6144.0   \n",
       "\n",
       "                              clust_quantity_per_125             sum_volume  \\\n",
       "exp_group                                       ctrl          SE       ctrl   \n",
       "animal_num slice_num cell_num                                                 \n",
       "1          1         1                     18.574054  118.125891   143.9276   \n",
       "                     2                           NaN   95.084019        NaN   \n",
       "           2         1                     13.886436         NaN    58.9469   \n",
       "                     2                     23.601901         NaN   114.9464   \n",
       "2          1         1                     33.392973   77.572197   159.1511   \n",
       "\n",
       "                                                vf            \n",
       "exp_group                             SE      ctrl        SE  \n",
       "animal_num slice_num cell_num                                 \n",
       "1          1         1          793.0497  0.014509  0.080102  \n",
       "                     2          869.7618       NaN  0.087851  \n",
       "           2         1               NaN  0.005942       NaN  \n",
       "                     2               NaN  0.011588       NaN  \n",
       "2          1         1         1026.2796  0.016044  0.103660  "
      ]
     },
     "execution_count": 148,
     "metadata": {},
     "output_type": "execute_result"
    }
   ],
   "source": [
    "wide_clust [('vf', 'ctrl')] = wide_clust[('sum_volume', 'ctrl')]/tot_vol_df.mean()[0]\n",
    "wide_clust [('vf', 'SE')] = wide_clust[('sum_volume', 'SE')]/tot_vol_df.mean()[1]\n",
    "wide_clust.head()"
   ]
  },
  {
   "cell_type": "code",
   "execution_count": 149,
   "metadata": {},
   "outputs": [
    {
     "name": "stdout",
     "output_type": "stream",
     "text": [
      "p-value annotation legend:\n",
      "ns: 5.00e-02 < p <= 1.00e+00\n",
      "*: 1.00e-02 < p <= 5.00e-02\n",
      "**: 1.00e-03 < p <= 1.00e-02\n",
      "***: 1.00e-04 < p <= 1.00e-03\n",
      "****: p <= 1.00e-04\n",
      "\n",
      "('vf', 'ctrl') v.s. ('vf', 'SE'): Mann-Whitney-Wilcoxon test two-sided, P_val=1.423e-01 U_stat=3.170e+02\n"
     ]
    },
    {
     "data": {
      "image/png": "[encoded data removed]",
      "text/plain": [
       "<Figure size 216x360 with 1 Axes>"
      ]
     },
     "metadata": {},
     "output_type": "display_data"
    }
   ],
   "source": [
    "boxplot_fine_view(data=wide_clust.iloc[:, 12:14], \n",
    "                    box_pairs=(('vf','ctrl'),('vf','SE')),\n",
    "                    ylabel=f'Объем {CLUST_PROTEIN}',\n",
    "                    ylim=[0.0001, 0.3], ytick = 0.05,\n",
    "                    figname = f'{save_folder}/VF {CLUST_PROTEIN} с разным объемом boxplot per cell')"
   ]
  },
  {
   "cell_type": "markdown",
   "metadata": {},
   "source": [
    "The samples also has no difference in the VF."
   ]
  },
  {
   "cell_type": "markdown",
   "metadata": {},
   "source": [
    "## Step 3. s100b calculation\n",
    "\n",
    "Since s100b does not aggregates in clusters, we consider using only the volume of the fraction (VF)."
   ]
  },
  {
   "cell_type": "markdown",
   "metadata": {},
   "source": [
    "### s100b volume fraction ctrl vs SE"
   ]
  },
  {
   "cell_type": "code",
   "execution_count": 150,
   "metadata": {},
   "outputs": [
    {
     "data": {
      "text/html": [
       "<div>\n",
       "<style scoped>\n",
       "    .dataframe tbody tr th:only-of-type {\n",
       "        vertical-align: middle;\n",
       "    }\n",
       "\n",
       "    .dataframe tbody tr th {\n",
       "        vertical-align: top;\n",
       "    }\n",
       "\n",
       "    .dataframe thead tr th {\n",
       "        text-align: left;\n",
       "    }\n",
       "\n",
       "    .dataframe thead tr:last-of-type th {\n",
       "        text-align: right;\n",
       "    }\n",
       "</style>\n",
       "<table border=\"1\" class=\"dataframe\">\n",
       "  <thead>\n",
       "    <tr>\n",
       "      <th></th>\n",
       "      <th></th>\n",
       "      <th></th>\n",
       "      <th colspan=\"2\" halign=\"left\">volume</th>\n",
       "    </tr>\n",
       "    <tr>\n",
       "      <th></th>\n",
       "      <th></th>\n",
       "      <th>exp_group</th>\n",
       "      <th>ctrl</th>\n",
       "      <th>SE</th>\n",
       "    </tr>\n",
       "    <tr>\n",
       "      <th>animal_num</th>\n",
       "      <th>slice_num</th>\n",
       "      <th>cell_num</th>\n",
       "      <th></th>\n",
       "      <th></th>\n",
       "    </tr>\n",
       "  </thead>\n",
       "  <tbody>\n",
       "    <tr>\n",
       "      <th rowspan=\"4\" valign=\"top\">1</th>\n",
       "      <th rowspan=\"2\" valign=\"top\">1</th>\n",
       "      <th>1</th>\n",
       "      <td>3999.099</td>\n",
       "      <td>3257.818</td>\n",
       "    </tr>\n",
       "    <tr>\n",
       "      <th>2</th>\n",
       "      <td>5448.125</td>\n",
       "      <td>NaN</td>\n",
       "    </tr>\n",
       "    <tr>\n",
       "      <th rowspan=\"2\" valign=\"top\">2</th>\n",
       "      <th>1</th>\n",
       "      <td>NaN</td>\n",
       "      <td>1017.618</td>\n",
       "    </tr>\n",
       "    <tr>\n",
       "      <th>2</th>\n",
       "      <td>NaN</td>\n",
       "      <td>823.329</td>\n",
       "    </tr>\n",
       "    <tr>\n",
       "      <th>2</th>\n",
       "      <th>1</th>\n",
       "      <th>1</th>\n",
       "      <td>7474.594</td>\n",
       "      <td>4988.328</td>\n",
       "    </tr>\n",
       "  </tbody>\n",
       "</table>\n",
       "</div>"
      ],
      "text/plain": [
       "                                 volume          \n",
       "exp_group                          ctrl        SE\n",
       "animal_num slice_num cell_num                    \n",
       "1          1         1         3999.099  3257.818\n",
       "                     2         5448.125       NaN\n",
       "           2         1              NaN  1017.618\n",
       "                     2              NaN   823.329\n",
       "2          1         1         7474.594  4988.328"
      ]
     },
     "execution_count": 150,
     "metadata": {},
     "output_type": "execute_result"
    }
   ],
   "source": [
    "wide_cell = pd.pivot_table(data_cell,\n",
    "                        index = ['animal_num','slice_num','cell_num'],\n",
    "                        columns = ['exp_group'],\n",
    "                        values = ['volume'],\n",
    "                        aggfunc = 'sum')\n",
    "wide_cell = wide_cell.reindex(columns=[('volume','ctrl'),('volume','SE')])\n",
    "wide_cell.head()"
   ]
  },
  {
   "cell_type": "code",
   "execution_count": 151,
   "metadata": {},
   "outputs": [
    {
     "data": {
      "text/plain": [
       "TotVol_Cx43_ctrl    9919.751697\n",
       "TotVol_Cx43_SE      9900.454446\n",
       "dtype: float64"
      ]
     },
     "execution_count": 151,
     "metadata": {},
     "output_type": "execute_result"
    }
   ],
   "source": [
    "tot_vol_df.mean()"
   ]
  },
  {
   "cell_type": "code",
   "execution_count": 152,
   "metadata": {},
   "outputs": [
    {
     "data": {
      "text/html": [
       "<div>\n",
       "<style scoped>\n",
       "    .dataframe tbody tr th:only-of-type {\n",
       "        vertical-align: middle;\n",
       "    }\n",
       "\n",
       "    .dataframe tbody tr th {\n",
       "        vertical-align: top;\n",
       "    }\n",
       "\n",
       "    .dataframe thead tr th {\n",
       "        text-align: left;\n",
       "    }\n",
       "\n",
       "    .dataframe thead tr:last-of-type th {\n",
       "        text-align: right;\n",
       "    }\n",
       "</style>\n",
       "<table border=\"1\" class=\"dataframe\">\n",
       "  <thead>\n",
       "    <tr>\n",
       "      <th></th>\n",
       "      <th></th>\n",
       "      <th></th>\n",
       "      <th colspan=\"2\" halign=\"left\">volume</th>\n",
       "      <th colspan=\"2\" halign=\"left\">vf</th>\n",
       "    </tr>\n",
       "    <tr>\n",
       "      <th></th>\n",
       "      <th></th>\n",
       "      <th>exp_group</th>\n",
       "      <th>ctrl</th>\n",
       "      <th>SE</th>\n",
       "      <th>ctrl</th>\n",
       "      <th>SE</th>\n",
       "    </tr>\n",
       "    <tr>\n",
       "      <th>animal_num</th>\n",
       "      <th>slice_num</th>\n",
       "      <th>cell_num</th>\n",
       "      <th></th>\n",
       "      <th></th>\n",
       "      <th></th>\n",
       "      <th></th>\n",
       "    </tr>\n",
       "  </thead>\n",
       "  <tbody>\n",
       "    <tr>\n",
       "      <th rowspan=\"4\" valign=\"top\">1</th>\n",
       "      <th rowspan=\"2\" valign=\"top\">1</th>\n",
       "      <th>1</th>\n",
       "      <td>3999.099</td>\n",
       "      <td>3257.818</td>\n",
       "      <td>0.403145</td>\n",
       "      <td>0.329057</td>\n",
       "    </tr>\n",
       "    <tr>\n",
       "      <th>2</th>\n",
       "      <td>5448.125</td>\n",
       "      <td>NaN</td>\n",
       "      <td>0.549220</td>\n",
       "      <td>NaN</td>\n",
       "    </tr>\n",
       "    <tr>\n",
       "      <th rowspan=\"2\" valign=\"top\">2</th>\n",
       "      <th>1</th>\n",
       "      <td>NaN</td>\n",
       "      <td>1017.618</td>\n",
       "      <td>NaN</td>\n",
       "      <td>0.102785</td>\n",
       "    </tr>\n",
       "    <tr>\n",
       "      <th>2</th>\n",
       "      <td>NaN</td>\n",
       "      <td>823.329</td>\n",
       "      <td>NaN</td>\n",
       "      <td>0.083161</td>\n",
       "    </tr>\n",
       "    <tr>\n",
       "      <th>2</th>\n",
       "      <th>1</th>\n",
       "      <th>1</th>\n",
       "      <td>7474.594</td>\n",
       "      <td>4988.328</td>\n",
       "      <td>0.753506</td>\n",
       "      <td>0.503848</td>\n",
       "    </tr>\n",
       "  </tbody>\n",
       "</table>\n",
       "</div>"
      ],
      "text/plain": [
       "                                 volume                  vf          \n",
       "exp_group                          ctrl        SE      ctrl        SE\n",
       "animal_num slice_num cell_num                                        \n",
       "1          1         1         3999.099  3257.818  0.403145  0.329057\n",
       "                     2         5448.125       NaN  0.549220       NaN\n",
       "           2         1              NaN  1017.618       NaN  0.102785\n",
       "                     2              NaN   823.329       NaN  0.083161\n",
       "2          1         1         7474.594  4988.328  0.753506  0.503848"
      ]
     },
     "execution_count": 152,
     "metadata": {},
     "output_type": "execute_result"
    }
   ],
   "source": [
    "wide_cell[('vf','ctrl')] = wide_cell.iloc[:,0]/tot_vol_df.mean()[0]\n",
    "wide_cell[('vf','SE')] = wide_cell.iloc[:,1]/tot_vol_df.mean()[1]\n",
    "wide_cell.head()"
   ]
  },
  {
   "cell_type": "code",
   "execution_count": 153,
   "metadata": {},
   "outputs": [
    {
     "name": "stdout",
     "output_type": "stream",
     "text": [
      "p-value annotation legend:\n",
      "ns: 5.00e-02 < p <= 1.00e+00\n",
      "*: 1.00e-02 < p <= 5.00e-02\n",
      "**: 1.00e-03 < p <= 1.00e-02\n",
      "***: 1.00e-04 < p <= 1.00e-03\n",
      "****: p <= 1.00e-04\n",
      "\n",
      "('vf', 'ctrl') v.s. ('vf', 'SE'): Mann-Whitney-Wilcoxon test two-sided, P_val=9.365e-01 U_stat=2.560e+02\n"
     ]
    },
    {
     "data": {
      "image/png": "[encoded data removed]",
      "text/plain": [
       "<Figure size 216x360 with 1 Axes>"
      ]
     },
     "metadata": {},
     "output_type": "display_data"
    }
   ],
   "source": [
    "boxplot_fine_view(data=wide_cell.iloc[:,2:4], box_pairs=(('vf', 'ctrl'), ('vf', 'SE')), \n",
    "                        ylabel = f'VF {CELL_PROTEIN}', ylim = [0.0001, 1.6],\n",
    "                        ytick = 0.2, figname= f'{save_folder}/VF {CELL_PROTEIN}')"
   ]
  },
  {
   "cell_type": "code",
   "execution_count": 154,
   "metadata": {},
   "outputs": [
    {
     "name": "stdout",
     "output_type": "stream",
     "text": [
      "                 vf          \n",
      "exp_group      ctrl        SE\n",
      "0.25       0.389820  0.329057\n",
      "0.50       0.539015  0.598177\n",
      "0.75       0.662679  0.669183\n"
     ]
    }
   ],
   "source": [
    "percentile_vf_cell = wide_cell.iloc[:, 2:4].quantile([0.25, 0.50 , 0.75])\n",
    "print(percentile_vf_cell)"
   ]
  },
  {
   "cell_type": "code",
   "execution_count": 155,
   "metadata": {},
   "outputs": [
    {
     "name": "stdout",
     "output_type": "stream",
     "text": [
      "Statistics=256.000, p=0.93653332\n"
     ]
    }
   ],
   "source": [
    "stat_vf_cell, p_vf_cell= mannwhitneyu(wide_cell.iloc[:, 2].dropna(), wide_cell.iloc[:, 3].dropna())\n",
    "print('Statistics=%.3f, p=%.8f' % (stat_vf_cell, p_vf_cell))"
   ]
  },
  {
   "cell_type": "markdown",
   "metadata": {},
   "source": [
    "We see that after SE, s100b volume fraction doesn't change significantly."
   ]
  },
  {
   "cell_type": "markdown",
   "metadata": {},
   "source": [
    "## Step 4. Save result "
   ]
  },
  {
   "cell_type": "markdown",
   "metadata": {},
   "source": [
    "Save obtain statistical criteria to excel file"
   ]
  },
  {
   "cell_type": "code",
   "execution_count": 156,
   "metadata": {},
   "outputs": [
    {
     "data": {
      "text/html": [
       "<div>\n",
       "<style scoped>\n",
       "    .dataframe tbody tr th:only-of-type {\n",
       "        vertical-align: middle;\n",
       "    }\n",
       "\n",
       "    .dataframe tbody tr th {\n",
       "        vertical-align: top;\n",
       "    }\n",
       "\n",
       "    .dataframe thead th {\n",
       "        text-align: right;\n",
       "    }\n",
       "</style>\n",
       "<table border=\"1\" class=\"dataframe\">\n",
       "  <thead>\n",
       "    <tr style=\"text-align: right;\">\n",
       "      <th></th>\n",
       "      <th>p-value</th>\n",
       "      <th>MW(U)</th>\n",
       "    </tr>\n",
       "  </thead>\n",
       "  <tbody>\n",
       "    <tr>\n",
       "      <th>clust_num</th>\n",
       "      <td>0.459664</td>\n",
       "      <td>285.000000</td>\n",
       "    </tr>\n",
       "    <tr>\n",
       "      <th>ks_test</th>\n",
       "      <td>0.000000</td>\n",
       "      <td>0.192707</td>\n",
       "    </tr>\n",
       "    <tr>\n",
       "      <th>svr_num</th>\n",
       "      <td>0.113837</td>\n",
       "      <td>322.000000</td>\n",
       "    </tr>\n",
       "    <tr>\n",
       "      <th>vf_cell</th>\n",
       "      <td>0.936533</td>\n",
       "      <td>256.000000</td>\n",
       "    </tr>\n",
       "  </tbody>\n",
       "</table>\n",
       "</div>"
      ],
      "text/plain": [
       "            p-value       MW(U)\n",
       "clust_num  0.459664  285.000000\n",
       " ks_test   0.000000    0.192707\n",
       "svr_num    0.113837  322.000000\n",
       "vf_cell    0.936533  256.000000"
      ]
     },
     "execution_count": 156,
     "metadata": {},
     "output_type": "execute_result"
    }
   ],
   "source": [
    "stat_table_final = pd.DataFrame(data =[(p_clust_num,stat_clust_num), (p_ks_test, stat_ks_test), \n",
    "                                        (p_svr_num, stat_svr_num), (p_vf_cell, stat_vf_cell)], \n",
    "                                index=['clust_num',' ks_test','svr_num', 'vf_cell'],\n",
    "                                columns = ['p-value', 'MW(U)'])\n",
    "stat_table_final"
   ]
  },
  {
   "cell_type": "code",
   "execution_count": 157,
   "metadata": {},
   "outputs": [
    {
     "data": {
      "text/html": [
       "<div>\n",
       "<style scoped>\n",
       "    .dataframe tbody tr th:only-of-type {\n",
       "        vertical-align: middle;\n",
       "    }\n",
       "\n",
       "    .dataframe tbody tr th {\n",
       "        vertical-align: top;\n",
       "    }\n",
       "\n",
       "    .dataframe thead th {\n",
       "        text-align: right;\n",
       "    }\n",
       "</style>\n",
       "<table border=\"1\" class=\"dataframe\">\n",
       "  <thead>\n",
       "    <tr style=\"text-align: right;\">\n",
       "      <th></th>\n",
       "      <th></th>\n",
       "      <th>ctrl</th>\n",
       "      <th>SE</th>\n",
       "    </tr>\n",
       "  </thead>\n",
       "  <tbody>\n",
       "    <tr>\n",
       "      <th rowspan=\"3\" valign=\"top\">num_clusters</th>\n",
       "      <th>0.25</th>\n",
       "      <td>33.392973</td>\n",
       "      <td>23.436424</td>\n",
       "    </tr>\n",
       "    <tr>\n",
       "      <th>0.50</th>\n",
       "      <td>62.047924</td>\n",
       "      <td>48.116478</td>\n",
       "    </tr>\n",
       "    <tr>\n",
       "      <th>0.75</th>\n",
       "      <td>89.001724</td>\n",
       "      <td>82.029063</td>\n",
       "    </tr>\n",
       "    <tr>\n",
       "      <th rowspan=\"3\" valign=\"top\">svr_clusters</th>\n",
       "      <th>0.25</th>\n",
       "      <td>18.949010</td>\n",
       "      <td>15.420561</td>\n",
       "    </tr>\n",
       "    <tr>\n",
       "      <th>0.50</th>\n",
       "      <td>21.420376</td>\n",
       "      <td>20.862692</td>\n",
       "    </tr>\n",
       "    <tr>\n",
       "      <th>0.75</th>\n",
       "      <td>26.361577</td>\n",
       "      <td>22.357143</td>\n",
       "    </tr>\n",
       "    <tr>\n",
       "      <th rowspan=\"3\" valign=\"top\">vf_cell</th>\n",
       "      <th>0.25</th>\n",
       "      <td>0.389820</td>\n",
       "      <td>0.329057</td>\n",
       "    </tr>\n",
       "    <tr>\n",
       "      <th>0.50</th>\n",
       "      <td>0.539015</td>\n",
       "      <td>0.598177</td>\n",
       "    </tr>\n",
       "    <tr>\n",
       "      <th>0.75</th>\n",
       "      <td>0.662679</td>\n",
       "      <td>0.669183</td>\n",
       "    </tr>\n",
       "  </tbody>\n",
       "</table>\n",
       "</div>"
      ],
      "text/plain": [
       "                        ctrl         SE\n",
       "num_clusters 0.25  33.392973  23.436424\n",
       "             0.50  62.047924  48.116478\n",
       "             0.75  89.001724  82.029063\n",
       "svr_clusters 0.25  18.949010  15.420561\n",
       "             0.50  21.420376  20.862692\n",
       "             0.75  26.361577  22.357143\n",
       "vf_cell      0.25   0.389820   0.329057\n",
       "             0.50   0.539015   0.598177\n",
       "             0.75   0.662679   0.669183"
      ]
     },
     "execution_count": 157,
     "metadata": {},
     "output_type": "execute_result"
    }
   ],
   "source": [
    "perc_table_final = pd.concat([pd.DataFrame(data = percentile_num_clusters.values, index=[0.25, 0.50, 0.75], columns = ['ctrl', 'SE']), \n",
    "           pd.DataFrame(data = percentile_svr_clusters.values, index=[0.25, 0.50, 0.75], columns = ['ctrl', 'SE']),\n",
    "           pd.DataFrame(data = percentile_vf_cell.values, index=[0.25, 0.50, 0.75], columns = ['ctrl', 'SE'])], \n",
    "           axis = 0, keys=['num_clusters', 'svr_clusters', 'vf_cell'])\n",
    "perc_table_final"
   ]
  },
  {
   "cell_type": "code",
   "execution_count": 158,
   "metadata": {},
   "outputs": [],
   "source": [
    "with pd.ExcelWriter(f'output_table/final_out_{CELL_PROTEIN}_{CLUST_PROTEIN}.xlsx') as writer:  \n",
    "    perc_table_final.to_excel(writer, sheet_name='Percentiles', float_format=\"%.2f\")\n",
    "    stat_table_final.to_excel(writer, sheet_name='P-val, MW(U)', float_format=\"%.10f\")"
   ]
  }
 ],
 "metadata": {
  "interpreter": {
   "hash": "690fcc030dbde6f3f652c519b06a0d95da528e66105ed58c88e506e5818277cb"
  },
  "kernelspec": {
   "display_name": "Python 3.8.8 ('base')",
   "language": "python",
   "name": "python3"
  },
  "language_info": {
   "codemirror_mode": {
    "name": "ipython",
    "version": 3
   },
   "file_extension": ".py",
   "mimetype": "text/x-python",
   "name": "python",
   "nbconvert_exporter": "python",
   "pygments_lexer": "ipython3",
   "version": "3.8.8"
  },
  "orig_nbformat": 4
 },
 "nbformat": 4,
 "nbformat_minor": 2
}
